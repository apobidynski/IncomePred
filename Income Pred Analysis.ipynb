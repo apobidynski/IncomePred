{
 "cells": [
  {
   "cell_type": "markdown",
   "id": "5377c9c7",
   "metadata": {},
   "source": [
    "# Income classification"
   ]
  },
  {
   "cell_type": "markdown",
   "id": "0f4c929e",
   "metadata": {},
   "source": [
    "The main objective of this analysis is to provide insight on the data around income and accompanying features. Moreover, several models will be built, tuned and confronted to emerge the best of them in terms of accuracy of prediction."
   ]
  },
  {
   "cell_type": "code",
   "execution_count": 263,
   "id": "74f9dc78",
   "metadata": {},
   "outputs": [],
   "source": [
    "#Importing necessary packages\n",
    "import pandas as pd\n",
    "import seaborn as sns\n",
    "from sklearn.preprocessing import LabelEncoder\n",
    "from sklearn.model_selection import train_test_split, learning_curve\n",
    "from sklearn.linear_model import LogisticRegression\n",
    "from sklearn.model_selection import GridSearchCV\n",
    "from sklearn.metrics import precision_recall_fscore_support as score\n",
    "from sklearn.metrics import confusion_matrix, accuracy_score, roc_auc_score, roc_curve, auc, classification_report\n",
    "from sklearn.tree import DecisionTreeClassifier\n",
    "import numpy as np\n",
    "from sklearn.neighbors import KNeighborsClassifier\n",
    "from sklearn.preprocessing import StandardScaler\n",
    "import matplotlib.pyplot as plt\n",
    "from xgboost import XGBClassifier\n",
    "import winsound \n",
    "import datetime\n",
    "from sklearn.ensemble import RandomForestClassifier \n",
    "from sklearn.svm import LinearSVC\n",
    "import dill\n",
    "from imblearn.over_sampling import SMOTE\n",
    "from matplotlib.pyplot import figure\n",
    "from sklearn.inspection import permutation_importance"
   ]
  },
  {
   "cell_type": "markdown",
   "id": "d8e4d654",
   "metadata": {},
   "source": [
    "## Preprocessing"
   ]
  },
  {
   "cell_type": "markdown",
   "id": "a60b5b9c",
   "metadata": {},
   "source": [
    "The dataset consists of 15 features. They are both demographic (like age, sex), social (marital status, relationship) and economical (capital gain, loss). Variable \"income\" is binary and describes wether the person achieved income over $50k or below."
   ]
  },
  {
   "cell_type": "markdown",
   "id": "4927ec7d",
   "metadata": {},
   "source": [
    "The data will be cleaned, NAs will be dropped, redundant variables will be dropped, data types will be aligned. After that, categorical variables will be encoded. If models require, the features will be scaled. After cleaning, train and test sets will be created."
   ]
  },
  {
   "cell_type": "code",
   "execution_count": 264,
   "id": "a662adad",
   "metadata": {},
   "outputs": [],
   "source": [
    "train_url = \"http://archive.ics.uci.edu/ml/machine-learning-databases/adult/adult.data\"\n",
    "test_url = \"http://archive.ics.uci.edu/ml/machine-learning-databases/adult/adult.test\"\n",
    "colnames = [\"age\",\"workclass\",\"fnlwgt\",\"education\",\"education_num\",\"marital_status\",\"occupation\",\"relationship\",\"race\",\"sex\",\"capital_gain\",\"capital_loss\",\"hours_per_week\",\"native_country\",\"income\"]\n",
    "train = pd.read_csv(train_url, names = colnames)\n",
    "test = pd.read_csv(test_url, names = colnames)\n",
    "df = pd.concat([train,test])"
   ]
  },
  {
   "cell_type": "code",
   "execution_count": 265,
   "id": "e13b174f",
   "metadata": {},
   "outputs": [
    {
     "data": {
      "text/plain": [
       "(48843, 15)"
      ]
     },
     "execution_count": 265,
     "metadata": {},
     "output_type": "execute_result"
    }
   ],
   "source": [
    "df.shape"
   ]
  },
  {
   "cell_type": "code",
   "execution_count": 266,
   "id": "c268a67b",
   "metadata": {
    "scrolled": true
   },
   "outputs": [
    {
     "data": {
      "text/html": [
       "<div>\n",
       "<style scoped>\n",
       "    .dataframe tbody tr th:only-of-type {\n",
       "        vertical-align: middle;\n",
       "    }\n",
       "\n",
       "    .dataframe tbody tr th {\n",
       "        vertical-align: top;\n",
       "    }\n",
       "\n",
       "    .dataframe thead th {\n",
       "        text-align: right;\n",
       "    }\n",
       "</style>\n",
       "<table border=\"1\" class=\"dataframe\">\n",
       "  <thead>\n",
       "    <tr style=\"text-align: right;\">\n",
       "      <th></th>\n",
       "      <th>age</th>\n",
       "      <th>workclass</th>\n",
       "      <th>fnlwgt</th>\n",
       "      <th>education</th>\n",
       "      <th>education_num</th>\n",
       "      <th>marital_status</th>\n",
       "      <th>occupation</th>\n",
       "      <th>relationship</th>\n",
       "      <th>race</th>\n",
       "      <th>sex</th>\n",
       "      <th>capital_gain</th>\n",
       "      <th>capital_loss</th>\n",
       "      <th>hours_per_week</th>\n",
       "      <th>native_country</th>\n",
       "      <th>income</th>\n",
       "    </tr>\n",
       "  </thead>\n",
       "  <tbody>\n",
       "    <tr>\n",
       "      <th>0</th>\n",
       "      <td>39</td>\n",
       "      <td>State-gov</td>\n",
       "      <td>77516.0</td>\n",
       "      <td>Bachelors</td>\n",
       "      <td>13.0</td>\n",
       "      <td>Never-married</td>\n",
       "      <td>Adm-clerical</td>\n",
       "      <td>Not-in-family</td>\n",
       "      <td>White</td>\n",
       "      <td>Male</td>\n",
       "      <td>2174.0</td>\n",
       "      <td>0.0</td>\n",
       "      <td>40.0</td>\n",
       "      <td>United-States</td>\n",
       "      <td>&lt;=50K</td>\n",
       "    </tr>\n",
       "    <tr>\n",
       "      <th>1</th>\n",
       "      <td>50</td>\n",
       "      <td>Self-emp-not-inc</td>\n",
       "      <td>83311.0</td>\n",
       "      <td>Bachelors</td>\n",
       "      <td>13.0</td>\n",
       "      <td>Married-civ-spouse</td>\n",
       "      <td>Exec-managerial</td>\n",
       "      <td>Husband</td>\n",
       "      <td>White</td>\n",
       "      <td>Male</td>\n",
       "      <td>0.0</td>\n",
       "      <td>0.0</td>\n",
       "      <td>13.0</td>\n",
       "      <td>United-States</td>\n",
       "      <td>&lt;=50K</td>\n",
       "    </tr>\n",
       "    <tr>\n",
       "      <th>2</th>\n",
       "      <td>38</td>\n",
       "      <td>Private</td>\n",
       "      <td>215646.0</td>\n",
       "      <td>HS-grad</td>\n",
       "      <td>9.0</td>\n",
       "      <td>Divorced</td>\n",
       "      <td>Handlers-cleaners</td>\n",
       "      <td>Not-in-family</td>\n",
       "      <td>White</td>\n",
       "      <td>Male</td>\n",
       "      <td>0.0</td>\n",
       "      <td>0.0</td>\n",
       "      <td>40.0</td>\n",
       "      <td>United-States</td>\n",
       "      <td>&lt;=50K</td>\n",
       "    </tr>\n",
       "    <tr>\n",
       "      <th>3</th>\n",
       "      <td>53</td>\n",
       "      <td>Private</td>\n",
       "      <td>234721.0</td>\n",
       "      <td>11th</td>\n",
       "      <td>7.0</td>\n",
       "      <td>Married-civ-spouse</td>\n",
       "      <td>Handlers-cleaners</td>\n",
       "      <td>Husband</td>\n",
       "      <td>Black</td>\n",
       "      <td>Male</td>\n",
       "      <td>0.0</td>\n",
       "      <td>0.0</td>\n",
       "      <td>40.0</td>\n",
       "      <td>United-States</td>\n",
       "      <td>&lt;=50K</td>\n",
       "    </tr>\n",
       "    <tr>\n",
       "      <th>4</th>\n",
       "      <td>28</td>\n",
       "      <td>Private</td>\n",
       "      <td>338409.0</td>\n",
       "      <td>Bachelors</td>\n",
       "      <td>13.0</td>\n",
       "      <td>Married-civ-spouse</td>\n",
       "      <td>Prof-specialty</td>\n",
       "      <td>Wife</td>\n",
       "      <td>Black</td>\n",
       "      <td>Female</td>\n",
       "      <td>0.0</td>\n",
       "      <td>0.0</td>\n",
       "      <td>40.0</td>\n",
       "      <td>Cuba</td>\n",
       "      <td>&lt;=50K</td>\n",
       "    </tr>\n",
       "  </tbody>\n",
       "</table>\n",
       "</div>"
      ],
      "text/plain": [
       "  age          workclass    fnlwgt   education  education_num  \\\n",
       "0  39          State-gov   77516.0   Bachelors           13.0   \n",
       "1  50   Self-emp-not-inc   83311.0   Bachelors           13.0   \n",
       "2  38            Private  215646.0     HS-grad            9.0   \n",
       "3  53            Private  234721.0        11th            7.0   \n",
       "4  28            Private  338409.0   Bachelors           13.0   \n",
       "\n",
       "        marital_status          occupation    relationship    race      sex  \\\n",
       "0        Never-married        Adm-clerical   Not-in-family   White     Male   \n",
       "1   Married-civ-spouse     Exec-managerial         Husband   White     Male   \n",
       "2             Divorced   Handlers-cleaners   Not-in-family   White     Male   \n",
       "3   Married-civ-spouse   Handlers-cleaners         Husband   Black     Male   \n",
       "4   Married-civ-spouse      Prof-specialty            Wife   Black   Female   \n",
       "\n",
       "   capital_gain  capital_loss  hours_per_week  native_country  income  \n",
       "0        2174.0           0.0            40.0   United-States   <=50K  \n",
       "1           0.0           0.0            13.0   United-States   <=50K  \n",
       "2           0.0           0.0            40.0   United-States   <=50K  \n",
       "3           0.0           0.0            40.0   United-States   <=50K  \n",
       "4           0.0           0.0            40.0            Cuba   <=50K  "
      ]
     },
     "execution_count": 266,
     "metadata": {},
     "output_type": "execute_result"
    }
   ],
   "source": [
    "df.head()"
   ]
  },
  {
   "cell_type": "code",
   "execution_count": 267,
   "id": "b8daff05",
   "metadata": {},
   "outputs": [
    {
     "name": "stdout",
     "output_type": "stream",
     "text": [
      "age               0\n",
      "workclass         1\n",
      "fnlwgt            1\n",
      "education         1\n",
      "education_num     1\n",
      "marital_status    1\n",
      "occupation        1\n",
      "relationship      1\n",
      "race              1\n",
      "sex               1\n",
      "capital_gain      1\n",
      "capital_loss      1\n",
      "hours_per_week    1\n",
      "native_country    1\n",
      "income            1\n",
      "dtype: int64\n"
     ]
    }
   ],
   "source": [
    "print(df.isna().sum())\n",
    "#one missing value in almost each column"
   ]
  },
  {
   "cell_type": "code",
   "execution_count": 268,
   "id": "579c96ac",
   "metadata": {},
   "outputs": [],
   "source": [
    "df.dropna(inplace=True)"
   ]
  },
  {
   "cell_type": "code",
   "execution_count": 269,
   "id": "620b9f50",
   "metadata": {},
   "outputs": [
    {
     "name": "stdout",
     "output_type": "stream",
     "text": [
      "<class 'pandas.core.frame.DataFrame'>\n",
      "Index: 48842 entries, 0 to 16281\n",
      "Data columns (total 15 columns):\n",
      " #   Column          Non-Null Count  Dtype  \n",
      "---  ------          --------------  -----  \n",
      " 0   age             48842 non-null  object \n",
      " 1   workclass       48842 non-null  object \n",
      " 2   fnlwgt          48842 non-null  float64\n",
      " 3   education       48842 non-null  object \n",
      " 4   education_num   48842 non-null  float64\n",
      " 5   marital_status  48842 non-null  object \n",
      " 6   occupation      48842 non-null  object \n",
      " 7   relationship    48842 non-null  object \n",
      " 8   race            48842 non-null  object \n",
      " 9   sex             48842 non-null  object \n",
      " 10  capital_gain    48842 non-null  float64\n",
      " 11  capital_loss    48842 non-null  float64\n",
      " 12  hours_per_week  48842 non-null  float64\n",
      " 13  native_country  48842 non-null  object \n",
      " 14  income          48842 non-null  object \n",
      "dtypes: float64(5), object(10)\n",
      "memory usage: 6.0+ MB\n"
     ]
    }
   ],
   "source": [
    "df.info()\n",
    "#age needs to be converted to numeric, \n",
    "#education can be dropped as its repeated in education_numeric,\n",
    "#capital gain and loss can be combined to capital revenue\n",
    "#relationship - has categories \"husband\" and \"wife\" - can be changed to \"married\", there is other var \"sex\"\n",
    "#martial_status - distinction between spouse absent and spouse armed forces does not bring much information \n",
    "#as they contribute to a little over 1% of data - hence, marriage types will be combined to \"Married\""
   ]
  },
  {
   "cell_type": "code",
   "execution_count": 270,
   "id": "c77501db",
   "metadata": {
    "scrolled": true
   },
   "outputs": [
    {
     "data": {
      "text/html": [
       "<div>\n",
       "<style scoped>\n",
       "    .dataframe tbody tr th:only-of-type {\n",
       "        vertical-align: middle;\n",
       "    }\n",
       "\n",
       "    .dataframe tbody tr th {\n",
       "        vertical-align: top;\n",
       "    }\n",
       "\n",
       "    .dataframe thead th {\n",
       "        text-align: right;\n",
       "    }\n",
       "</style>\n",
       "<table border=\"1\" class=\"dataframe\">\n",
       "  <thead>\n",
       "    <tr style=\"text-align: right;\">\n",
       "      <th></th>\n",
       "      <th>fnlwgt</th>\n",
       "      <th>education_num</th>\n",
       "      <th>capital_gain</th>\n",
       "      <th>capital_loss</th>\n",
       "      <th>hours_per_week</th>\n",
       "    </tr>\n",
       "  </thead>\n",
       "  <tbody>\n",
       "    <tr>\n",
       "      <th>count</th>\n",
       "      <td>4.884200e+04</td>\n",
       "      <td>48842.000000</td>\n",
       "      <td>48842.000000</td>\n",
       "      <td>48842.000000</td>\n",
       "      <td>48842.000000</td>\n",
       "    </tr>\n",
       "    <tr>\n",
       "      <th>mean</th>\n",
       "      <td>1.896641e+05</td>\n",
       "      <td>10.078089</td>\n",
       "      <td>1079.067626</td>\n",
       "      <td>87.502314</td>\n",
       "      <td>40.422382</td>\n",
       "    </tr>\n",
       "    <tr>\n",
       "      <th>std</th>\n",
       "      <td>1.056040e+05</td>\n",
       "      <td>2.570973</td>\n",
       "      <td>7452.019058</td>\n",
       "      <td>403.004552</td>\n",
       "      <td>12.391444</td>\n",
       "    </tr>\n",
       "    <tr>\n",
       "      <th>min</th>\n",
       "      <td>1.228500e+04</td>\n",
       "      <td>1.000000</td>\n",
       "      <td>0.000000</td>\n",
       "      <td>0.000000</td>\n",
       "      <td>1.000000</td>\n",
       "    </tr>\n",
       "    <tr>\n",
       "      <th>25%</th>\n",
       "      <td>1.175505e+05</td>\n",
       "      <td>9.000000</td>\n",
       "      <td>0.000000</td>\n",
       "      <td>0.000000</td>\n",
       "      <td>40.000000</td>\n",
       "    </tr>\n",
       "    <tr>\n",
       "      <th>50%</th>\n",
       "      <td>1.781445e+05</td>\n",
       "      <td>10.000000</td>\n",
       "      <td>0.000000</td>\n",
       "      <td>0.000000</td>\n",
       "      <td>40.000000</td>\n",
       "    </tr>\n",
       "    <tr>\n",
       "      <th>75%</th>\n",
       "      <td>2.376420e+05</td>\n",
       "      <td>12.000000</td>\n",
       "      <td>0.000000</td>\n",
       "      <td>0.000000</td>\n",
       "      <td>45.000000</td>\n",
       "    </tr>\n",
       "    <tr>\n",
       "      <th>max</th>\n",
       "      <td>1.490400e+06</td>\n",
       "      <td>16.000000</td>\n",
       "      <td>99999.000000</td>\n",
       "      <td>4356.000000</td>\n",
       "      <td>99.000000</td>\n",
       "    </tr>\n",
       "  </tbody>\n",
       "</table>\n",
       "</div>"
      ],
      "text/plain": [
       "             fnlwgt  education_num  capital_gain  capital_loss  hours_per_week\n",
       "count  4.884200e+04   48842.000000  48842.000000  48842.000000    48842.000000\n",
       "mean   1.896641e+05      10.078089   1079.067626     87.502314       40.422382\n",
       "std    1.056040e+05       2.570973   7452.019058    403.004552       12.391444\n",
       "min    1.228500e+04       1.000000      0.000000      0.000000        1.000000\n",
       "25%    1.175505e+05       9.000000      0.000000      0.000000       40.000000\n",
       "50%    1.781445e+05      10.000000      0.000000      0.000000       40.000000\n",
       "75%    2.376420e+05      12.000000      0.000000      0.000000       45.000000\n",
       "max    1.490400e+06      16.000000  99999.000000   4356.000000       99.000000"
      ]
     },
     "execution_count": 270,
     "metadata": {},
     "output_type": "execute_result"
    }
   ],
   "source": [
    "df.describe()"
   ]
  },
  {
   "cell_type": "code",
   "execution_count": 271,
   "id": "663a2a56",
   "metadata": {},
   "outputs": [],
   "source": [
    "df['age'] = pd.to_numeric(df['age'], errors='coerce')"
   ]
  },
  {
   "cell_type": "code",
   "execution_count": 272,
   "id": "cb65957e",
   "metadata": {},
   "outputs": [],
   "source": [
    "df = df.drop('education', axis=1)"
   ]
  },
  {
   "cell_type": "code",
   "execution_count": 273,
   "id": "73066783",
   "metadata": {},
   "outputs": [
    {
     "data": {
      "text/plain": [
       "age  workclass          fnlwgt    education_num  marital_status       occupation          relationship    race    sex      capital_gain  capital_loss  hours_per_week  native_country  income \n",
       "25    Private           195994.0  2.0             Never-married        Priv-house-serv     Not-in-family   White   Female  0.0           0.0           40.0             Guatemala       <=50K     3\n",
       "29    Private           36440.0   13.0            Never-married        Adm-clerical        Not-in-family   White   Female  0.0           0.0           40.0             United-States   <=50K.    2\n",
       "19    Private           146679.0  10.0            Never-married        Exec-managerial     Own-child       Black   Male    0.0           0.0           30.0             United-States   <=50K     2\n",
       "42    Private           204235.0  10.0            Married-civ-spouse   Prof-specialty      Husband         White   Male    0.0           0.0           40.0             United-States   >50K      2\n",
       "49    Self-emp-not-inc  43479.0   10.0            Married-civ-spouse   Craft-repair        Husband         White   Male    0.0           0.0           40.0             United-States   <=50K     2\n",
       "                                                                                                                                                                                                 ..\n",
       "31    Private           150309.0  13.0            Separated            Exec-managerial     Not-in-family   White   Female  0.0           0.0           70.0             United-States   <=50K     1\n",
       "                                  16.0            Married-civ-spouse   Prof-specialty      Wife            White   Female  0.0           0.0           90.0             United-States   <=50K     1\n",
       "                        150324.0  7.0             Divorced             Farming-fishing     Not-in-family   White   Male    0.0           0.0           50.0             United-States   <=50K     1\n",
       "                                  12.0            Never-married        Machine-op-inspct   Unmarried       White   Male    0.0           0.0           40.0             United-States   <=50K     1\n",
       "90    Self-emp-not-inc  282095.0  10.0            Married-civ-spouse   Farming-fishing     Husband         White   Male    0.0           0.0           40.0             United-States   <=50K     1\n",
       "Name: count, Length: 48813, dtype: int64"
      ]
     },
     "execution_count": 273,
     "metadata": {},
     "output_type": "execute_result"
    }
   ],
   "source": [
    "df.value_counts()\n",
    "#there is \" ?\" category in some variables, as well as target value has incorrect values \"<=50K\" \n",
    "#and \"<=50K.\"\n",
    "#there is several columns where string values start with spaces - they need to be stripped"
   ]
  },
  {
   "cell_type": "code",
   "execution_count": 274,
   "id": "e96cc14f",
   "metadata": {},
   "outputs": [],
   "source": [
    "for col in df.columns:\n",
    "    if df[col].dtype == 'object':\n",
    "     df[col] = df[col].str.lstrip()"
   ]
  },
  {
   "cell_type": "code",
   "execution_count": 275,
   "id": "de8b972b",
   "metadata": {},
   "outputs": [
    {
     "data": {
      "text/plain": [
       "age                  0\n",
       "workclass         2799\n",
       "fnlwgt               0\n",
       "education_num        0\n",
       "marital_status       0\n",
       "occupation        2809\n",
       "relationship         0\n",
       "race                 0\n",
       "sex                  0\n",
       "capital_gain         0\n",
       "capital_loss         0\n",
       "hours_per_week       0\n",
       "native_country     857\n",
       "income               0\n",
       "dtype: int64"
      ]
     },
     "execution_count": 275,
     "metadata": {},
     "output_type": "execute_result"
    }
   ],
   "source": [
    "(df == \"?\").sum()\n",
    "# \"?\" - category in workclass"
   ]
  },
  {
   "cell_type": "code",
   "execution_count": 276,
   "id": "52a12520",
   "metadata": {},
   "outputs": [],
   "source": [
    "df = df[df[\"occupation\"] != \"?\"]"
   ]
  },
  {
   "cell_type": "code",
   "execution_count": 277,
   "id": "fbbc8200",
   "metadata": {
    "scrolled": true
   },
   "outputs": [
    {
     "data": {
      "text/plain": [
       "age                 0\n",
       "workclass           0\n",
       "fnlwgt              0\n",
       "education_num       0\n",
       "marital_status      0\n",
       "occupation          0\n",
       "relationship        0\n",
       "race                0\n",
       "sex                 0\n",
       "capital_gain        0\n",
       "capital_loss        0\n",
       "hours_per_week      0\n",
       "native_country    811\n",
       "income              0\n",
       "dtype: int64"
      ]
     },
     "execution_count": 277,
     "metadata": {},
     "output_type": "execute_result"
    }
   ],
   "source": [
    "(df == \"?\").sum()"
   ]
  },
  {
   "cell_type": "code",
   "execution_count": 278,
   "id": "baeb73dd",
   "metadata": {},
   "outputs": [],
   "source": [
    "df = df[df[\"native_country\"] != \"?\"]"
   ]
  },
  {
   "cell_type": "code",
   "execution_count": 279,
   "id": "26f30397",
   "metadata": {},
   "outputs": [
    {
     "data": {
      "text/plain": [
       "age               0\n",
       "workclass         0\n",
       "fnlwgt            0\n",
       "education_num     0\n",
       "marital_status    0\n",
       "occupation        0\n",
       "relationship      0\n",
       "race              0\n",
       "sex               0\n",
       "capital_gain      0\n",
       "capital_loss      0\n",
       "hours_per_week    0\n",
       "native_country    0\n",
       "income            0\n",
       "dtype: int64"
      ]
     },
     "execution_count": 279,
     "metadata": {},
     "output_type": "execute_result"
    }
   ],
   "source": [
    "(df == \"?\").sum()"
   ]
  },
  {
   "cell_type": "code",
   "execution_count": 280,
   "id": "cec68777",
   "metadata": {},
   "outputs": [],
   "source": [
    "df[\"capital_rev\"] = df['capital_gain'] - df['capital_loss']\n",
    "df = df.drop(['capital_gain' , 'capital_loss'], axis=1)"
   ]
  },
  {
   "cell_type": "code",
   "execution_count": 281,
   "id": "9684f898",
   "metadata": {},
   "outputs": [
    {
     "data": {
      "text/plain": [
       "relationship\n",
       "Married           20757\n",
       "Not-in-family     11702\n",
       "Own-child          6626\n",
       "Unmarried          4788\n",
       "Other-relative     1349\n",
       "Name: count, dtype: int64"
      ]
     },
     "execution_count": 281,
     "metadata": {},
     "output_type": "execute_result"
    }
   ],
   "source": [
    "df['relationship'] = df['relationship'].replace({'Husband': 'Married', 'Wife': 'Married'})\n",
    "df['relationship'].value_counts()"
   ]
  },
  {
   "cell_type": "code",
   "execution_count": 282,
   "id": "be1a6934",
   "metadata": {},
   "outputs": [
    {
     "data": {
      "text/plain": [
       "income\n",
       "<=50K    34014\n",
       ">50K     11208\n",
       "Name: count, dtype: int64"
      ]
     },
     "execution_count": 282,
     "metadata": {},
     "output_type": "execute_result"
    }
   ],
   "source": [
    "df['income'] = df['income'].replace({'<=50K.': '<=50K', '>50K.': '>50K'})\n",
    "df['income'].value_counts()"
   ]
  },
  {
   "cell_type": "code",
   "execution_count": 283,
   "id": "2d0e4f23",
   "metadata": {},
   "outputs": [
    {
     "data": {
      "text/plain": [
       "workclass\n",
       "Private             33307\n",
       "Self-emp-not-inc     3796\n",
       "Local-gov            3100\n",
       "State-gov            1946\n",
       "Self-emp-inc         1646\n",
       "Federal-gov          1406\n",
       "Without-pay            21\n",
       "Name: count, dtype: int64"
      ]
     },
     "execution_count": 283,
     "metadata": {},
     "output_type": "execute_result"
    }
   ],
   "source": [
    "df['workclass'].value_counts()"
   ]
  },
  {
   "cell_type": "code",
   "execution_count": 284,
   "id": "d3a533ff",
   "metadata": {},
   "outputs": [
    {
     "data": {
      "text/plain": [
       "marital_status\n",
       "Married          21639\n",
       "Never-married    14598\n",
       "Divorced          6297\n",
       "Separated         1411\n",
       "Widowed           1277\n",
       "Name: count, dtype: int64"
      ]
     },
     "execution_count": 284,
     "metadata": {},
     "output_type": "execute_result"
    }
   ],
   "source": [
    "df['marital_status'] = df['marital_status'].replace({'Married-civ-spouse': 'Married',\n",
    "                                                     'Married-spouse-absent': 'Married',\n",
    "                                                     'Married-AF-spouse': 'Married'})\n",
    "df['marital_status'].value_counts()"
   ]
  },
  {
   "cell_type": "code",
   "execution_count": 285,
   "id": "3f2efc2d",
   "metadata": {},
   "outputs": [
    {
     "data": {
      "text/plain": [
       "occupation\n",
       "Craft-repair         6020\n",
       "Prof-specialty       6008\n",
       "Exec-managerial      5984\n",
       "Adm-clerical         5540\n",
       "Sales                5408\n",
       "Other-service        4808\n",
       "Machine-op-inspct    2970\n",
       "Transport-moving     2316\n",
       "Handlers-cleaners    2046\n",
       "Farming-fishing      1480\n",
       "Tech-support         1420\n",
       "Protective-serv       976\n",
       "Priv-house-serv       232\n",
       "Armed-Forces           14\n",
       "Name: count, dtype: int64"
      ]
     },
     "execution_count": 285,
     "metadata": {},
     "output_type": "execute_result"
    }
   ],
   "source": [
    "df['occupation'].value_counts()"
   ]
  },
  {
   "cell_type": "code",
   "execution_count": 286,
   "id": "6d88d994",
   "metadata": {},
   "outputs": [
    {
     "data": {
      "text/plain": [
       "race\n",
       "White                 38903\n",
       "Black                  4228\n",
       "Asian-Pac-Islander     1303\n",
       "Amer-Indian-Eskimo      435\n",
       "Other                   353\n",
       "Name: count, dtype: int64"
      ]
     },
     "execution_count": 286,
     "metadata": {},
     "output_type": "execute_result"
    }
   ],
   "source": [
    "df['race'].value_counts()"
   ]
  },
  {
   "cell_type": "code",
   "execution_count": 287,
   "id": "d25bba6c",
   "metadata": {
    "scrolled": true
   },
   "outputs": [
    {
     "data": {
      "text/plain": [
       "sex\n",
       "Male      30527\n",
       "Female    14695\n",
       "Name: count, dtype: int64"
      ]
     },
     "execution_count": 287,
     "metadata": {},
     "output_type": "execute_result"
    }
   ],
   "source": [
    "df['sex'].value_counts()"
   ]
  },
  {
   "cell_type": "code",
   "execution_count": 288,
   "id": "c395259a",
   "metadata": {},
   "outputs": [],
   "source": [
    "df['education_num'] = df['education_num'].astype('int')\n",
    "df['fnlwgt'] = df['fnlwgt'].astype('int')\n",
    "df['hours_per_week'] = df['hours_per_week'].astype('int')"
   ]
  },
  {
   "cell_type": "code",
   "execution_count": 289,
   "id": "6104b8d4",
   "metadata": {},
   "outputs": [
    {
     "data": {
      "text/plain": [
       "native_country\n",
       "United-States                 0.913095\n",
       "Mexico                        0.019968\n",
       "Philippines                   0.006258\n",
       "Germany                       0.004268\n",
       "Puerto-Rico                   0.003870\n",
       "Canada                        0.003604\n",
       "El-Salvador                   0.003251\n",
       "India                         0.003251\n",
       "Cuba                          0.002941\n",
       "England                       0.002631\n",
       "China                         0.002499\n",
       "Jamaica                       0.002278\n",
       "South                         0.002233\n",
       "Italy                         0.002211\n",
       "Dominican-Republic            0.002145\n",
       "Japan                         0.001968\n",
       "Guatemala                     0.001902\n",
       "Vietnam                       0.001835\n",
       "Columbia                      0.001813\n",
       "Poland                        0.001791\n",
       "Haiti                         0.001526\n",
       "Portugal                      0.001371\n",
       "Iran                          0.001238\n",
       "Taiwan                        0.001216\n",
       "Greece                        0.001084\n",
       "Nicaragua                     0.001061\n",
       "Peru                          0.000995\n",
       "Ecuador                       0.000951\n",
       "Ireland                       0.000796\n",
       "France                        0.000796\n",
       "Thailand                      0.000641\n",
       "Hong                          0.000619\n",
       "Cambodia                      0.000575\n",
       "Trinadad&Tobago               0.000575\n",
       "Yugoslavia                    0.000509\n",
       "Outlying-US(Guam-USVI-etc)    0.000486\n",
       "Laos                          0.000464\n",
       "Scotland                      0.000442\n",
       "Honduras                      0.000420\n",
       "Hungary                       0.000398\n",
       "Holand-Netherlands            0.000022\n",
       "Name: proportion, dtype: float64"
      ]
     },
     "execution_count": 289,
     "metadata": {},
     "output_type": "execute_result"
    }
   ],
   "source": [
    "df['native_country'].value_counts(normalize=True)"
   ]
  },
  {
   "cell_type": "code",
   "execution_count": 290,
   "id": "c77749c0",
   "metadata": {},
   "outputs": [
    {
     "data": {
      "text/plain": [
       "(45222, 13)"
      ]
     },
     "execution_count": 290,
     "metadata": {},
     "output_type": "execute_result"
    }
   ],
   "source": [
    "df.shape"
   ]
  },
  {
   "cell_type": "code",
   "execution_count": 291,
   "id": "65487a3b",
   "metadata": {},
   "outputs": [
    {
     "data": {
      "text/plain": [
       "(45175, 13)"
      ]
     },
     "execution_count": 291,
     "metadata": {},
     "output_type": "execute_result"
    }
   ],
   "source": [
    "df = df.drop_duplicates()\n",
    "df.shape"
   ]
  },
  {
   "cell_type": "code",
   "execution_count": 292,
   "id": "500f93b9",
   "metadata": {},
   "outputs": [
    {
     "data": {
      "text/plain": [
       "income\n",
       "<=50K    0.752031\n",
       ">50K     0.247969\n",
       "Name: proportion, dtype: float64"
      ]
     },
     "execution_count": 292,
     "metadata": {},
     "output_type": "execute_result"
    }
   ],
   "source": [
    "df['income'].value_counts(normalize = True)\n",
    "# 3:1 proportion of target variable, to be determined if resampling is needed after checking accuracy"
   ]
  },
  {
   "cell_type": "markdown",
   "id": "96ecf820",
   "metadata": {},
   "source": [
    "## Exploration"
   ]
  },
  {
   "cell_type": "code",
   "execution_count": 293,
   "id": "f8b4c882",
   "metadata": {},
   "outputs": [
    {
     "name": "stdout",
     "output_type": "stream",
     "text": [
      "4 , 8\n"
     ]
    }
   ],
   "source": [
    "nums = ['age','fnlwgt','hours_per_week','capital_rev']\n",
    "nums = df[nums]\n",
    "cats = df.drop(columns=nums)\n",
    "cats = cats.drop(columns=\"native_country\")\n",
    "print(len(nums.columns),\",\", len(cats.columns))"
   ]
  },
  {
   "cell_type": "code",
   "execution_count": 294,
   "id": "f1380c3b",
   "metadata": {},
   "outputs": [
    {
     "data": {
      "image/png": "[encoded data removed]",
      "text/plain": [
       "<Figure size 1200x800 with 8 Axes>"
      ]
     },
     "metadata": {},
     "output_type": "display_data"
    }
   ],
   "source": [
    "fig, axes = plt.subplots(nrows=2, ncols=4, figsize=(12, 8))\n",
    "axes = axes.flatten()\n",
    "\n",
    "for i, col in enumerate(cats.columns):\n",
    "    cats[col].value_counts(normalize=True).sort_index().plot(kind='bar', ax=axes[i])\n",
    "    axes[i].tick_params(axis='x', labelsize=8)\n",
    "    \n",
    "plt.tight_layout()\n",
    "plt.show()"
   ]
  },
  {
   "cell_type": "code",
   "execution_count": 295,
   "id": "b78578d5",
   "metadata": {},
   "outputs": [
    {
     "data": {
      "image/png": "[encoded data removed]",
      "text/plain": [
       "<Figure size 1200x800 with 4 Axes>"
      ]
     },
     "metadata": {},
     "output_type": "display_data"
    }
   ],
   "source": [
    "fig, axes = plt.subplots(nrows=2, ncols=2, figsize=(12, 8))\n",
    "axes = axes.flatten()\n",
    "\n",
    "for i, col in enumerate(nums.columns):\n",
    "    sns.histplot(nums[col], bins=10, kde=True, ax=axes[i])\n",
    "    #axes[i].set_title(col)\n",
    "\n",
    "plt.show()"
   ]
  },
  {
   "cell_type": "markdown",
   "id": "15f11379",
   "metadata": {},
   "source": [
    "## Variable recoding and train/test split"
   ]
  },
  {
   "cell_type": "code",
   "execution_count": 296,
   "id": "a0ca3387",
   "metadata": {},
   "outputs": [],
   "source": [
    "le = LabelEncoder()\n",
    "for col in df.columns:\n",
    "    if df[col].dtype == object:\n",
    "        df[col] = le.fit_transform(df[col])"
   ]
  },
  {
   "cell_type": "code",
   "execution_count": 297,
   "id": "7640c5e7",
   "metadata": {},
   "outputs": [],
   "source": [
    "X = df.drop('income', axis=1)\n",
    "y = df['income']"
   ]
  },
  {
   "cell_type": "code",
   "execution_count": 298,
   "id": "0d3edb68",
   "metadata": {},
   "outputs": [],
   "source": [
    "X_train, X_test, y_train, y_test = train_test_split(X, y, test_size=0.2, stratify=y, random_state = 7)"
   ]
  },
  {
   "cell_type": "markdown",
   "id": "645f5c55",
   "metadata": {},
   "source": [
    "## Helper functions definition"
   ]
  },
  {
   "cell_type": "code",
   "execution_count": 299,
   "id": "e2ad821a",
   "metadata": {},
   "outputs": [],
   "source": [
    "metrics = pd.DataFrame(columns=['model','accuracy','precision','recall','f1','auc'])\n",
    "roc_params = pd.DataFrame(columns=['model','tpr','fpr','auc'])\n",
    "#placeholder dataframes for prediction metrics and statistics for ROC curve plotting"
   ]
  },
  {
   "cell_type": "code",
   "execution_count": 300,
   "id": "0dbd7b8f",
   "metadata": {},
   "outputs": [],
   "source": [
    "def get_prediction(model_fit, test_set, model_name):\n",
    "    global metrics, y_test\n",
    "    y_pred = model_fit.predict(test_set)\n",
    "    accuracy = accuracy_score(y_test, y_pred)\n",
    "    scores = score(y_test, y_pred, average = 'weighted')\n",
    "    auc =  roc_auc_score(y_test, y_pred)\n",
    "    mm = pd.DataFrame({'model': [f\"{model_name}\"],\n",
    "                       'accuracy' : [accuracy],\n",
    "                       'precision': [scores[0]],\n",
    "                       'recall' : [scores[1]],\n",
    "                       'f1' : [scores[2]],\n",
    "                       'auc' : [auc]})\n",
    "    metrics = pd.concat([metrics, mm])"
   ]
  },
  {
   "cell_type": "code",
   "execution_count": 301,
   "id": "c53ae36a",
   "metadata": {},
   "outputs": [],
   "source": [
    "def get_roc_params(model_fit,  test_set, model_name):\n",
    "    global roc_params, y_test\n",
    "    y_pred = model_fit.predict(test_set)\n",
    "    fpr, tpr, thresholds = roc_curve(y_test, y_pred)\n",
    "    auc =  roc_auc_score(y_test, y_pred)\n",
    "    rp =  pd.DataFrame({'model': [f\"{model_name}\"],\n",
    "                       'tpr' : [tpr],\n",
    "                       'fpr': [fpr],\n",
    "                       'auc' : [auc]})\n",
    "    roc_params = pd.concat([roc_params, rp])"
   ]
  },
  {
   "cell_type": "markdown",
   "id": "0d272fb6",
   "metadata": {},
   "source": [
    "## Logistic Regression"
   ]
  },
  {
   "cell_type": "code",
   "execution_count": 302,
   "id": "ae4bf9ea",
   "metadata": {},
   "outputs": [
    {
     "name": "stdout",
     "output_type": "stream",
     "text": [
      "0.7936912008854455\n"
     ]
    }
   ],
   "source": [
    "lr = LogisticRegression(random_state=777, solver='liblinear').fit(X_train, y_train.values.ravel())\n",
    "print(accuracy_score(y_test, lr.predict(X_test)))"
   ]
  },
  {
   "cell_type": "code",
   "execution_count": 303,
   "id": "22d5637b",
   "metadata": {},
   "outputs": [],
   "source": [
    "lr_param_grid= {'C': [0.0001, 0.01, 0.1, 1, 10, 100],  \n",
    "                'penalty': ['l1', 'l2'],               \n",
    "                'max_iter': [100, 1000, 10000]}"
   ]
  },
  {
   "cell_type": "code",
   "execution_count": 304,
   "id": "6af2e9fb",
   "metadata": {},
   "outputs": [
    {
     "data": {
      "text/html": [
       "<style>#sk-container-id-1 {color: black;}#sk-container-id-1 pre{padding: 0;}#sk-container-id-1 div.sk-toggleable {background-color: white;}#sk-container-id-1 label.sk-toggleable__label {cursor: pointer;display: block;width: 100%;margin-bottom: 0;padding: 0.3em;box-sizing: border-box;text-align: center;}#sk-container-id-1 label.sk-toggleable__label-arrow:before {content: \"▸\";float: left;margin-right: 0.25em;color: #696969;}#sk-container-id-1 label.sk-toggleable__label-arrow:hover:before {color: black;}#sk-container-id-1 div.sk-estimator:hover label.sk-toggleable__label-arrow:before {color: black;}#sk-container-id-1 div.sk-toggleable__content {max-height: 0;max-width: 0;overflow: hidden;text-align: left;background-color: #f0f8ff;}#sk-container-id-1 div.sk-toggleable__content pre {margin: 0.2em;color: black;border-radius: 0.25em;background-color: #f0f8ff;}#sk-container-id-1 input.sk-toggleable__control:checked~div.sk-toggleable__content {max-height: 200px;max-width: 100%;overflow: auto;}#sk-container-id-1 input.sk-toggleable__control:checked~label.sk-toggleable__label-arrow:before {content: \"▾\";}#sk-container-id-1 div.sk-estimator input.sk-toggleable__control:checked~label.sk-toggleable__label {background-color: #d4ebff;}#sk-container-id-1 div.sk-label input.sk-toggleable__control:checked~label.sk-toggleable__label {background-color: #d4ebff;}#sk-container-id-1 input.sk-hidden--visually {border: 0;clip: rect(1px 1px 1px 1px);clip: rect(1px, 1px, 1px, 1px);height: 1px;margin: -1px;overflow: hidden;padding: 0;position: absolute;width: 1px;}#sk-container-id-1 div.sk-estimator {font-family: monospace;background-color: #f0f8ff;border: 1px dotted black;border-radius: 0.25em;box-sizing: border-box;margin-bottom: 0.5em;}#sk-container-id-1 div.sk-estimator:hover {background-color: #d4ebff;}#sk-container-id-1 div.sk-parallel-item::after {content: \"\";width: 100%;border-bottom: 1px solid gray;flex-grow: 1;}#sk-container-id-1 div.sk-label:hover label.sk-toggleable__label {background-color: #d4ebff;}#sk-container-id-1 div.sk-serial::before {content: \"\";position: absolute;border-left: 1px solid gray;box-sizing: border-box;top: 0;bottom: 0;left: 50%;z-index: 0;}#sk-container-id-1 div.sk-serial {display: flex;flex-direction: column;align-items: center;background-color: white;padding-right: 0.2em;padding-left: 0.2em;position: relative;}#sk-container-id-1 div.sk-item {position: relative;z-index: 1;}#sk-container-id-1 div.sk-parallel {display: flex;align-items: stretch;justify-content: center;background-color: white;position: relative;}#sk-container-id-1 div.sk-item::before, #sk-container-id-1 div.sk-parallel-item::before {content: \"\";position: absolute;border-left: 1px solid gray;box-sizing: border-box;top: 0;bottom: 0;left: 50%;z-index: -1;}#sk-container-id-1 div.sk-parallel-item {display: flex;flex-direction: column;z-index: 1;position: relative;background-color: white;}#sk-container-id-1 div.sk-parallel-item:first-child::after {align-self: flex-end;width: 50%;}#sk-container-id-1 div.sk-parallel-item:last-child::after {align-self: flex-start;width: 50%;}#sk-container-id-1 div.sk-parallel-item:only-child::after {width: 0;}#sk-container-id-1 div.sk-dashed-wrapped {border: 1px dashed gray;margin: 0 0.4em 0.5em 0.4em;box-sizing: border-box;padding-bottom: 0.4em;background-color: white;}#sk-container-id-1 div.sk-label label {font-family: monospace;font-weight: bold;display: inline-block;line-height: 1.2em;}#sk-container-id-1 div.sk-label-container {text-align: center;}#sk-container-id-1 div.sk-container {/* jupyter's `normalize.less` sets `[hidden] { display: none; }` but bootstrap.min.css set `[hidden] { display: none !important; }` so we also need the `!important` here to be able to override the default hidden behavior on the sphinx rendered scikit-learn.org. See: https://github.com/scikit-learn/scikit-learn/issues/21755 */display: inline-block !important;position: relative;}#sk-container-id-1 div.sk-text-repr-fallback {display: none;}</style><div id=\"sk-container-id-1\" class=\"sk-top-container\"><div class=\"sk-text-repr-fallback\"><pre>GridSearchCV(cv=5,\n",
       "             estimator=LogisticRegression(random_state=777, solver=&#x27;liblinear&#x27;),\n",
       "             param_grid={&#x27;C&#x27;: [0.0001, 0.01, 0.1, 1, 10, 100],\n",
       "                         &#x27;max_iter&#x27;: [100, 1000, 10000],\n",
       "                         &#x27;penalty&#x27;: [&#x27;l1&#x27;, &#x27;l2&#x27;]})</pre><b>In a Jupyter environment, please rerun this cell to show the HTML representation or trust the notebook. <br />On GitHub, the HTML representation is unable to render, please try loading this page with nbviewer.org.</b></div><div class=\"sk-container\" hidden><div class=\"sk-item sk-dashed-wrapped\"><div class=\"sk-label-container\"><div class=\"sk-label sk-toggleable\"><input class=\"sk-toggleable__control sk-hidden--visually\" id=\"sk-estimator-id-1\" type=\"checkbox\" ><label for=\"sk-estimator-id-1\" class=\"sk-toggleable__label sk-toggleable__label-arrow\">GridSearchCV</label><div class=\"sk-toggleable__content\"><pre>GridSearchCV(cv=5,\n",
       "             estimator=LogisticRegression(random_state=777, solver=&#x27;liblinear&#x27;),\n",
       "             param_grid={&#x27;C&#x27;: [0.0001, 0.01, 0.1, 1, 10, 100],\n",
       "                         &#x27;max_iter&#x27;: [100, 1000, 10000],\n",
       "                         &#x27;penalty&#x27;: [&#x27;l1&#x27;, &#x27;l2&#x27;]})</pre></div></div></div><div class=\"sk-parallel\"><div class=\"sk-parallel-item\"><div class=\"sk-item\"><div class=\"sk-label-container\"><div class=\"sk-label sk-toggleable\"><input class=\"sk-toggleable__control sk-hidden--visually\" id=\"sk-estimator-id-2\" type=\"checkbox\" ><label for=\"sk-estimator-id-2\" class=\"sk-toggleable__label sk-toggleable__label-arrow\">estimator: LogisticRegression</label><div class=\"sk-toggleable__content\"><pre>LogisticRegression(random_state=777, solver=&#x27;liblinear&#x27;)</pre></div></div></div><div class=\"sk-serial\"><div class=\"sk-item\"><div class=\"sk-estimator sk-toggleable\"><input class=\"sk-toggleable__control sk-hidden--visually\" id=\"sk-estimator-id-3\" type=\"checkbox\" ><label for=\"sk-estimator-id-3\" class=\"sk-toggleable__label sk-toggleable__label-arrow\">LogisticRegression</label><div class=\"sk-toggleable__content\"><pre>LogisticRegression(random_state=777, solver=&#x27;liblinear&#x27;)</pre></div></div></div></div></div></div></div></div></div></div>"
      ],
      "text/plain": [
       "GridSearchCV(cv=5,\n",
       "             estimator=LogisticRegression(random_state=777, solver='liblinear'),\n",
       "             param_grid={'C': [0.0001, 0.01, 0.1, 1, 10, 100],\n",
       "                         'max_iter': [100, 1000, 10000],\n",
       "                         'penalty': ['l1', 'l2']})"
      ]
     },
     "execution_count": 304,
     "metadata": {},
     "output_type": "execute_result"
    }
   ],
   "source": [
    "lr_grid_search = GridSearchCV(lr, lr_param_grid, cv=5)\n",
    "lr_grid_search.fit(X_train, y_train.values.ravel())"
   ]
  },
  {
   "cell_type": "code",
   "execution_count": 305,
   "id": "a10cc580",
   "metadata": {},
   "outputs": [
    {
     "data": {
      "text/html": [
       "<div>\n",
       "<style scoped>\n",
       "    .dataframe tbody tr th:only-of-type {\n",
       "        vertical-align: middle;\n",
       "    }\n",
       "\n",
       "    .dataframe tbody tr th {\n",
       "        vertical-align: top;\n",
       "    }\n",
       "\n",
       "    .dataframe thead th {\n",
       "        text-align: right;\n",
       "    }\n",
       "</style>\n",
       "<table border=\"1\" class=\"dataframe\">\n",
       "  <thead>\n",
       "    <tr style=\"text-align: right;\">\n",
       "      <th></th>\n",
       "      <th>param_C</th>\n",
       "      <th>param_max_iter</th>\n",
       "      <th>param_penalty</th>\n",
       "      <th>mean_test_score</th>\n",
       "      <th>rank_test_score</th>\n",
       "    </tr>\n",
       "  </thead>\n",
       "  <tbody>\n",
       "    <tr>\n",
       "      <th>16</th>\n",
       "      <td>0.1</td>\n",
       "      <td>10000</td>\n",
       "      <td>l1</td>\n",
       "      <td>0.828832</td>\n",
       "      <td>1</td>\n",
       "    </tr>\n",
       "    <tr>\n",
       "      <th>14</th>\n",
       "      <td>0.1</td>\n",
       "      <td>1000</td>\n",
       "      <td>l1</td>\n",
       "      <td>0.828832</td>\n",
       "      <td>1</td>\n",
       "    </tr>\n",
       "    <tr>\n",
       "      <th>12</th>\n",
       "      <td>0.1</td>\n",
       "      <td>100</td>\n",
       "      <td>l1</td>\n",
       "      <td>0.828832</td>\n",
       "      <td>1</td>\n",
       "    </tr>\n",
       "    <tr>\n",
       "      <th>22</th>\n",
       "      <td>1</td>\n",
       "      <td>10000</td>\n",
       "      <td>l1</td>\n",
       "      <td>0.828390</td>\n",
       "      <td>4</td>\n",
       "    </tr>\n",
       "    <tr>\n",
       "      <th>18</th>\n",
       "      <td>1</td>\n",
       "      <td>100</td>\n",
       "      <td>l1</td>\n",
       "      <td>0.828390</td>\n",
       "      <td>4</td>\n",
       "    </tr>\n",
       "    <tr>\n",
       "      <th>32</th>\n",
       "      <td>100</td>\n",
       "      <td>1000</td>\n",
       "      <td>l1</td>\n",
       "      <td>0.828390</td>\n",
       "      <td>4</td>\n",
       "    </tr>\n",
       "    <tr>\n",
       "      <th>34</th>\n",
       "      <td>100</td>\n",
       "      <td>10000</td>\n",
       "      <td>l1</td>\n",
       "      <td>0.828390</td>\n",
       "      <td>4</td>\n",
       "    </tr>\n",
       "    <tr>\n",
       "      <th>30</th>\n",
       "      <td>100</td>\n",
       "      <td>100</td>\n",
       "      <td>l1</td>\n",
       "      <td>0.828390</td>\n",
       "      <td>4</td>\n",
       "    </tr>\n",
       "    <tr>\n",
       "      <th>24</th>\n",
       "      <td>10</td>\n",
       "      <td>100</td>\n",
       "      <td>l1</td>\n",
       "      <td>0.828390</td>\n",
       "      <td>4</td>\n",
       "    </tr>\n",
       "    <tr>\n",
       "      <th>28</th>\n",
       "      <td>10</td>\n",
       "      <td>10000</td>\n",
       "      <td>l1</td>\n",
       "      <td>0.828390</td>\n",
       "      <td>4</td>\n",
       "    </tr>\n",
       "    <tr>\n",
       "      <th>20</th>\n",
       "      <td>1</td>\n",
       "      <td>1000</td>\n",
       "      <td>l1</td>\n",
       "      <td>0.828390</td>\n",
       "      <td>4</td>\n",
       "    </tr>\n",
       "    <tr>\n",
       "      <th>26</th>\n",
       "      <td>10</td>\n",
       "      <td>1000</td>\n",
       "      <td>l1</td>\n",
       "      <td>0.828390</td>\n",
       "      <td>4</td>\n",
       "    </tr>\n",
       "    <tr>\n",
       "      <th>10</th>\n",
       "      <td>0.01</td>\n",
       "      <td>10000</td>\n",
       "      <td>l1</td>\n",
       "      <td>0.827338</td>\n",
       "      <td>13</td>\n",
       "    </tr>\n",
       "    <tr>\n",
       "      <th>8</th>\n",
       "      <td>0.01</td>\n",
       "      <td>1000</td>\n",
       "      <td>l1</td>\n",
       "      <td>0.827338</td>\n",
       "      <td>13</td>\n",
       "    </tr>\n",
       "    <tr>\n",
       "      <th>6</th>\n",
       "      <td>0.01</td>\n",
       "      <td>100</td>\n",
       "      <td>l1</td>\n",
       "      <td>0.827338</td>\n",
       "      <td>13</td>\n",
       "    </tr>\n",
       "    <tr>\n",
       "      <th>25</th>\n",
       "      <td>10</td>\n",
       "      <td>100</td>\n",
       "      <td>l2</td>\n",
       "      <td>0.791007</td>\n",
       "      <td>16</td>\n",
       "    </tr>\n",
       "    <tr>\n",
       "      <th>29</th>\n",
       "      <td>10</td>\n",
       "      <td>10000</td>\n",
       "      <td>l2</td>\n",
       "      <td>0.791007</td>\n",
       "      <td>16</td>\n",
       "    </tr>\n",
       "    <tr>\n",
       "      <th>31</th>\n",
       "      <td>100</td>\n",
       "      <td>100</td>\n",
       "      <td>l2</td>\n",
       "      <td>0.791007</td>\n",
       "      <td>16</td>\n",
       "    </tr>\n",
       "    <tr>\n",
       "      <th>33</th>\n",
       "      <td>100</td>\n",
       "      <td>1000</td>\n",
       "      <td>l2</td>\n",
       "      <td>0.791007</td>\n",
       "      <td>16</td>\n",
       "    </tr>\n",
       "    <tr>\n",
       "      <th>23</th>\n",
       "      <td>1</td>\n",
       "      <td>10000</td>\n",
       "      <td>l2</td>\n",
       "      <td>0.791007</td>\n",
       "      <td>16</td>\n",
       "    </tr>\n",
       "    <tr>\n",
       "      <th>27</th>\n",
       "      <td>10</td>\n",
       "      <td>1000</td>\n",
       "      <td>l2</td>\n",
       "      <td>0.791007</td>\n",
       "      <td>16</td>\n",
       "    </tr>\n",
       "    <tr>\n",
       "      <th>17</th>\n",
       "      <td>0.1</td>\n",
       "      <td>10000</td>\n",
       "      <td>l2</td>\n",
       "      <td>0.791007</td>\n",
       "      <td>16</td>\n",
       "    </tr>\n",
       "    <tr>\n",
       "      <th>35</th>\n",
       "      <td>100</td>\n",
       "      <td>10000</td>\n",
       "      <td>l2</td>\n",
       "      <td>0.791007</td>\n",
       "      <td>16</td>\n",
       "    </tr>\n",
       "    <tr>\n",
       "      <th>19</th>\n",
       "      <td>1</td>\n",
       "      <td>100</td>\n",
       "      <td>l2</td>\n",
       "      <td>0.791007</td>\n",
       "      <td>16</td>\n",
       "    </tr>\n",
       "    <tr>\n",
       "      <th>15</th>\n",
       "      <td>0.1</td>\n",
       "      <td>1000</td>\n",
       "      <td>l2</td>\n",
       "      <td>0.791007</td>\n",
       "      <td>16</td>\n",
       "    </tr>\n",
       "    <tr>\n",
       "      <th>13</th>\n",
       "      <td>0.1</td>\n",
       "      <td>100</td>\n",
       "      <td>l2</td>\n",
       "      <td>0.791007</td>\n",
       "      <td>16</td>\n",
       "    </tr>\n",
       "    <tr>\n",
       "      <th>11</th>\n",
       "      <td>0.01</td>\n",
       "      <td>10000</td>\n",
       "      <td>l2</td>\n",
       "      <td>0.791007</td>\n",
       "      <td>16</td>\n",
       "    </tr>\n",
       "    <tr>\n",
       "      <th>9</th>\n",
       "      <td>0.01</td>\n",
       "      <td>1000</td>\n",
       "      <td>l2</td>\n",
       "      <td>0.791007</td>\n",
       "      <td>16</td>\n",
       "    </tr>\n",
       "    <tr>\n",
       "      <th>7</th>\n",
       "      <td>0.01</td>\n",
       "      <td>100</td>\n",
       "      <td>l2</td>\n",
       "      <td>0.791007</td>\n",
       "      <td>16</td>\n",
       "    </tr>\n",
       "    <tr>\n",
       "      <th>21</th>\n",
       "      <td>1</td>\n",
       "      <td>1000</td>\n",
       "      <td>l2</td>\n",
       "      <td>0.791007</td>\n",
       "      <td>16</td>\n",
       "    </tr>\n",
       "    <tr>\n",
       "      <th>5</th>\n",
       "      <td>0.0001</td>\n",
       "      <td>10000</td>\n",
       "      <td>l2</td>\n",
       "      <td>0.790952</td>\n",
       "      <td>31</td>\n",
       "    </tr>\n",
       "    <tr>\n",
       "      <th>3</th>\n",
       "      <td>0.0001</td>\n",
       "      <td>1000</td>\n",
       "      <td>l2</td>\n",
       "      <td>0.790952</td>\n",
       "      <td>31</td>\n",
       "    </tr>\n",
       "    <tr>\n",
       "      <th>1</th>\n",
       "      <td>0.0001</td>\n",
       "      <td>100</td>\n",
       "      <td>l2</td>\n",
       "      <td>0.790952</td>\n",
       "      <td>31</td>\n",
       "    </tr>\n",
       "    <tr>\n",
       "      <th>4</th>\n",
       "      <td>0.0001</td>\n",
       "      <td>10000</td>\n",
       "      <td>l1</td>\n",
       "      <td>0.790703</td>\n",
       "      <td>34</td>\n",
       "    </tr>\n",
       "    <tr>\n",
       "      <th>2</th>\n",
       "      <td>0.0001</td>\n",
       "      <td>1000</td>\n",
       "      <td>l1</td>\n",
       "      <td>0.790703</td>\n",
       "      <td>34</td>\n",
       "    </tr>\n",
       "    <tr>\n",
       "      <th>0</th>\n",
       "      <td>0.0001</td>\n",
       "      <td>100</td>\n",
       "      <td>l1</td>\n",
       "      <td>0.790703</td>\n",
       "      <td>34</td>\n",
       "    </tr>\n",
       "  </tbody>\n",
       "</table>\n",
       "</div>"
      ],
      "text/plain": [
       "   param_C param_max_iter param_penalty  mean_test_score  rank_test_score\n",
       "16     0.1          10000            l1         0.828832                1\n",
       "14     0.1           1000            l1         0.828832                1\n",
       "12     0.1            100            l1         0.828832                1\n",
       "22       1          10000            l1         0.828390                4\n",
       "18       1            100            l1         0.828390                4\n",
       "32     100           1000            l1         0.828390                4\n",
       "34     100          10000            l1         0.828390                4\n",
       "30     100            100            l1         0.828390                4\n",
       "24      10            100            l1         0.828390                4\n",
       "28      10          10000            l1         0.828390                4\n",
       "20       1           1000            l1         0.828390                4\n",
       "26      10           1000            l1         0.828390                4\n",
       "10    0.01          10000            l1         0.827338               13\n",
       "8     0.01           1000            l1         0.827338               13\n",
       "6     0.01            100            l1         0.827338               13\n",
       "25      10            100            l2         0.791007               16\n",
       "29      10          10000            l2         0.791007               16\n",
       "31     100            100            l2         0.791007               16\n",
       "33     100           1000            l2         0.791007               16\n",
       "23       1          10000            l2         0.791007               16\n",
       "27      10           1000            l2         0.791007               16\n",
       "17     0.1          10000            l2         0.791007               16\n",
       "35     100          10000            l2         0.791007               16\n",
       "19       1            100            l2         0.791007               16\n",
       "15     0.1           1000            l2         0.791007               16\n",
       "13     0.1            100            l2         0.791007               16\n",
       "11    0.01          10000            l2         0.791007               16\n",
       "9     0.01           1000            l2         0.791007               16\n",
       "7     0.01            100            l2         0.791007               16\n",
       "21       1           1000            l2         0.791007               16\n",
       "5   0.0001          10000            l2         0.790952               31\n",
       "3   0.0001           1000            l2         0.790952               31\n",
       "1   0.0001            100            l2         0.790952               31\n",
       "4   0.0001          10000            l1         0.790703               34\n",
       "2   0.0001           1000            l1         0.790703               34\n",
       "0   0.0001            100            l1         0.790703               34"
      ]
     },
     "execution_count": 305,
     "metadata": {},
     "output_type": "execute_result"
    }
   ],
   "source": [
    "lr_gs_results = pd.DataFrame(lr_grid_search.cv_results_)\n",
    "lr_gs_results = lr_gs_results[['param_C','param_max_iter','param_penalty',\n",
    "                               'mean_test_score','rank_test_score']].sort_values(by='rank_test_score')\n",
    "lr_gs_results"
   ]
  },
  {
   "cell_type": "code",
   "execution_count": 314,
   "id": "3d0188a2",
   "metadata": {},
   "outputs": [
    {
     "name": "stdout",
     "output_type": "stream",
     "text": [
      "{'C': 0.1, 'max_iter': 100, 'penalty': 'l1'}\n"
     ]
    }
   ],
   "source": [
    "print(lr_grid_search.best_params_)\n",
    "lr = lr_grid_search.best_estimator_"
   ]
  },
  {
   "cell_type": "code",
   "execution_count": 311,
   "id": "9b9fe880",
   "metadata": {},
   "outputs": [
    {
     "data": {
      "text/html": [
       "<div>\n",
       "<style scoped>\n",
       "    .dataframe tbody tr th:only-of-type {\n",
       "        vertical-align: middle;\n",
       "    }\n",
       "\n",
       "    .dataframe tbody tr th {\n",
       "        vertical-align: top;\n",
       "    }\n",
       "\n",
       "    .dataframe thead th {\n",
       "        text-align: right;\n",
       "    }\n",
       "</style>\n",
       "<table border=\"1\" class=\"dataframe\">\n",
       "  <thead>\n",
       "    <tr style=\"text-align: right;\">\n",
       "      <th></th>\n",
       "      <th>model</th>\n",
       "      <th>accuracy</th>\n",
       "      <th>precision</th>\n",
       "      <th>recall</th>\n",
       "      <th>f1</th>\n",
       "      <th>auc</th>\n",
       "    </tr>\n",
       "  </thead>\n",
       "  <tbody>\n",
       "    <tr>\n",
       "      <th>0</th>\n",
       "      <td>Logistic Regression</td>\n",
       "      <td>0.828224</td>\n",
       "      <td>0.818752</td>\n",
       "      <td>0.828224</td>\n",
       "      <td>0.819121</td>\n",
       "      <td>0.726891</td>\n",
       "    </tr>\n",
       "  </tbody>\n",
       "</table>\n",
       "</div>"
      ],
      "text/plain": [
       "                 model  accuracy  precision    recall        f1       auc\n",
       "0  Logistic Regression  0.828224   0.818752  0.828224  0.819121  0.726891"
      ]
     },
     "execution_count": 311,
     "metadata": {},
     "output_type": "execute_result"
    }
   ],
   "source": [
    "get_prediction(lr, X_test, \"Logistic Regression\")\n",
    "metrics"
   ]
  },
  {
   "cell_type": "code",
   "execution_count": 312,
   "id": "e3eae3aa",
   "metadata": {},
   "outputs": [
    {
     "data": {
      "text/html": [
       "<div>\n",
       "<style scoped>\n",
       "    .dataframe tbody tr th:only-of-type {\n",
       "        vertical-align: middle;\n",
       "    }\n",
       "\n",
       "    .dataframe tbody tr th {\n",
       "        vertical-align: top;\n",
       "    }\n",
       "\n",
       "    .dataframe thead th {\n",
       "        text-align: right;\n",
       "    }\n",
       "</style>\n",
       "<table border=\"1\" class=\"dataframe\">\n",
       "  <thead>\n",
       "    <tr style=\"text-align: right;\">\n",
       "      <th></th>\n",
       "      <th>model</th>\n",
       "      <th>tpr</th>\n",
       "      <th>fpr</th>\n",
       "      <th>auc</th>\n",
       "    </tr>\n",
       "  </thead>\n",
       "  <tbody>\n",
       "    <tr>\n",
       "      <th>0</th>\n",
       "      <td>Logistic Regression</td>\n",
       "      <td>[0.0, 0.5258928571428572, 1.0]</td>\n",
       "      <td>[0.0, 0.07211184694628403, 1.0]</td>\n",
       "      <td>0.726891</td>\n",
       "    </tr>\n",
       "  </tbody>\n",
       "</table>\n",
       "</div>"
      ],
      "text/plain": [
       "                 model                             tpr  \\\n",
       "0  Logistic Regression  [0.0, 0.5258928571428572, 1.0]   \n",
       "\n",
       "                               fpr       auc  \n",
       "0  [0.0, 0.07211184694628403, 1.0]  0.726891  "
      ]
     },
     "execution_count": 312,
     "metadata": {},
     "output_type": "execute_result"
    }
   ],
   "source": [
    "get_roc_params(lr, X_test, \"Logistic Regression\")\n",
    "roc_params"
   ]
  },
  {
   "cell_type": "markdown",
   "id": "859167f9",
   "metadata": {},
   "source": [
    "## Decision Trees"
   ]
  },
  {
   "cell_type": "code",
   "execution_count": 315,
   "id": "98ebac30",
   "metadata": {},
   "outputs": [
    {
     "name": "stdout",
     "output_type": "stream",
     "text": [
      "0.8076369673491975\n"
     ]
    }
   ],
   "source": [
    "dt = DecisionTreeClassifier(random_state=777)\n",
    "dt = dt.fit(X_train, y_train)\n",
    "print(accuracy_score(y_test, dt.predict(X_test)))"
   ]
  },
  {
   "cell_type": "code",
   "execution_count": 316,
   "id": "4b7cb577",
   "metadata": {
    "scrolled": true
   },
   "outputs": [],
   "source": [
    "dt_param_grid = {'max_depth':range(1, dt.tree_.max_depth+1, 2),\n",
    "              'max_features': range(1, len(dt.feature_importances_)+1),\n",
    "              'ccp_alpha': np.arange(0, 0.04, 0.005)}"
   ]
  },
  {
   "cell_type": "code",
   "execution_count": 317,
   "id": "3e84295e",
   "metadata": {},
   "outputs": [
    {
     "data": {
      "text/html": [
       "<style>#sk-container-id-3 {color: black;}#sk-container-id-3 pre{padding: 0;}#sk-container-id-3 div.sk-toggleable {background-color: white;}#sk-container-id-3 label.sk-toggleable__label {cursor: pointer;display: block;width: 100%;margin-bottom: 0;padding: 0.3em;box-sizing: border-box;text-align: center;}#sk-container-id-3 label.sk-toggleable__label-arrow:before {content: \"▸\";float: left;margin-right: 0.25em;color: #696969;}#sk-container-id-3 label.sk-toggleable__label-arrow:hover:before {color: black;}#sk-container-id-3 div.sk-estimator:hover label.sk-toggleable__label-arrow:before {color: black;}#sk-container-id-3 div.sk-toggleable__content {max-height: 0;max-width: 0;overflow: hidden;text-align: left;background-color: #f0f8ff;}#sk-container-id-3 div.sk-toggleable__content pre {margin: 0.2em;color: black;border-radius: 0.25em;background-color: #f0f8ff;}#sk-container-id-3 input.sk-toggleable__control:checked~div.sk-toggleable__content {max-height: 200px;max-width: 100%;overflow: auto;}#sk-container-id-3 input.sk-toggleable__control:checked~label.sk-toggleable__label-arrow:before {content: \"▾\";}#sk-container-id-3 div.sk-estimator input.sk-toggleable__control:checked~label.sk-toggleable__label {background-color: #d4ebff;}#sk-container-id-3 div.sk-label input.sk-toggleable__control:checked~label.sk-toggleable__label {background-color: #d4ebff;}#sk-container-id-3 input.sk-hidden--visually {border: 0;clip: rect(1px 1px 1px 1px);clip: rect(1px, 1px, 1px, 1px);height: 1px;margin: -1px;overflow: hidden;padding: 0;position: absolute;width: 1px;}#sk-container-id-3 div.sk-estimator {font-family: monospace;background-color: #f0f8ff;border: 1px dotted black;border-radius: 0.25em;box-sizing: border-box;margin-bottom: 0.5em;}#sk-container-id-3 div.sk-estimator:hover {background-color: #d4ebff;}#sk-container-id-3 div.sk-parallel-item::after {content: \"\";width: 100%;border-bottom: 1px solid gray;flex-grow: 1;}#sk-container-id-3 div.sk-label:hover label.sk-toggleable__label {background-color: #d4ebff;}#sk-container-id-3 div.sk-serial::before {content: \"\";position: absolute;border-left: 1px solid gray;box-sizing: border-box;top: 0;bottom: 0;left: 50%;z-index: 0;}#sk-container-id-3 div.sk-serial {display: flex;flex-direction: column;align-items: center;background-color: white;padding-right: 0.2em;padding-left: 0.2em;position: relative;}#sk-container-id-3 div.sk-item {position: relative;z-index: 1;}#sk-container-id-3 div.sk-parallel {display: flex;align-items: stretch;justify-content: center;background-color: white;position: relative;}#sk-container-id-3 div.sk-item::before, #sk-container-id-3 div.sk-parallel-item::before {content: \"\";position: absolute;border-left: 1px solid gray;box-sizing: border-box;top: 0;bottom: 0;left: 50%;z-index: -1;}#sk-container-id-3 div.sk-parallel-item {display: flex;flex-direction: column;z-index: 1;position: relative;background-color: white;}#sk-container-id-3 div.sk-parallel-item:first-child::after {align-self: flex-end;width: 50%;}#sk-container-id-3 div.sk-parallel-item:last-child::after {align-self: flex-start;width: 50%;}#sk-container-id-3 div.sk-parallel-item:only-child::after {width: 0;}#sk-container-id-3 div.sk-dashed-wrapped {border: 1px dashed gray;margin: 0 0.4em 0.5em 0.4em;box-sizing: border-box;padding-bottom: 0.4em;background-color: white;}#sk-container-id-3 div.sk-label label {font-family: monospace;font-weight: bold;display: inline-block;line-height: 1.2em;}#sk-container-id-3 div.sk-label-container {text-align: center;}#sk-container-id-3 div.sk-container {/* jupyter's `normalize.less` sets `[hidden] { display: none; }` but bootstrap.min.css set `[hidden] { display: none !important; }` so we also need the `!important` here to be able to override the default hidden behavior on the sphinx rendered scikit-learn.org. See: https://github.com/scikit-learn/scikit-learn/issues/21755 */display: inline-block !important;position: relative;}#sk-container-id-3 div.sk-text-repr-fallback {display: none;}</style><div id=\"sk-container-id-3\" class=\"sk-top-container\"><div class=\"sk-text-repr-fallback\"><pre>GridSearchCV(estimator=DecisionTreeClassifier(random_state=777), n_jobs=-1,\n",
       "             param_grid={&#x27;ccp_alpha&#x27;: array([0.   , 0.005, 0.01 , 0.015, 0.02 , 0.025, 0.03 , 0.035]),\n",
       "                         &#x27;max_depth&#x27;: range(1, 51, 2),\n",
       "                         &#x27;max_features&#x27;: range(1, 13)},\n",
       "             scoring=&#x27;accuracy&#x27;)</pre><b>In a Jupyter environment, please rerun this cell to show the HTML representation or trust the notebook. <br />On GitHub, the HTML representation is unable to render, please try loading this page with nbviewer.org.</b></div><div class=\"sk-container\" hidden><div class=\"sk-item sk-dashed-wrapped\"><div class=\"sk-label-container\"><div class=\"sk-label sk-toggleable\"><input class=\"sk-toggleable__control sk-hidden--visually\" id=\"sk-estimator-id-5\" type=\"checkbox\" ><label for=\"sk-estimator-id-5\" class=\"sk-toggleable__label sk-toggleable__label-arrow\">GridSearchCV</label><div class=\"sk-toggleable__content\"><pre>GridSearchCV(estimator=DecisionTreeClassifier(random_state=777), n_jobs=-1,\n",
       "             param_grid={&#x27;ccp_alpha&#x27;: array([0.   , 0.005, 0.01 , 0.015, 0.02 , 0.025, 0.03 , 0.035]),\n",
       "                         &#x27;max_depth&#x27;: range(1, 51, 2),\n",
       "                         &#x27;max_features&#x27;: range(1, 13)},\n",
       "             scoring=&#x27;accuracy&#x27;)</pre></div></div></div><div class=\"sk-parallel\"><div class=\"sk-parallel-item\"><div class=\"sk-item\"><div class=\"sk-label-container\"><div class=\"sk-label sk-toggleable\"><input class=\"sk-toggleable__control sk-hidden--visually\" id=\"sk-estimator-id-6\" type=\"checkbox\" ><label for=\"sk-estimator-id-6\" class=\"sk-toggleable__label sk-toggleable__label-arrow\">estimator: DecisionTreeClassifier</label><div class=\"sk-toggleable__content\"><pre>DecisionTreeClassifier(random_state=777)</pre></div></div></div><div class=\"sk-serial\"><div class=\"sk-item\"><div class=\"sk-estimator sk-toggleable\"><input class=\"sk-toggleable__control sk-hidden--visually\" id=\"sk-estimator-id-7\" type=\"checkbox\" ><label for=\"sk-estimator-id-7\" class=\"sk-toggleable__label sk-toggleable__label-arrow\">DecisionTreeClassifier</label><div class=\"sk-toggleable__content\"><pre>DecisionTreeClassifier(random_state=777)</pre></div></div></div></div></div></div></div></div></div></div>"
      ],
      "text/plain": [
       "GridSearchCV(estimator=DecisionTreeClassifier(random_state=777), n_jobs=-1,\n",
       "             param_grid={'ccp_alpha': array([0.   , 0.005, 0.01 , 0.015, 0.02 , 0.025, 0.03 , 0.035]),\n",
       "                         'max_depth': range(1, 51, 2),\n",
       "                         'max_features': range(1, 13)},\n",
       "             scoring='accuracy')"
      ]
     },
     "execution_count": 317,
     "metadata": {},
     "output_type": "execute_result"
    }
   ],
   "source": [
    "dt_grid_search = GridSearchCV(dt, param_grid = dt_param_grid, scoring='accuracy', n_jobs=-1)\n",
    "dt_grid_search.fit(X_train, y_train)"
   ]
  },
  {
   "cell_type": "code",
   "execution_count": 318,
   "id": "099383f2",
   "metadata": {},
   "outputs": [
    {
     "data": {
      "text/plain": [
       "{'ccp_alpha': 0.0, 'max_depth': 9, 'max_features': 8}"
      ]
     },
     "execution_count": 318,
     "metadata": {},
     "output_type": "execute_result"
    }
   ],
   "source": [
    "dt_grid_search.best_params_"
   ]
  },
  {
   "cell_type": "code",
   "execution_count": 319,
   "id": "a2f9a5a8",
   "metadata": {},
   "outputs": [
    {
     "data": {
      "text/html": [
       "<div>\n",
       "<style scoped>\n",
       "    .dataframe tbody tr th:only-of-type {\n",
       "        vertical-align: middle;\n",
       "    }\n",
       "\n",
       "    .dataframe tbody tr th {\n",
       "        vertical-align: top;\n",
       "    }\n",
       "\n",
       "    .dataframe thead th {\n",
       "        text-align: right;\n",
       "    }\n",
       "</style>\n",
       "<table border=\"1\" class=\"dataframe\">\n",
       "  <thead>\n",
       "    <tr style=\"text-align: right;\">\n",
       "      <th></th>\n",
       "      <th>param_ccp_alpha</th>\n",
       "      <th>param_max_depth</th>\n",
       "      <th>param_max_features</th>\n",
       "      <th>mean_test_score</th>\n",
       "      <th>rank_test_score</th>\n",
       "    </tr>\n",
       "  </thead>\n",
       "  <tbody>\n",
       "    <tr>\n",
       "      <th>55</th>\n",
       "      <td>0.0</td>\n",
       "      <td>9</td>\n",
       "      <td>8</td>\n",
       "      <td>0.853403</td>\n",
       "      <td>1</td>\n",
       "    </tr>\n",
       "    <tr>\n",
       "      <th>47</th>\n",
       "      <td>0.0</td>\n",
       "      <td>7</td>\n",
       "      <td>12</td>\n",
       "      <td>0.852020</td>\n",
       "      <td>2</td>\n",
       "    </tr>\n",
       "    <tr>\n",
       "      <th>46</th>\n",
       "      <td>0.0</td>\n",
       "      <td>7</td>\n",
       "      <td>11</td>\n",
       "      <td>0.851909</td>\n",
       "      <td>3</td>\n",
       "    </tr>\n",
       "    <tr>\n",
       "      <th>68</th>\n",
       "      <td>0.0</td>\n",
       "      <td>11</td>\n",
       "      <td>9</td>\n",
       "      <td>0.851716</td>\n",
       "      <td>4</td>\n",
       "    </tr>\n",
       "    <tr>\n",
       "      <th>45</th>\n",
       "      <td>0.0</td>\n",
       "      <td>7</td>\n",
       "      <td>10</td>\n",
       "      <td>0.851384</td>\n",
       "      <td>5</td>\n",
       "    </tr>\n",
       "    <tr>\n",
       "      <th>...</th>\n",
       "      <td>...</td>\n",
       "      <td>...</td>\n",
       "      <td>...</td>\n",
       "      <td>...</td>\n",
       "      <td>...</td>\n",
       "    </tr>\n",
       "    <tr>\n",
       "      <th>2192</th>\n",
       "      <td>0.035</td>\n",
       "      <td>15</td>\n",
       "      <td>9</td>\n",
       "      <td>0.752020</td>\n",
       "      <td>1589</td>\n",
       "    </tr>\n",
       "    <tr>\n",
       "      <th>2193</th>\n",
       "      <td>0.035</td>\n",
       "      <td>15</td>\n",
       "      <td>10</td>\n",
       "      <td>0.752020</td>\n",
       "      <td>1589</td>\n",
       "    </tr>\n",
       "    <tr>\n",
       "      <th>2194</th>\n",
       "      <td>0.035</td>\n",
       "      <td>15</td>\n",
       "      <td>11</td>\n",
       "      <td>0.752020</td>\n",
       "      <td>1589</td>\n",
       "    </tr>\n",
       "    <tr>\n",
       "      <th>304</th>\n",
       "      <td>0.005</td>\n",
       "      <td>1</td>\n",
       "      <td>5</td>\n",
       "      <td>0.752020</td>\n",
       "      <td>1589</td>\n",
       "    </tr>\n",
       "    <tr>\n",
       "      <th>2399</th>\n",
       "      <td>0.035</td>\n",
       "      <td>49</td>\n",
       "      <td>12</td>\n",
       "      <td>0.752020</td>\n",
       "      <td>1589</td>\n",
       "    </tr>\n",
       "  </tbody>\n",
       "</table>\n",
       "<p>2400 rows × 5 columns</p>\n",
       "</div>"
      ],
      "text/plain": [
       "     param_ccp_alpha param_max_depth param_max_features  mean_test_score  \\\n",
       "55               0.0               9                  8         0.853403   \n",
       "47               0.0               7                 12         0.852020   \n",
       "46               0.0               7                 11         0.851909   \n",
       "68               0.0              11                  9         0.851716   \n",
       "45               0.0               7                 10         0.851384   \n",
       "...              ...             ...                ...              ...   \n",
       "2192           0.035              15                  9         0.752020   \n",
       "2193           0.035              15                 10         0.752020   \n",
       "2194           0.035              15                 11         0.752020   \n",
       "304            0.005               1                  5         0.752020   \n",
       "2399           0.035              49                 12         0.752020   \n",
       "\n",
       "      rank_test_score  \n",
       "55                  1  \n",
       "47                  2  \n",
       "46                  3  \n",
       "68                  4  \n",
       "45                  5  \n",
       "...               ...  \n",
       "2192             1589  \n",
       "2193             1589  \n",
       "2194             1589  \n",
       "304              1589  \n",
       "2399             1589  \n",
       "\n",
       "[2400 rows x 5 columns]"
      ]
     },
     "execution_count": 319,
     "metadata": {},
     "output_type": "execute_result"
    }
   ],
   "source": [
    "dt_gs_results = pd.DataFrame(dt_grid_search.cv_results_)\n",
    "dt_gs_results = dt_gs_results[['param_ccp_alpha','param_max_depth','param_max_features',\n",
    "                               'mean_test_score','rank_test_score']].sort_values(by='rank_test_score')\n",
    "dt_gs_results.sort_values(by='rank_test_score')"
   ]
  },
  {
   "cell_type": "code",
   "execution_count": 320,
   "id": "21b6d61f",
   "metadata": {},
   "outputs": [
    {
     "name": "stdout",
     "output_type": "stream",
     "text": [
      "{'ccp_alpha': 0.0, 'max_depth': 9, 'max_features': 8}\n"
     ]
    }
   ],
   "source": [
    "print(dt_grid_search.best_params_)\n",
    "dt = dt_grid_search.best_estimator_"
   ]
  },
  {
   "cell_type": "code",
   "execution_count": 321,
   "id": "ae06926d",
   "metadata": {},
   "outputs": [
    {
     "data": {
      "text/html": [
       "<div>\n",
       "<style scoped>\n",
       "    .dataframe tbody tr th:only-of-type {\n",
       "        vertical-align: middle;\n",
       "    }\n",
       "\n",
       "    .dataframe tbody tr th {\n",
       "        vertical-align: top;\n",
       "    }\n",
       "\n",
       "    .dataframe thead th {\n",
       "        text-align: right;\n",
       "    }\n",
       "</style>\n",
       "<table border=\"1\" class=\"dataframe\">\n",
       "  <thead>\n",
       "    <tr style=\"text-align: right;\">\n",
       "      <th></th>\n",
       "      <th>model</th>\n",
       "      <th>accuracy</th>\n",
       "      <th>precision</th>\n",
       "      <th>recall</th>\n",
       "      <th>f1</th>\n",
       "      <th>auc</th>\n",
       "    </tr>\n",
       "  </thead>\n",
       "  <tbody>\n",
       "    <tr>\n",
       "      <th>0</th>\n",
       "      <td>Logistic Regression</td>\n",
       "      <td>0.828224</td>\n",
       "      <td>0.818752</td>\n",
       "      <td>0.828224</td>\n",
       "      <td>0.819121</td>\n",
       "      <td>0.726891</td>\n",
       "    </tr>\n",
       "    <tr>\n",
       "      <th>0</th>\n",
       "      <td>Decision Tree</td>\n",
       "      <td>0.850249</td>\n",
       "      <td>0.843776</td>\n",
       "      <td>0.850249</td>\n",
       "      <td>0.841819</td>\n",
       "      <td>0.754252</td>\n",
       "    </tr>\n",
       "  </tbody>\n",
       "</table>\n",
       "</div>"
      ],
      "text/plain": [
       "                 model  accuracy  precision    recall        f1       auc\n",
       "0  Logistic Regression  0.828224   0.818752  0.828224  0.819121  0.726891\n",
       "0        Decision Tree  0.850249   0.843776  0.850249  0.841819  0.754252"
      ]
     },
     "execution_count": 321,
     "metadata": {},
     "output_type": "execute_result"
    }
   ],
   "source": [
    "get_prediction(dt, X_test, \"Decision Tree\")\n",
    "metrics"
   ]
  },
  {
   "cell_type": "code",
   "execution_count": 322,
   "id": "de878e2e",
   "metadata": {},
   "outputs": [
    {
     "data": {
      "text/html": [
       "<div>\n",
       "<style scoped>\n",
       "    .dataframe tbody tr th:only-of-type {\n",
       "        vertical-align: middle;\n",
       "    }\n",
       "\n",
       "    .dataframe tbody tr th {\n",
       "        vertical-align: top;\n",
       "    }\n",
       "\n",
       "    .dataframe thead th {\n",
       "        text-align: right;\n",
       "    }\n",
       "</style>\n",
       "<table border=\"1\" class=\"dataframe\">\n",
       "  <thead>\n",
       "    <tr style=\"text-align: right;\">\n",
       "      <th></th>\n",
       "      <th>model</th>\n",
       "      <th>tpr</th>\n",
       "      <th>fpr</th>\n",
       "      <th>auc</th>\n",
       "    </tr>\n",
       "  </thead>\n",
       "  <tbody>\n",
       "    <tr>\n",
       "      <th>0</th>\n",
       "      <td>Logistic Regression</td>\n",
       "      <td>[0.0, 0.5258928571428572, 1.0]</td>\n",
       "      <td>[0.0, 0.07211184694628403, 1.0]</td>\n",
       "      <td>0.726891</td>\n",
       "    </tr>\n",
       "    <tr>\n",
       "      <th>0</th>\n",
       "      <td>Decision Tree</td>\n",
       "      <td>[0.0, 0.5638392857142858, 1.0]</td>\n",
       "      <td>[0.0, 0.055334805003679176, 1.0]</td>\n",
       "      <td>0.754252</td>\n",
       "    </tr>\n",
       "  </tbody>\n",
       "</table>\n",
       "</div>"
      ],
      "text/plain": [
       "                 model                             tpr  \\\n",
       "0  Logistic Regression  [0.0, 0.5258928571428572, 1.0]   \n",
       "0        Decision Tree  [0.0, 0.5638392857142858, 1.0]   \n",
       "\n",
       "                                fpr       auc  \n",
       "0   [0.0, 0.07211184694628403, 1.0]  0.726891  \n",
       "0  [0.0, 0.055334805003679176, 1.0]  0.754252  "
      ]
     },
     "execution_count": 322,
     "metadata": {},
     "output_type": "execute_result"
    }
   ],
   "source": [
    "get_roc_params(dt, X_test, \"Decision Tree\")\n",
    "roc_params"
   ]
  },
  {
   "cell_type": "markdown",
   "id": "a8acb877",
   "metadata": {},
   "source": [
    "## K-Nearest Neighbors"
   ]
  },
  {
   "cell_type": "code",
   "execution_count": 54,
   "id": "5ed56ec6",
   "metadata": {},
   "outputs": [],
   "source": [
    "ss = StandardScaler()\n",
    "X_test_scaled = ss.fit_transform(X_test)\n",
    "X_train_scaled = ss.fit_transform(X_train)"
   ]
  },
  {
   "cell_type": "code",
   "execution_count": 55,
   "id": "a0aa5a92",
   "metadata": {},
   "outputs": [
    {
     "name": "stderr",
     "output_type": "stream",
     "text": [
      "C:\\ProgramData\\anaconda3\\Lib\\site-packages\\sklearn\\base.py:457: UserWarning: X has feature names, but KNeighborsClassifier was fitted without feature names\n",
      "  warnings.warn(\n"
     ]
    },
    {
     "name": "stdout",
     "output_type": "stream",
     "text": [
      "0.7552850027670172\n"
     ]
    }
   ],
   "source": [
    "knn = KNeighborsClassifier(n_jobs=-1)\n",
    "knn = knn.fit(X_train_scaled, y_train)\n",
    "print(accuracy_score(y_test, knn.predict(X_test)))"
   ]
  },
  {
   "cell_type": "code",
   "execution_count": 56,
   "id": "b6d11396",
   "metadata": {},
   "outputs": [
    {
     "data": {
      "text/plain": [
       "{'n_neighbors': 25, 'p': 1, 'weights': 'uniform'}"
      ]
     },
     "execution_count": 56,
     "metadata": {},
     "output_type": "execute_result"
    }
   ],
   "source": [
    "knn_param_grid = {'n_neighbors':range(1, 30),\n",
    "                  'weights': ['uniform','distance'],\n",
    "                  'p': [1, 2, 4]}\n",
    "knn_grid_search = GridSearchCV(knn, param_grid = knn_param_grid, scoring='accuracy', n_jobs=-1)\n",
    "knn_grid_search.fit(X_train_scaled, y_train)\n",
    "knn_grid_search.best_params_"
   ]
  },
  {
   "cell_type": "code",
   "execution_count": 57,
   "id": "0e0e5e96",
   "metadata": {},
   "outputs": [
    {
     "data": {
      "text/html": [
       "<div>\n",
       "<style scoped>\n",
       "    .dataframe tbody tr th:only-of-type {\n",
       "        vertical-align: middle;\n",
       "    }\n",
       "\n",
       "    .dataframe tbody tr th {\n",
       "        vertical-align: top;\n",
       "    }\n",
       "\n",
       "    .dataframe thead th {\n",
       "        text-align: right;\n",
       "    }\n",
       "</style>\n",
       "<table border=\"1\" class=\"dataframe\">\n",
       "  <thead>\n",
       "    <tr style=\"text-align: right;\">\n",
       "      <th></th>\n",
       "      <th>param_n_neighbors</th>\n",
       "      <th>param_p</th>\n",
       "      <th>param_weights</th>\n",
       "      <th>mean_test_score</th>\n",
       "      <th>rank_test_score</th>\n",
       "    </tr>\n",
       "  </thead>\n",
       "  <tbody>\n",
       "    <tr>\n",
       "      <th>144</th>\n",
       "      <td>25</td>\n",
       "      <td>1</td>\n",
       "      <td>uniform</td>\n",
       "      <td>0.837521</td>\n",
       "      <td>1</td>\n",
       "    </tr>\n",
       "    <tr>\n",
       "      <th>156</th>\n",
       "      <td>27</td>\n",
       "      <td>1</td>\n",
       "      <td>uniform</td>\n",
       "      <td>0.836829</td>\n",
       "      <td>2</td>\n",
       "    </tr>\n",
       "    <tr>\n",
       "      <th>168</th>\n",
       "      <td>29</td>\n",
       "      <td>1</td>\n",
       "      <td>uniform</td>\n",
       "      <td>0.836718</td>\n",
       "      <td>3</td>\n",
       "    </tr>\n",
       "    <tr>\n",
       "      <th>120</th>\n",
       "      <td>21</td>\n",
       "      <td>1</td>\n",
       "      <td>uniform</td>\n",
       "      <td>0.836608</td>\n",
       "      <td>4</td>\n",
       "    </tr>\n",
       "    <tr>\n",
       "      <th>132</th>\n",
       "      <td>23</td>\n",
       "      <td>1</td>\n",
       "      <td>uniform</td>\n",
       "      <td>0.836608</td>\n",
       "      <td>4</td>\n",
       "    </tr>\n",
       "    <tr>\n",
       "      <th>...</th>\n",
       "      <td>...</td>\n",
       "      <td>...</td>\n",
       "      <td>...</td>\n",
       "      <td>...</td>\n",
       "      <td>...</td>\n",
       "    </tr>\n",
       "    <tr>\n",
       "      <th>3</th>\n",
       "      <td>1</td>\n",
       "      <td>2</td>\n",
       "      <td>distance</td>\n",
       "      <td>0.790288</td>\n",
       "      <td>169</td>\n",
       "    </tr>\n",
       "    <tr>\n",
       "      <th>2</th>\n",
       "      <td>1</td>\n",
       "      <td>2</td>\n",
       "      <td>uniform</td>\n",
       "      <td>0.790288</td>\n",
       "      <td>169</td>\n",
       "    </tr>\n",
       "    <tr>\n",
       "      <th>11</th>\n",
       "      <td>2</td>\n",
       "      <td>4</td>\n",
       "      <td>distance</td>\n",
       "      <td>0.789485</td>\n",
       "      <td>172</td>\n",
       "    </tr>\n",
       "    <tr>\n",
       "      <th>5</th>\n",
       "      <td>1</td>\n",
       "      <td>4</td>\n",
       "      <td>distance</td>\n",
       "      <td>0.789485</td>\n",
       "      <td>172</td>\n",
       "    </tr>\n",
       "    <tr>\n",
       "      <th>4</th>\n",
       "      <td>1</td>\n",
       "      <td>4</td>\n",
       "      <td>uniform</td>\n",
       "      <td>0.789485</td>\n",
       "      <td>172</td>\n",
       "    </tr>\n",
       "  </tbody>\n",
       "</table>\n",
       "<p>174 rows × 5 columns</p>\n",
       "</div>"
      ],
      "text/plain": [
       "    param_n_neighbors param_p param_weights  mean_test_score  rank_test_score\n",
       "144                25       1       uniform         0.837521                1\n",
       "156                27       1       uniform         0.836829                2\n",
       "168                29       1       uniform         0.836718                3\n",
       "120                21       1       uniform         0.836608                4\n",
       "132                23       1       uniform         0.836608                4\n",
       "..                ...     ...           ...              ...              ...\n",
       "3                   1       2      distance         0.790288              169\n",
       "2                   1       2       uniform         0.790288              169\n",
       "11                  2       4      distance         0.789485              172\n",
       "5                   1       4      distance         0.789485              172\n",
       "4                   1       4       uniform         0.789485              172\n",
       "\n",
       "[174 rows x 5 columns]"
      ]
     },
     "execution_count": 57,
     "metadata": {},
     "output_type": "execute_result"
    }
   ],
   "source": [
    "knn_gs_results = pd.DataFrame(knn_grid_search.cv_results_)\n",
    "knn_gs_results = knn_gs_results[['param_n_neighbors','param_p','param_weights',\n",
    "                                 'mean_test_score','rank_test_score']].sort_values(by='rank_test_score')\n",
    "knn_gs_results\n",
    "#uniform weights and p equal to 1 are the best for model, another grid for neighbors will be ran "
   ]
  },
  {
   "cell_type": "code",
   "execution_count": 58,
   "id": "cc1ff457",
   "metadata": {},
   "outputs": [
    {
     "data": {
      "text/html": [
       "<style>#sk-container-id-4 {color: black;}#sk-container-id-4 pre{padding: 0;}#sk-container-id-4 div.sk-toggleable {background-color: white;}#sk-container-id-4 label.sk-toggleable__label {cursor: pointer;display: block;width: 100%;margin-bottom: 0;padding: 0.3em;box-sizing: border-box;text-align: center;}#sk-container-id-4 label.sk-toggleable__label-arrow:before {content: \"▸\";float: left;margin-right: 0.25em;color: #696969;}#sk-container-id-4 label.sk-toggleable__label-arrow:hover:before {color: black;}#sk-container-id-4 div.sk-estimator:hover label.sk-toggleable__label-arrow:before {color: black;}#sk-container-id-4 div.sk-toggleable__content {max-height: 0;max-width: 0;overflow: hidden;text-align: left;background-color: #f0f8ff;}#sk-container-id-4 div.sk-toggleable__content pre {margin: 0.2em;color: black;border-radius: 0.25em;background-color: #f0f8ff;}#sk-container-id-4 input.sk-toggleable__control:checked~div.sk-toggleable__content {max-height: 200px;max-width: 100%;overflow: auto;}#sk-container-id-4 input.sk-toggleable__control:checked~label.sk-toggleable__label-arrow:before {content: \"▾\";}#sk-container-id-4 div.sk-estimator input.sk-toggleable__control:checked~label.sk-toggleable__label {background-color: #d4ebff;}#sk-container-id-4 div.sk-label input.sk-toggleable__control:checked~label.sk-toggleable__label {background-color: #d4ebff;}#sk-container-id-4 input.sk-hidden--visually {border: 0;clip: rect(1px 1px 1px 1px);clip: rect(1px, 1px, 1px, 1px);height: 1px;margin: -1px;overflow: hidden;padding: 0;position: absolute;width: 1px;}#sk-container-id-4 div.sk-estimator {font-family: monospace;background-color: #f0f8ff;border: 1px dotted black;border-radius: 0.25em;box-sizing: border-box;margin-bottom: 0.5em;}#sk-container-id-4 div.sk-estimator:hover {background-color: #d4ebff;}#sk-container-id-4 div.sk-parallel-item::after {content: \"\";width: 100%;border-bottom: 1px solid gray;flex-grow: 1;}#sk-container-id-4 div.sk-label:hover label.sk-toggleable__label {background-color: #d4ebff;}#sk-container-id-4 div.sk-serial::before {content: \"\";position: absolute;border-left: 1px solid gray;box-sizing: border-box;top: 0;bottom: 0;left: 50%;z-index: 0;}#sk-container-id-4 div.sk-serial {display: flex;flex-direction: column;align-items: center;background-color: white;padding-right: 0.2em;padding-left: 0.2em;position: relative;}#sk-container-id-4 div.sk-item {position: relative;z-index: 1;}#sk-container-id-4 div.sk-parallel {display: flex;align-items: stretch;justify-content: center;background-color: white;position: relative;}#sk-container-id-4 div.sk-item::before, #sk-container-id-4 div.sk-parallel-item::before {content: \"\";position: absolute;border-left: 1px solid gray;box-sizing: border-box;top: 0;bottom: 0;left: 50%;z-index: -1;}#sk-container-id-4 div.sk-parallel-item {display: flex;flex-direction: column;z-index: 1;position: relative;background-color: white;}#sk-container-id-4 div.sk-parallel-item:first-child::after {align-self: flex-end;width: 50%;}#sk-container-id-4 div.sk-parallel-item:last-child::after {align-self: flex-start;width: 50%;}#sk-container-id-4 div.sk-parallel-item:only-child::after {width: 0;}#sk-container-id-4 div.sk-dashed-wrapped {border: 1px dashed gray;margin: 0 0.4em 0.5em 0.4em;box-sizing: border-box;padding-bottom: 0.4em;background-color: white;}#sk-container-id-4 div.sk-label label {font-family: monospace;font-weight: bold;display: inline-block;line-height: 1.2em;}#sk-container-id-4 div.sk-label-container {text-align: center;}#sk-container-id-4 div.sk-container {/* jupyter's `normalize.less` sets `[hidden] { display: none; }` but bootstrap.min.css set `[hidden] { display: none !important; }` so we also need the `!important` here to be able to override the default hidden behavior on the sphinx rendered scikit-learn.org. See: https://github.com/scikit-learn/scikit-learn/issues/21755 */display: inline-block !important;position: relative;}#sk-container-id-4 div.sk-text-repr-fallback {display: none;}</style><div id=\"sk-container-id-4\" class=\"sk-top-container\"><div class=\"sk-text-repr-fallback\"><pre>GridSearchCV(estimator=KNeighborsClassifier(n_jobs=-1, p=1), n_jobs=-1,\n",
       "             param_grid={&#x27;n_neighbors&#x27;: range(1, 30)}, scoring=&#x27;accuracy&#x27;)</pre><b>In a Jupyter environment, please rerun this cell to show the HTML representation or trust the notebook. <br />On GitHub, the HTML representation is unable to render, please try loading this page with nbviewer.org.</b></div><div class=\"sk-container\" hidden><div class=\"sk-item sk-dashed-wrapped\"><div class=\"sk-label-container\"><div class=\"sk-label sk-toggleable\"><input class=\"sk-toggleable__control sk-hidden--visually\" id=\"sk-estimator-id-8\" type=\"checkbox\" ><label for=\"sk-estimator-id-8\" class=\"sk-toggleable__label sk-toggleable__label-arrow\">GridSearchCV</label><div class=\"sk-toggleable__content\"><pre>GridSearchCV(estimator=KNeighborsClassifier(n_jobs=-1, p=1), n_jobs=-1,\n",
       "             param_grid={&#x27;n_neighbors&#x27;: range(1, 30)}, scoring=&#x27;accuracy&#x27;)</pre></div></div></div><div class=\"sk-parallel\"><div class=\"sk-parallel-item\"><div class=\"sk-item\"><div class=\"sk-label-container\"><div class=\"sk-label sk-toggleable\"><input class=\"sk-toggleable__control sk-hidden--visually\" id=\"sk-estimator-id-9\" type=\"checkbox\" ><label for=\"sk-estimator-id-9\" class=\"sk-toggleable__label sk-toggleable__label-arrow\">estimator: KNeighborsClassifier</label><div class=\"sk-toggleable__content\"><pre>KNeighborsClassifier(n_jobs=-1, p=1)</pre></div></div></div><div class=\"sk-serial\"><div class=\"sk-item\"><div class=\"sk-estimator sk-toggleable\"><input class=\"sk-toggleable__control sk-hidden--visually\" id=\"sk-estimator-id-10\" type=\"checkbox\" ><label for=\"sk-estimator-id-10\" class=\"sk-toggleable__label sk-toggleable__label-arrow\">KNeighborsClassifier</label><div class=\"sk-toggleable__content\"><pre>KNeighborsClassifier(n_jobs=-1, p=1)</pre></div></div></div></div></div></div></div></div></div></div>"
      ],
      "text/plain": [
       "GridSearchCV(estimator=KNeighborsClassifier(n_jobs=-1, p=1), n_jobs=-1,\n",
       "             param_grid={'n_neighbors': range(1, 30)}, scoring='accuracy')"
      ]
     },
     "execution_count": 58,
     "metadata": {},
     "output_type": "execute_result"
    }
   ],
   "source": [
    "knn = KNeighborsClassifier(weights='uniform', p = 1, n_jobs=-1)\n",
    "knn_param_grid = {'n_neighbors':range(1, 30)}\n",
    "knn_grid_search = GridSearchCV(knn, param_grid = knn_param_grid, scoring='accuracy', n_jobs=-1)\n",
    "knn_grid_search.fit(X_train_scaled, y_train)"
   ]
  },
  {
   "cell_type": "code",
   "execution_count": 59,
   "id": "8c2b7e1d",
   "metadata": {},
   "outputs": [
    {
     "data": {
      "text/html": [
       "<div>\n",
       "<style scoped>\n",
       "    .dataframe tbody tr th:only-of-type {\n",
       "        vertical-align: middle;\n",
       "    }\n",
       "\n",
       "    .dataframe tbody tr th {\n",
       "        vertical-align: top;\n",
       "    }\n",
       "\n",
       "    .dataframe thead th {\n",
       "        text-align: right;\n",
       "    }\n",
       "</style>\n",
       "<table border=\"1\" class=\"dataframe\">\n",
       "  <thead>\n",
       "    <tr style=\"text-align: right;\">\n",
       "      <th></th>\n",
       "      <th>param_n_neighbors</th>\n",
       "      <th>mean_test_score</th>\n",
       "      <th>rank_test_score</th>\n",
       "    </tr>\n",
       "  </thead>\n",
       "  <tbody>\n",
       "    <tr>\n",
       "      <th>0</th>\n",
       "      <td>1</td>\n",
       "      <td>0.791201</td>\n",
       "      <td>29</td>\n",
       "    </tr>\n",
       "    <tr>\n",
       "      <th>1</th>\n",
       "      <td>2</td>\n",
       "      <td>0.805811</td>\n",
       "      <td>28</td>\n",
       "    </tr>\n",
       "    <tr>\n",
       "      <th>2</th>\n",
       "      <td>3</td>\n",
       "      <td>0.815329</td>\n",
       "      <td>27</td>\n",
       "    </tr>\n",
       "    <tr>\n",
       "      <th>3</th>\n",
       "      <td>4</td>\n",
       "      <td>0.819203</td>\n",
       "      <td>26</td>\n",
       "    </tr>\n",
       "    <tr>\n",
       "      <th>4</th>\n",
       "      <td>5</td>\n",
       "      <td>0.824709</td>\n",
       "      <td>25</td>\n",
       "    </tr>\n",
       "    <tr>\n",
       "      <th>5</th>\n",
       "      <td>6</td>\n",
       "      <td>0.826563</td>\n",
       "      <td>24</td>\n",
       "    </tr>\n",
       "    <tr>\n",
       "      <th>6</th>\n",
       "      <td>7</td>\n",
       "      <td>0.831295</td>\n",
       "      <td>21</td>\n",
       "    </tr>\n",
       "    <tr>\n",
       "      <th>7</th>\n",
       "      <td>8</td>\n",
       "      <td>0.830105</td>\n",
       "      <td>22</td>\n",
       "    </tr>\n",
       "    <tr>\n",
       "      <th>8</th>\n",
       "      <td>9</td>\n",
       "      <td>0.831904</td>\n",
       "      <td>18</td>\n",
       "    </tr>\n",
       "    <tr>\n",
       "      <th>9</th>\n",
       "      <td>10</td>\n",
       "      <td>0.829718</td>\n",
       "      <td>23</td>\n",
       "    </tr>\n",
       "    <tr>\n",
       "      <th>10</th>\n",
       "      <td>11</td>\n",
       "      <td>0.831848</td>\n",
       "      <td>19</td>\n",
       "    </tr>\n",
       "    <tr>\n",
       "      <th>11</th>\n",
       "      <td>12</td>\n",
       "      <td>0.831848</td>\n",
       "      <td>19</td>\n",
       "    </tr>\n",
       "    <tr>\n",
       "      <th>12</th>\n",
       "      <td>13</td>\n",
       "      <td>0.833979</td>\n",
       "      <td>17</td>\n",
       "    </tr>\n",
       "    <tr>\n",
       "      <th>13</th>\n",
       "      <td>14</td>\n",
       "      <td>0.834007</td>\n",
       "      <td>16</td>\n",
       "    </tr>\n",
       "    <tr>\n",
       "      <th>14</th>\n",
       "      <td>15</td>\n",
       "      <td>0.834892</td>\n",
       "      <td>14</td>\n",
       "    </tr>\n",
       "    <tr>\n",
       "      <th>15</th>\n",
       "      <td>16</td>\n",
       "      <td>0.834283</td>\n",
       "      <td>15</td>\n",
       "    </tr>\n",
       "    <tr>\n",
       "      <th>16</th>\n",
       "      <td>17</td>\n",
       "      <td>0.835279</td>\n",
       "      <td>12</td>\n",
       "    </tr>\n",
       "    <tr>\n",
       "      <th>17</th>\n",
       "      <td>18</td>\n",
       "      <td>0.835307</td>\n",
       "      <td>11</td>\n",
       "    </tr>\n",
       "    <tr>\n",
       "      <th>18</th>\n",
       "      <td>19</td>\n",
       "      <td>0.836303</td>\n",
       "      <td>6</td>\n",
       "    </tr>\n",
       "    <tr>\n",
       "      <th>19</th>\n",
       "      <td>20</td>\n",
       "      <td>0.835639</td>\n",
       "      <td>10</td>\n",
       "    </tr>\n",
       "    <tr>\n",
       "      <th>20</th>\n",
       "      <td>21</td>\n",
       "      <td>0.836608</td>\n",
       "      <td>4</td>\n",
       "    </tr>\n",
       "    <tr>\n",
       "      <th>21</th>\n",
       "      <td>22</td>\n",
       "      <td>0.835169</td>\n",
       "      <td>13</td>\n",
       "    </tr>\n",
       "    <tr>\n",
       "      <th>22</th>\n",
       "      <td>23</td>\n",
       "      <td>0.836608</td>\n",
       "      <td>4</td>\n",
       "    </tr>\n",
       "    <tr>\n",
       "      <th>23</th>\n",
       "      <td>24</td>\n",
       "      <td>0.835971</td>\n",
       "      <td>8</td>\n",
       "    </tr>\n",
       "    <tr>\n",
       "      <th>24</th>\n",
       "      <td>25</td>\n",
       "      <td>0.837521</td>\n",
       "      <td>1</td>\n",
       "    </tr>\n",
       "    <tr>\n",
       "      <th>25</th>\n",
       "      <td>26</td>\n",
       "      <td>0.835916</td>\n",
       "      <td>9</td>\n",
       "    </tr>\n",
       "    <tr>\n",
       "      <th>26</th>\n",
       "      <td>27</td>\n",
       "      <td>0.836829</td>\n",
       "      <td>2</td>\n",
       "    </tr>\n",
       "    <tr>\n",
       "      <th>27</th>\n",
       "      <td>28</td>\n",
       "      <td>0.836137</td>\n",
       "      <td>7</td>\n",
       "    </tr>\n",
       "    <tr>\n",
       "      <th>28</th>\n",
       "      <td>29</td>\n",
       "      <td>0.836718</td>\n",
       "      <td>3</td>\n",
       "    </tr>\n",
       "  </tbody>\n",
       "</table>\n",
       "</div>"
      ],
      "text/plain": [
       "   param_n_neighbors  mean_test_score  rank_test_score\n",
       "0                  1         0.791201               29\n",
       "1                  2         0.805811               28\n",
       "2                  3         0.815329               27\n",
       "3                  4         0.819203               26\n",
       "4                  5         0.824709               25\n",
       "5                  6         0.826563               24\n",
       "6                  7         0.831295               21\n",
       "7                  8         0.830105               22\n",
       "8                  9         0.831904               18\n",
       "9                 10         0.829718               23\n",
       "10                11         0.831848               19\n",
       "11                12         0.831848               19\n",
       "12                13         0.833979               17\n",
       "13                14         0.834007               16\n",
       "14                15         0.834892               14\n",
       "15                16         0.834283               15\n",
       "16                17         0.835279               12\n",
       "17                18         0.835307               11\n",
       "18                19         0.836303                6\n",
       "19                20         0.835639               10\n",
       "20                21         0.836608                4\n",
       "21                22         0.835169               13\n",
       "22                23         0.836608                4\n",
       "23                24         0.835971                8\n",
       "24                25         0.837521                1\n",
       "25                26         0.835916                9\n",
       "26                27         0.836829                2\n",
       "27                28         0.836137                7\n",
       "28                29         0.836718                3"
      ]
     },
     "execution_count": 59,
     "metadata": {},
     "output_type": "execute_result"
    }
   ],
   "source": [
    "knn_gs_results = pd.DataFrame(knn_grid_search.cv_results_)\n",
    "knn_gs_results = knn_gs_results[['param_n_neighbors',\n",
    "                                 'mean_test_score','rank_test_score']].sort_values(by='param_n_neighbors')\n",
    "knn_gs_results"
   ]
  },
  {
   "cell_type": "code",
   "execution_count": 60,
   "id": "ef1e8673",
   "metadata": {},
   "outputs": [
    {
     "data": {
      "text/plain": [
       "<matplotlib.lines.Line2D at 0x20721dda850>"
      ]
     },
     "execution_count": 60,
     "metadata": {},
     "output_type": "execute_result"
    },
    {
     "data": {
      "image/png": "[encoded data removed]",
      "text/plain": [
       "<Figure size 640x480 with 1 Axes>"
      ]
     },
     "metadata": {},
     "output_type": "display_data"
    }
   ],
   "source": [
    "p = knn_gs_results['param_n_neighbors']\n",
    "s = knn_gs_results['mean_test_score']\n",
    "plt.plot(p,s)\n",
    "plt.ylim(0.79,0.845)\n",
    "plt.axhline(y=0.83, color='r', linestyle='--', linewidth=0.5)\n",
    "plt.axhline(y=0.835, color='r', linestyle='--', linewidth=0.5)\n",
    "plt.axhline(y=0.84, color='r', linestyle='--', linewidth=0.5)\n",
    "#test score flattens at around 15, let's stick to that parameter"
   ]
  },
  {
   "cell_type": "code",
   "execution_count": 61,
   "id": "781e3133",
   "metadata": {},
   "outputs": [],
   "source": [
    "knn = knn_grid_search.best_estimator_"
   ]
  },
  {
   "cell_type": "code",
   "execution_count": 62,
   "id": "7cf945a4",
   "metadata": {},
   "outputs": [
    {
     "data": {
      "text/html": [
       "<div>\n",
       "<style scoped>\n",
       "    .dataframe tbody tr th:only-of-type {\n",
       "        vertical-align: middle;\n",
       "    }\n",
       "\n",
       "    .dataframe tbody tr th {\n",
       "        vertical-align: top;\n",
       "    }\n",
       "\n",
       "    .dataframe thead th {\n",
       "        text-align: right;\n",
       "    }\n",
       "</style>\n",
       "<table border=\"1\" class=\"dataframe\">\n",
       "  <thead>\n",
       "    <tr style=\"text-align: right;\">\n",
       "      <th></th>\n",
       "      <th>model</th>\n",
       "      <th>accuracy</th>\n",
       "      <th>precision</th>\n",
       "      <th>recall</th>\n",
       "      <th>f1</th>\n",
       "      <th>auc</th>\n",
       "    </tr>\n",
       "  </thead>\n",
       "  <tbody>\n",
       "    <tr>\n",
       "      <th>0</th>\n",
       "      <td>Logistic Regression</td>\n",
       "      <td>0.828224</td>\n",
       "      <td>0.818752</td>\n",
       "      <td>0.828224</td>\n",
       "      <td>0.819121</td>\n",
       "      <td>0.726891</td>\n",
       "    </tr>\n",
       "    <tr>\n",
       "      <th>0</th>\n",
       "      <td>Decision Tree</td>\n",
       "      <td>0.850249</td>\n",
       "      <td>0.843776</td>\n",
       "      <td>0.850249</td>\n",
       "      <td>0.841819</td>\n",
       "      <td>0.754252</td>\n",
       "    </tr>\n",
       "    <tr>\n",
       "      <th>0</th>\n",
       "      <td>K Nearest Neighbors</td>\n",
       "      <td>0.821583</td>\n",
       "      <td>0.815614</td>\n",
       "      <td>0.821583</td>\n",
       "      <td>0.817793</td>\n",
       "      <td>0.741479</td>\n",
       "    </tr>\n",
       "  </tbody>\n",
       "</table>\n",
       "</div>"
      ],
      "text/plain": [
       "                 model  accuracy  precision    recall        f1       auc\n",
       "0  Logistic Regression  0.828224   0.818752  0.828224  0.819121  0.726891\n",
       "0        Decision Tree  0.850249   0.843776  0.850249  0.841819  0.754252\n",
       "0  K Nearest Neighbors  0.821583   0.815614  0.821583  0.817793  0.741479"
      ]
     },
     "execution_count": 62,
     "metadata": {},
     "output_type": "execute_result"
    }
   ],
   "source": [
    "get_prediction(knn, X_test_scaled, \"K Nearest Neighbors\")\n",
    "metrics"
   ]
  },
  {
   "cell_type": "code",
   "execution_count": 63,
   "id": "ec953d04",
   "metadata": {},
   "outputs": [
    {
     "data": {
      "text/html": [
       "<div>\n",
       "<style scoped>\n",
       "    .dataframe tbody tr th:only-of-type {\n",
       "        vertical-align: middle;\n",
       "    }\n",
       "\n",
       "    .dataframe tbody tr th {\n",
       "        vertical-align: top;\n",
       "    }\n",
       "\n",
       "    .dataframe thead th {\n",
       "        text-align: right;\n",
       "    }\n",
       "</style>\n",
       "<table border=\"1\" class=\"dataframe\">\n",
       "  <thead>\n",
       "    <tr style=\"text-align: right;\">\n",
       "      <th></th>\n",
       "      <th>model</th>\n",
       "      <th>tpr</th>\n",
       "      <th>fpr</th>\n",
       "      <th>auc</th>\n",
       "    </tr>\n",
       "  </thead>\n",
       "  <tbody>\n",
       "    <tr>\n",
       "      <th>0</th>\n",
       "      <td>Logistic Regression</td>\n",
       "      <td>[0.0, 0.5258928571428572, 1.0]</td>\n",
       "      <td>[0.0, 0.07211184694628403, 1.0]</td>\n",
       "      <td>0.726891</td>\n",
       "    </tr>\n",
       "    <tr>\n",
       "      <th>0</th>\n",
       "      <td>Decision Tree</td>\n",
       "      <td>[0.0, 0.5638392857142858, 1.0]</td>\n",
       "      <td>[0.0, 0.055334805003679176, 1.0]</td>\n",
       "      <td>0.754252</td>\n",
       "    </tr>\n",
       "    <tr>\n",
       "      <th>0</th>\n",
       "      <td>K Nearest Neighbors</td>\n",
       "      <td>[0.0, 0.5825892857142857, 1.0]</td>\n",
       "      <td>[0.0, 0.09963208241353937, 1.0]</td>\n",
       "      <td>0.741479</td>\n",
       "    </tr>\n",
       "  </tbody>\n",
       "</table>\n",
       "</div>"
      ],
      "text/plain": [
       "                 model                             tpr  \\\n",
       "0  Logistic Regression  [0.0, 0.5258928571428572, 1.0]   \n",
       "0        Decision Tree  [0.0, 0.5638392857142858, 1.0]   \n",
       "0  K Nearest Neighbors  [0.0, 0.5825892857142857, 1.0]   \n",
       "\n",
       "                                fpr       auc  \n",
       "0   [0.0, 0.07211184694628403, 1.0]  0.726891  \n",
       "0  [0.0, 0.055334805003679176, 1.0]  0.754252  \n",
       "0   [0.0, 0.09963208241353937, 1.0]  0.741479  "
      ]
     },
     "execution_count": 63,
     "metadata": {},
     "output_type": "execute_result"
    }
   ],
   "source": [
    "get_roc_params(knn, X_test_scaled, \"K Nearest Neighbors\")\n",
    "roc_params"
   ]
  },
  {
   "cell_type": "markdown",
   "id": "53fb74a1",
   "metadata": {},
   "source": [
    "## Boosting"
   ]
  },
  {
   "cell_type": "code",
   "execution_count": 64,
   "id": "3574e19f",
   "metadata": {},
   "outputs": [
    {
     "data": {
      "text/html": [
       "<style>#sk-container-id-5 {color: black;}#sk-container-id-5 pre{padding: 0;}#sk-container-id-5 div.sk-toggleable {background-color: white;}#sk-container-id-5 label.sk-toggleable__label {cursor: pointer;display: block;width: 100%;margin-bottom: 0;padding: 0.3em;box-sizing: border-box;text-align: center;}#sk-container-id-5 label.sk-toggleable__label-arrow:before {content: \"▸\";float: left;margin-right: 0.25em;color: #696969;}#sk-container-id-5 label.sk-toggleable__label-arrow:hover:before {color: black;}#sk-container-id-5 div.sk-estimator:hover label.sk-toggleable__label-arrow:before {color: black;}#sk-container-id-5 div.sk-toggleable__content {max-height: 0;max-width: 0;overflow: hidden;text-align: left;background-color: #f0f8ff;}#sk-container-id-5 div.sk-toggleable__content pre {margin: 0.2em;color: black;border-radius: 0.25em;background-color: #f0f8ff;}#sk-container-id-5 input.sk-toggleable__control:checked~div.sk-toggleable__content {max-height: 200px;max-width: 100%;overflow: auto;}#sk-container-id-5 input.sk-toggleable__control:checked~label.sk-toggleable__label-arrow:before {content: \"▾\";}#sk-container-id-5 div.sk-estimator input.sk-toggleable__control:checked~label.sk-toggleable__label {background-color: #d4ebff;}#sk-container-id-5 div.sk-label input.sk-toggleable__control:checked~label.sk-toggleable__label {background-color: #d4ebff;}#sk-container-id-5 input.sk-hidden--visually {border: 0;clip: rect(1px 1px 1px 1px);clip: rect(1px, 1px, 1px, 1px);height: 1px;margin: -1px;overflow: hidden;padding: 0;position: absolute;width: 1px;}#sk-container-id-5 div.sk-estimator {font-family: monospace;background-color: #f0f8ff;border: 1px dotted black;border-radius: 0.25em;box-sizing: border-box;margin-bottom: 0.5em;}#sk-container-id-5 div.sk-estimator:hover {background-color: #d4ebff;}#sk-container-id-5 div.sk-parallel-item::after {content: \"\";width: 100%;border-bottom: 1px solid gray;flex-grow: 1;}#sk-container-id-5 div.sk-label:hover label.sk-toggleable__label {background-color: #d4ebff;}#sk-container-id-5 div.sk-serial::before {content: \"\";position: absolute;border-left: 1px solid gray;box-sizing: border-box;top: 0;bottom: 0;left: 50%;z-index: 0;}#sk-container-id-5 div.sk-serial {display: flex;flex-direction: column;align-items: center;background-color: white;padding-right: 0.2em;padding-left: 0.2em;position: relative;}#sk-container-id-5 div.sk-item {position: relative;z-index: 1;}#sk-container-id-5 div.sk-parallel {display: flex;align-items: stretch;justify-content: center;background-color: white;position: relative;}#sk-container-id-5 div.sk-item::before, #sk-container-id-5 div.sk-parallel-item::before {content: \"\";position: absolute;border-left: 1px solid gray;box-sizing: border-box;top: 0;bottom: 0;left: 50%;z-index: -1;}#sk-container-id-5 div.sk-parallel-item {display: flex;flex-direction: column;z-index: 1;position: relative;background-color: white;}#sk-container-id-5 div.sk-parallel-item:first-child::after {align-self: flex-end;width: 50%;}#sk-container-id-5 div.sk-parallel-item:last-child::after {align-self: flex-start;width: 50%;}#sk-container-id-5 div.sk-parallel-item:only-child::after {width: 0;}#sk-container-id-5 div.sk-dashed-wrapped {border: 1px dashed gray;margin: 0 0.4em 0.5em 0.4em;box-sizing: border-box;padding-bottom: 0.4em;background-color: white;}#sk-container-id-5 div.sk-label label {font-family: monospace;font-weight: bold;display: inline-block;line-height: 1.2em;}#sk-container-id-5 div.sk-label-container {text-align: center;}#sk-container-id-5 div.sk-container {/* jupyter's `normalize.less` sets `[hidden] { display: none; }` but bootstrap.min.css set `[hidden] { display: none !important; }` so we also need the `!important` here to be able to override the default hidden behavior on the sphinx rendered scikit-learn.org. See: https://github.com/scikit-learn/scikit-learn/issues/21755 */display: inline-block !important;position: relative;}#sk-container-id-5 div.sk-text-repr-fallback {display: none;}</style><div id=\"sk-container-id-5\" class=\"sk-top-container\"><div class=\"sk-text-repr-fallback\"><pre>GridSearchCV(estimator=XGBClassifier(base_score=None, booster=None,\n",
       "                                     callbacks=None, colsample_bylevel=None,\n",
       "                                     colsample_bynode=None,\n",
       "                                     colsample_bytree=None, device=None,\n",
       "                                     early_stopping_rounds=None,\n",
       "                                     enable_categorical=False, eval_metric=None,\n",
       "                                     feature_types=None, gamma=None,\n",
       "                                     grow_policy=None, importance_type=None,\n",
       "                                     interaction_constraints=None,\n",
       "                                     learning_rate=None, max_b...\n",
       "                                     max_cat_threshold=None,\n",
       "                                     max_cat_to_onehot=None,\n",
       "                                     max_delta_step=None, max_depth=None,\n",
       "                                     max_leaves=None, min_child_weight=None,\n",
       "                                     missing=nan, monotone_constraints=None,\n",
       "                                     multi_strategy=None, n_estimators=None,\n",
       "                                     n_jobs=-1, num_parallel_tree=None,\n",
       "                                     random_state=777, ...),\n",
       "             n_jobs=-1,\n",
       "             param_grid={&#x27;learning_rate&#x27;: [0.01, 0.05, 0.1, 0.15, 0.2, 0.25],\n",
       "                         &#x27;n_estimators&#x27;: range(0, 501, 50)},\n",
       "             scoring=&#x27;accuracy&#x27;)</pre><b>In a Jupyter environment, please rerun this cell to show the HTML representation or trust the notebook. <br />On GitHub, the HTML representation is unable to render, please try loading this page with nbviewer.org.</b></div><div class=\"sk-container\" hidden><div class=\"sk-item sk-dashed-wrapped\"><div class=\"sk-label-container\"><div class=\"sk-label sk-toggleable\"><input class=\"sk-toggleable__control sk-hidden--visually\" id=\"sk-estimator-id-11\" type=\"checkbox\" ><label for=\"sk-estimator-id-11\" class=\"sk-toggleable__label sk-toggleable__label-arrow\">GridSearchCV</label><div class=\"sk-toggleable__content\"><pre>GridSearchCV(estimator=XGBClassifier(base_score=None, booster=None,\n",
       "                                     callbacks=None, colsample_bylevel=None,\n",
       "                                     colsample_bynode=None,\n",
       "                                     colsample_bytree=None, device=None,\n",
       "                                     early_stopping_rounds=None,\n",
       "                                     enable_categorical=False, eval_metric=None,\n",
       "                                     feature_types=None, gamma=None,\n",
       "                                     grow_policy=None, importance_type=None,\n",
       "                                     interaction_constraints=None,\n",
       "                                     learning_rate=None, max_b...\n",
       "                                     max_cat_threshold=None,\n",
       "                                     max_cat_to_onehot=None,\n",
       "                                     max_delta_step=None, max_depth=None,\n",
       "                                     max_leaves=None, min_child_weight=None,\n",
       "                                     missing=nan, monotone_constraints=None,\n",
       "                                     multi_strategy=None, n_estimators=None,\n",
       "                                     n_jobs=-1, num_parallel_tree=None,\n",
       "                                     random_state=777, ...),\n",
       "             n_jobs=-1,\n",
       "             param_grid={&#x27;learning_rate&#x27;: [0.01, 0.05, 0.1, 0.15, 0.2, 0.25],\n",
       "                         &#x27;n_estimators&#x27;: range(0, 501, 50)},\n",
       "             scoring=&#x27;accuracy&#x27;)</pre></div></div></div><div class=\"sk-parallel\"><div class=\"sk-parallel-item\"><div class=\"sk-item\"><div class=\"sk-label-container\"><div class=\"sk-label sk-toggleable\"><input class=\"sk-toggleable__control sk-hidden--visually\" id=\"sk-estimator-id-12\" type=\"checkbox\" ><label for=\"sk-estimator-id-12\" class=\"sk-toggleable__label sk-toggleable__label-arrow\">estimator: XGBClassifier</label><div class=\"sk-toggleable__content\"><pre>XGBClassifier(base_score=None, booster=None, callbacks=None,\n",
       "              colsample_bylevel=None, colsample_bynode=None,\n",
       "              colsample_bytree=None, device=None, early_stopping_rounds=None,\n",
       "              enable_categorical=False, eval_metric=None, feature_types=None,\n",
       "              gamma=None, grow_policy=None, importance_type=None,\n",
       "              interaction_constraints=None, learning_rate=None, max_bin=None,\n",
       "              max_cat_threshold=None, max_cat_to_onehot=None,\n",
       "              max_delta_step=None, max_depth=None, max_leaves=None,\n",
       "              min_child_weight=None, missing=nan, monotone_constraints=None,\n",
       "              multi_strategy=None, n_estimators=None, n_jobs=-1,\n",
       "              num_parallel_tree=None, random_state=777, ...)</pre></div></div></div><div class=\"sk-serial\"><div class=\"sk-item\"><div class=\"sk-estimator sk-toggleable\"><input class=\"sk-toggleable__control sk-hidden--visually\" id=\"sk-estimator-id-13\" type=\"checkbox\" ><label for=\"sk-estimator-id-13\" class=\"sk-toggleable__label sk-toggleable__label-arrow\">XGBClassifier</label><div class=\"sk-toggleable__content\"><pre>XGBClassifier(base_score=None, booster=None, callbacks=None,\n",
       "              colsample_bylevel=None, colsample_bynode=None,\n",
       "              colsample_bytree=None, device=None, early_stopping_rounds=None,\n",
       "              enable_categorical=False, eval_metric=None, feature_types=None,\n",
       "              gamma=None, grow_policy=None, importance_type=None,\n",
       "              interaction_constraints=None, learning_rate=None, max_bin=None,\n",
       "              max_cat_threshold=None, max_cat_to_onehot=None,\n",
       "              max_delta_step=None, max_depth=None, max_leaves=None,\n",
       "              min_child_weight=None, missing=nan, monotone_constraints=None,\n",
       "              multi_strategy=None, n_estimators=None, n_jobs=-1,\n",
       "              num_parallel_tree=None, random_state=777, ...)</pre></div></div></div></div></div></div></div></div></div></div>"
      ],
      "text/plain": [
       "GridSearchCV(estimator=XGBClassifier(base_score=None, booster=None,\n",
       "                                     callbacks=None, colsample_bylevel=None,\n",
       "                                     colsample_bynode=None,\n",
       "                                     colsample_bytree=None, device=None,\n",
       "                                     early_stopping_rounds=None,\n",
       "                                     enable_categorical=False, eval_metric=None,\n",
       "                                     feature_types=None, gamma=None,\n",
       "                                     grow_policy=None, importance_type=None,\n",
       "                                     interaction_constraints=None,\n",
       "                                     learning_rate=None, max_b...\n",
       "                                     max_cat_threshold=None,\n",
       "                                     max_cat_to_onehot=None,\n",
       "                                     max_delta_step=None, max_depth=None,\n",
       "                                     max_leaves=None, min_child_weight=None,\n",
       "                                     missing=nan, monotone_constraints=None,\n",
       "                                     multi_strategy=None, n_estimators=None,\n",
       "                                     n_jobs=-1, num_parallel_tree=None,\n",
       "                                     random_state=777, ...),\n",
       "             n_jobs=-1,\n",
       "             param_grid={'learning_rate': [0.01, 0.05, 0.1, 0.15, 0.2, 0.25],\n",
       "                         'n_estimators': range(0, 501, 50)},\n",
       "             scoring='accuracy')"
      ]
     },
     "execution_count": 64,
     "metadata": {},
     "output_type": "execute_result"
    }
   ],
   "source": [
    "xgb = XGBClassifier(objective='binary:logistic', n_jobs=-1, random_state=777)\n",
    "xgb_param_grid = {'n_estimators': range(0, 501, 50),\n",
    "                  'learning_rate': [0.01, 0.05, 0.1, 0.15, 0.2, 0.25]}\n",
    "xgb_grid_search = GridSearchCV(xgb, param_grid = xgb_param_grid, scoring='accuracy', n_jobs=-1)\n",
    "xgb_grid_search.fit(X_train, y_train)"
   ]
  },
  {
   "cell_type": "code",
   "execution_count": 65,
   "id": "d9789f71",
   "metadata": {
    "scrolled": true
   },
   "outputs": [
    {
     "data": {
      "text/html": [
       "<div>\n",
       "<style scoped>\n",
       "    .dataframe tbody tr th:only-of-type {\n",
       "        vertical-align: middle;\n",
       "    }\n",
       "\n",
       "    .dataframe tbody tr th {\n",
       "        vertical-align: top;\n",
       "    }\n",
       "\n",
       "    .dataframe thead th {\n",
       "        text-align: right;\n",
       "    }\n",
       "</style>\n",
       "<table border=\"1\" class=\"dataframe\">\n",
       "  <thead>\n",
       "    <tr style=\"text-align: right;\">\n",
       "      <th></th>\n",
       "      <th>param_n_estimators</th>\n",
       "      <th>param_learning_rate</th>\n",
       "      <th>mean_test_score</th>\n",
       "      <th>rank_test_score</th>\n",
       "    </tr>\n",
       "  </thead>\n",
       "  <tbody>\n",
       "    <tr>\n",
       "      <th>18</th>\n",
       "      <td>350</td>\n",
       "      <td>0.05</td>\n",
       "      <td>0.870753</td>\n",
       "      <td>1</td>\n",
       "    </tr>\n",
       "    <tr>\n",
       "      <th>17</th>\n",
       "      <td>300</td>\n",
       "      <td>0.05</td>\n",
       "      <td>0.870504</td>\n",
       "      <td>2</td>\n",
       "    </tr>\n",
       "    <tr>\n",
       "      <th>16</th>\n",
       "      <td>250</td>\n",
       "      <td>0.05</td>\n",
       "      <td>0.870504</td>\n",
       "      <td>3</td>\n",
       "    </tr>\n",
       "    <tr>\n",
       "      <th>26</th>\n",
       "      <td>200</td>\n",
       "      <td>0.1</td>\n",
       "      <td>0.870448</td>\n",
       "      <td>4</td>\n",
       "    </tr>\n",
       "    <tr>\n",
       "      <th>19</th>\n",
       "      <td>400</td>\n",
       "      <td>0.05</td>\n",
       "      <td>0.870255</td>\n",
       "      <td>5</td>\n",
       "    </tr>\n",
       "    <tr>\n",
       "      <th>...</th>\n",
       "      <td>...</td>\n",
       "      <td>...</td>\n",
       "      <td>...</td>\n",
       "      <td>...</td>\n",
       "    </tr>\n",
       "    <tr>\n",
       "      <th>22</th>\n",
       "      <td>0</td>\n",
       "      <td>0.1</td>\n",
       "      <td>0.752020</td>\n",
       "      <td>61</td>\n",
       "    </tr>\n",
       "    <tr>\n",
       "      <th>55</th>\n",
       "      <td>0</td>\n",
       "      <td>0.25</td>\n",
       "      <td>0.752020</td>\n",
       "      <td>61</td>\n",
       "    </tr>\n",
       "    <tr>\n",
       "      <th>11</th>\n",
       "      <td>0</td>\n",
       "      <td>0.05</td>\n",
       "      <td>0.752020</td>\n",
       "      <td>61</td>\n",
       "    </tr>\n",
       "    <tr>\n",
       "      <th>44</th>\n",
       "      <td>0</td>\n",
       "      <td>0.2</td>\n",
       "      <td>0.752020</td>\n",
       "      <td>61</td>\n",
       "    </tr>\n",
       "    <tr>\n",
       "      <th>0</th>\n",
       "      <td>0</td>\n",
       "      <td>0.01</td>\n",
       "      <td>0.752020</td>\n",
       "      <td>61</td>\n",
       "    </tr>\n",
       "  </tbody>\n",
       "</table>\n",
       "<p>66 rows × 4 columns</p>\n",
       "</div>"
      ],
      "text/plain": [
       "   param_n_estimators param_learning_rate  mean_test_score  rank_test_score\n",
       "18                350                0.05         0.870753                1\n",
       "17                300                0.05         0.870504                2\n",
       "16                250                0.05         0.870504                3\n",
       "26                200                 0.1         0.870448                4\n",
       "19                400                0.05         0.870255                5\n",
       "..                ...                 ...              ...              ...\n",
       "22                  0                 0.1         0.752020               61\n",
       "55                  0                0.25         0.752020               61\n",
       "11                  0                0.05         0.752020               61\n",
       "44                  0                 0.2         0.752020               61\n",
       "0                   0                0.01         0.752020               61\n",
       "\n",
       "[66 rows x 4 columns]"
      ]
     },
     "execution_count": 65,
     "metadata": {},
     "output_type": "execute_result"
    }
   ],
   "source": [
    "xgb_gs_results = pd.DataFrame(xgb_grid_search.cv_results_)\n",
    "xgb_gs_results = xgb_gs_results[['param_n_estimators', 'param_learning_rate','mean_test_score',\n",
    "                                 'rank_test_score']].sort_values(by='rank_test_score')\n",
    "xgb_gs_results"
   ]
  },
  {
   "cell_type": "code",
   "execution_count": 66,
   "id": "1fff4df7",
   "metadata": {},
   "outputs": [],
   "source": [
    "print(xgb_grid_search.best_params_)\n",
    "xgb = xgb_grid_search.best_estimator_"
   ]
  },
  {
   "cell_type": "code",
   "execution_count": 67,
   "id": "214c436e",
   "metadata": {},
   "outputs": [
    {
     "data": {
      "text/html": [
       "<div>\n",
       "<style scoped>\n",
       "    .dataframe tbody tr th:only-of-type {\n",
       "        vertical-align: middle;\n",
       "    }\n",
       "\n",
       "    .dataframe tbody tr th {\n",
       "        vertical-align: top;\n",
       "    }\n",
       "\n",
       "    .dataframe thead th {\n",
       "        text-align: right;\n",
       "    }\n",
       "</style>\n",
       "<table border=\"1\" class=\"dataframe\">\n",
       "  <thead>\n",
       "    <tr style=\"text-align: right;\">\n",
       "      <th></th>\n",
       "      <th>model</th>\n",
       "      <th>accuracy</th>\n",
       "      <th>precision</th>\n",
       "      <th>recall</th>\n",
       "      <th>f1</th>\n",
       "      <th>auc</th>\n",
       "    </tr>\n",
       "  </thead>\n",
       "  <tbody>\n",
       "    <tr>\n",
       "      <th>0</th>\n",
       "      <td>Logistic Regression</td>\n",
       "      <td>0.828224</td>\n",
       "      <td>0.818752</td>\n",
       "      <td>0.828224</td>\n",
       "      <td>0.819121</td>\n",
       "      <td>0.726891</td>\n",
       "    </tr>\n",
       "    <tr>\n",
       "      <th>0</th>\n",
       "      <td>Decision Tree</td>\n",
       "      <td>0.850249</td>\n",
       "      <td>0.843776</td>\n",
       "      <td>0.850249</td>\n",
       "      <td>0.841819</td>\n",
       "      <td>0.754252</td>\n",
       "    </tr>\n",
       "    <tr>\n",
       "      <th>0</th>\n",
       "      <td>K Nearest Neighbors</td>\n",
       "      <td>0.821583</td>\n",
       "      <td>0.815614</td>\n",
       "      <td>0.821583</td>\n",
       "      <td>0.817793</td>\n",
       "      <td>0.741479</td>\n",
       "    </tr>\n",
       "    <tr>\n",
       "      <th>0</th>\n",
       "      <td>XG Boost</td>\n",
       "      <td>0.871721</td>\n",
       "      <td>0.867502</td>\n",
       "      <td>0.871721</td>\n",
       "      <td>0.867834</td>\n",
       "      <td>0.801446</td>\n",
       "    </tr>\n",
       "  </tbody>\n",
       "</table>\n",
       "</div>"
      ],
      "text/plain": [
       "                 model  accuracy  precision    recall        f1       auc\n",
       "0  Logistic Regression  0.828224   0.818752  0.828224  0.819121  0.726891\n",
       "0        Decision Tree  0.850249   0.843776  0.850249  0.841819  0.754252\n",
       "0  K Nearest Neighbors  0.821583   0.815614  0.821583  0.817793  0.741479\n",
       "0             XG Boost  0.871721   0.867502  0.871721  0.867834  0.801446"
      ]
     },
     "execution_count": 67,
     "metadata": {},
     "output_type": "execute_result"
    }
   ],
   "source": [
    "get_prediction(xgb, X_test, \"XG Boost\")\n",
    "metrics"
   ]
  },
  {
   "cell_type": "code",
   "execution_count": 68,
   "id": "2381fd41",
   "metadata": {},
   "outputs": [
    {
     "data": {
      "text/html": [
       "<div>\n",
       "<style scoped>\n",
       "    .dataframe tbody tr th:only-of-type {\n",
       "        vertical-align: middle;\n",
       "    }\n",
       "\n",
       "    .dataframe tbody tr th {\n",
       "        vertical-align: top;\n",
       "    }\n",
       "\n",
       "    .dataframe thead th {\n",
       "        text-align: right;\n",
       "    }\n",
       "</style>\n",
       "<table border=\"1\" class=\"dataframe\">\n",
       "  <thead>\n",
       "    <tr style=\"text-align: right;\">\n",
       "      <th></th>\n",
       "      <th>model</th>\n",
       "      <th>tpr</th>\n",
       "      <th>fpr</th>\n",
       "      <th>auc</th>\n",
       "    </tr>\n",
       "  </thead>\n",
       "  <tbody>\n",
       "    <tr>\n",
       "      <th>0</th>\n",
       "      <td>Logistic Regression</td>\n",
       "      <td>[0.0, 0.5258928571428572, 1.0]</td>\n",
       "      <td>[0.0, 0.07211184694628403, 1.0]</td>\n",
       "      <td>0.726891</td>\n",
       "    </tr>\n",
       "    <tr>\n",
       "      <th>0</th>\n",
       "      <td>Decision Tree</td>\n",
       "      <td>[0.0, 0.5638392857142858, 1.0]</td>\n",
       "      <td>[0.0, 0.055334805003679176, 1.0]</td>\n",
       "      <td>0.754252</td>\n",
       "    </tr>\n",
       "    <tr>\n",
       "      <th>0</th>\n",
       "      <td>K Nearest Neighbors</td>\n",
       "      <td>[0.0, 0.5825892857142857, 1.0]</td>\n",
       "      <td>[0.0, 0.09963208241353937, 1.0]</td>\n",
       "      <td>0.741479</td>\n",
       "    </tr>\n",
       "    <tr>\n",
       "      <th>0</th>\n",
       "      <td>XG Boost</td>\n",
       "      <td>[0.0, 0.6620535714285715, 1.0]</td>\n",
       "      <td>[0.0, 0.059161147902869755, 1.0]</td>\n",
       "      <td>0.801446</td>\n",
       "    </tr>\n",
       "  </tbody>\n",
       "</table>\n",
       "</div>"
      ],
      "text/plain": [
       "                 model                             tpr  \\\n",
       "0  Logistic Regression  [0.0, 0.5258928571428572, 1.0]   \n",
       "0        Decision Tree  [0.0, 0.5638392857142858, 1.0]   \n",
       "0  K Nearest Neighbors  [0.0, 0.5825892857142857, 1.0]   \n",
       "0             XG Boost  [0.0, 0.6620535714285715, 1.0]   \n",
       "\n",
       "                                fpr       auc  \n",
       "0   [0.0, 0.07211184694628403, 1.0]  0.726891  \n",
       "0  [0.0, 0.055334805003679176, 1.0]  0.754252  \n",
       "0   [0.0, 0.09963208241353937, 1.0]  0.741479  \n",
       "0  [0.0, 0.059161147902869755, 1.0]  0.801446  "
      ]
     },
     "execution_count": 68,
     "metadata": {},
     "output_type": "execute_result"
    }
   ],
   "source": [
    "get_roc_params(xgb, X_test, \"XG Boost\")\n",
    "roc_params"
   ]
  },
  {
   "cell_type": "markdown",
   "id": "6304c0cd",
   "metadata": {},
   "source": [
    "## Random Forest - Bagging"
   ]
  },
  {
   "cell_type": "code",
   "execution_count": 69,
   "id": "e9a9f75f",
   "metadata": {},
   "outputs": [],
   "source": [
    "rf = RandomForestClassifier(max_depth=5, bootstrap = True, oob_score=True, n_jobs=-1, random_state = 777, \n",
    "                            warm_start=True, max_features = round(np.sqrt(len(X_train.columns)))-1)"
   ]
  },
  {
   "cell_type": "code",
   "execution_count": 70,
   "id": "4fa49e78",
   "metadata": {},
   "outputs": [
    {
     "name": "stderr",
     "output_type": "stream",
     "text": [
      "C:\\ProgramData\\anaconda3\\Lib\\site-packages\\sklearn\\ensemble\\_forest.py:578: UserWarning: Some inputs do not have OOB scores. This probably means too few trees were used to compute any reliable OOB estimates.\n",
      "  warn(\n",
      "C:\\ProgramData\\anaconda3\\Lib\\site-packages\\sklearn\\ensemble\\_forest.py:578: UserWarning: Some inputs do not have OOB scores. This probably means too few trees were used to compute any reliable OOB estimates.\n",
      "  warn(\n"
     ]
    },
    {
     "data": {
      "text/html": [
       "<div>\n",
       "<style scoped>\n",
       "    .dataframe tbody tr th:only-of-type {\n",
       "        vertical-align: middle;\n",
       "    }\n",
       "\n",
       "    .dataframe tbody tr th {\n",
       "        vertical-align: top;\n",
       "    }\n",
       "\n",
       "    .dataframe thead th {\n",
       "        text-align: right;\n",
       "    }\n",
       "</style>\n",
       "<table border=\"1\" class=\"dataframe\">\n",
       "  <thead>\n",
       "    <tr style=\"text-align: right;\">\n",
       "      <th></th>\n",
       "      <th>oob</th>\n",
       "    </tr>\n",
       "    <tr>\n",
       "      <th>n_trees</th>\n",
       "      <th></th>\n",
       "    </tr>\n",
       "  </thead>\n",
       "  <tbody>\n",
       "    <tr>\n",
       "      <th>15.0</th>\n",
       "      <td>0.837714</td>\n",
       "    </tr>\n",
       "    <tr>\n",
       "      <th>20.0</th>\n",
       "      <td>0.836829</td>\n",
       "    </tr>\n",
       "    <tr>\n",
       "      <th>30.0</th>\n",
       "      <td>0.836746</td>\n",
       "    </tr>\n",
       "    <tr>\n",
       "      <th>40.0</th>\n",
       "      <td>0.838323</td>\n",
       "    </tr>\n",
       "    <tr>\n",
       "      <th>50.0</th>\n",
       "      <td>0.838129</td>\n",
       "    </tr>\n",
       "    <tr>\n",
       "      <th>100.0</th>\n",
       "      <td>0.841201</td>\n",
       "    </tr>\n",
       "    <tr>\n",
       "      <th>110.0</th>\n",
       "      <td>0.841201</td>\n",
       "    </tr>\n",
       "    <tr>\n",
       "      <th>120.0</th>\n",
       "      <td>0.841422</td>\n",
       "    </tr>\n",
       "    <tr>\n",
       "      <th>130.0</th>\n",
       "      <td>0.841422</td>\n",
       "    </tr>\n",
       "    <tr>\n",
       "      <th>140.0</th>\n",
       "      <td>0.841561</td>\n",
       "    </tr>\n",
       "    <tr>\n",
       "      <th>150.0</th>\n",
       "      <td>0.841948</td>\n",
       "    </tr>\n",
       "    <tr>\n",
       "      <th>200.0</th>\n",
       "      <td>0.842114</td>\n",
       "    </tr>\n",
       "    <tr>\n",
       "      <th>300.0</th>\n",
       "      <td>0.841976</td>\n",
       "    </tr>\n",
       "    <tr>\n",
       "      <th>400.0</th>\n",
       "      <td>0.841478</td>\n",
       "    </tr>\n",
       "  </tbody>\n",
       "</table>\n",
       "</div>"
      ],
      "text/plain": [
       "              oob\n",
       "n_trees          \n",
       "15.0     0.837714\n",
       "20.0     0.836829\n",
       "30.0     0.836746\n",
       "40.0     0.838323\n",
       "50.0     0.838129\n",
       "100.0    0.841201\n",
       "110.0    0.841201\n",
       "120.0    0.841422\n",
       "130.0    0.841422\n",
       "140.0    0.841561\n",
       "150.0    0.841948\n",
       "200.0    0.842114\n",
       "300.0    0.841976\n",
       "400.0    0.841478"
      ]
     },
     "execution_count": 70,
     "metadata": {},
     "output_type": "execute_result"
    }
   ],
   "source": [
    "rf_oob_list = list()\n",
    "\n",
    "for n_trees in [15, 20, 30, 40, 50, 100, 110, 120, 130, 140, 150, 200, 300, 400]:\n",
    "    rf.set_params(n_estimators=n_trees)\n",
    "    rf.fit(X_train, y_train)\n",
    "    rf_oob_list.append(pd.Series({'n_trees': n_trees, 'oob': rf.oob_score_}))\n",
    "\n",
    "rf_oob_df = pd.concat(rf_oob_list, axis=1).T.set_index('n_trees')\n",
    "rf_oob_df\n",
    "\n",
    "#oob score peaked at 200 trees, then started shrinking"
   ]
  },
  {
   "cell_type": "code",
   "execution_count": 71,
   "id": "c82d10c1",
   "metadata": {},
   "outputs": [
    {
     "data": {
      "text/plain": [
       "<matplotlib.lines.Line2D at 0x20721decb50>"
      ]
     },
     "execution_count": 71,
     "metadata": {},
     "output_type": "execute_result"
    },
    {
     "data": {
      "image/png": "[encoded data removed]",
      "text/plain": [
       "<Figure size 640x480 with 1 Axes>"
      ]
     },
     "metadata": {},
     "output_type": "display_data"
    }
   ],
   "source": [
    "rf_oob_df.reset_index(inplace=True)\n",
    "rf_oob_df.plot(y = 'oob', x = 'n_trees')\n",
    "plt.axhline(y=0.842, color='r', linestyle='--', linewidth=0.5)"
   ]
  },
  {
   "cell_type": "code",
   "execution_count": 72,
   "id": "8c09aeea",
   "metadata": {},
   "outputs": [],
   "source": [
    "rf = RandomForestClassifier(bootstrap = True, oob_score=True, n_jobs=-1, \n",
    "                            random_state = 777, warm_start=True)\n",
    "mfs = round(np.sqrt(len(X_train.columns))) #max features squared"
   ]
  },
  {
   "cell_type": "code",
   "execution_count": 73,
   "id": "1a176615",
   "metadata": {},
   "outputs": [
    {
     "data": {
      "text/html": [
       "<style>#sk-container-id-6 {color: black;}#sk-container-id-6 pre{padding: 0;}#sk-container-id-6 div.sk-toggleable {background-color: white;}#sk-container-id-6 label.sk-toggleable__label {cursor: pointer;display: block;width: 100%;margin-bottom: 0;padding: 0.3em;box-sizing: border-box;text-align: center;}#sk-container-id-6 label.sk-toggleable__label-arrow:before {content: \"▸\";float: left;margin-right: 0.25em;color: #696969;}#sk-container-id-6 label.sk-toggleable__label-arrow:hover:before {color: black;}#sk-container-id-6 div.sk-estimator:hover label.sk-toggleable__label-arrow:before {color: black;}#sk-container-id-6 div.sk-toggleable__content {max-height: 0;max-width: 0;overflow: hidden;text-align: left;background-color: #f0f8ff;}#sk-container-id-6 div.sk-toggleable__content pre {margin: 0.2em;color: black;border-radius: 0.25em;background-color: #f0f8ff;}#sk-container-id-6 input.sk-toggleable__control:checked~div.sk-toggleable__content {max-height: 200px;max-width: 100%;overflow: auto;}#sk-container-id-6 input.sk-toggleable__control:checked~label.sk-toggleable__label-arrow:before {content: \"▾\";}#sk-container-id-6 div.sk-estimator input.sk-toggleable__control:checked~label.sk-toggleable__label {background-color: #d4ebff;}#sk-container-id-6 div.sk-label input.sk-toggleable__control:checked~label.sk-toggleable__label {background-color: #d4ebff;}#sk-container-id-6 input.sk-hidden--visually {border: 0;clip: rect(1px 1px 1px 1px);clip: rect(1px, 1px, 1px, 1px);height: 1px;margin: -1px;overflow: hidden;padding: 0;position: absolute;width: 1px;}#sk-container-id-6 div.sk-estimator {font-family: monospace;background-color: #f0f8ff;border: 1px dotted black;border-radius: 0.25em;box-sizing: border-box;margin-bottom: 0.5em;}#sk-container-id-6 div.sk-estimator:hover {background-color: #d4ebff;}#sk-container-id-6 div.sk-parallel-item::after {content: \"\";width: 100%;border-bottom: 1px solid gray;flex-grow: 1;}#sk-container-id-6 div.sk-label:hover label.sk-toggleable__label {background-color: #d4ebff;}#sk-container-id-6 div.sk-serial::before {content: \"\";position: absolute;border-left: 1px solid gray;box-sizing: border-box;top: 0;bottom: 0;left: 50%;z-index: 0;}#sk-container-id-6 div.sk-serial {display: flex;flex-direction: column;align-items: center;background-color: white;padding-right: 0.2em;padding-left: 0.2em;position: relative;}#sk-container-id-6 div.sk-item {position: relative;z-index: 1;}#sk-container-id-6 div.sk-parallel {display: flex;align-items: stretch;justify-content: center;background-color: white;position: relative;}#sk-container-id-6 div.sk-item::before, #sk-container-id-6 div.sk-parallel-item::before {content: \"\";position: absolute;border-left: 1px solid gray;box-sizing: border-box;top: 0;bottom: 0;left: 50%;z-index: -1;}#sk-container-id-6 div.sk-parallel-item {display: flex;flex-direction: column;z-index: 1;position: relative;background-color: white;}#sk-container-id-6 div.sk-parallel-item:first-child::after {align-self: flex-end;width: 50%;}#sk-container-id-6 div.sk-parallel-item:last-child::after {align-self: flex-start;width: 50%;}#sk-container-id-6 div.sk-parallel-item:only-child::after {width: 0;}#sk-container-id-6 div.sk-dashed-wrapped {border: 1px dashed gray;margin: 0 0.4em 0.5em 0.4em;box-sizing: border-box;padding-bottom: 0.4em;background-color: white;}#sk-container-id-6 div.sk-label label {font-family: monospace;font-weight: bold;display: inline-block;line-height: 1.2em;}#sk-container-id-6 div.sk-label-container {text-align: center;}#sk-container-id-6 div.sk-container {/* jupyter's `normalize.less` sets `[hidden] { display: none; }` but bootstrap.min.css set `[hidden] { display: none !important; }` so we also need the `!important` here to be able to override the default hidden behavior on the sphinx rendered scikit-learn.org. See: https://github.com/scikit-learn/scikit-learn/issues/21755 */display: inline-block !important;position: relative;}#sk-container-id-6 div.sk-text-repr-fallback {display: none;}</style><div id=\"sk-container-id-6\" class=\"sk-top-container\"><div class=\"sk-text-repr-fallback\"><pre>GridSearchCV(estimator=RandomForestClassifier(n_jobs=-1, oob_score=True,\n",
       "                                              random_state=777,\n",
       "                                              warm_start=True),\n",
       "             n_jobs=-1,\n",
       "             param_grid={&#x27;max_depth&#x27;: range(3, 8), &#x27;max_features&#x27;: [2, 3, 4],\n",
       "                         &#x27;n_estimators&#x27;: [15, 20, 30, 40, 50, 100, 110, 120,\n",
       "                                          130, 140, 150, 200, 300, 400]},\n",
       "             scoring=&#x27;accuracy&#x27;)</pre><b>In a Jupyter environment, please rerun this cell to show the HTML representation or trust the notebook. <br />On GitHub, the HTML representation is unable to render, please try loading this page with nbviewer.org.</b></div><div class=\"sk-container\" hidden><div class=\"sk-item sk-dashed-wrapped\"><div class=\"sk-label-container\"><div class=\"sk-label sk-toggleable\"><input class=\"sk-toggleable__control sk-hidden--visually\" id=\"sk-estimator-id-14\" type=\"checkbox\" ><label for=\"sk-estimator-id-14\" class=\"sk-toggleable__label sk-toggleable__label-arrow\">GridSearchCV</label><div class=\"sk-toggleable__content\"><pre>GridSearchCV(estimator=RandomForestClassifier(n_jobs=-1, oob_score=True,\n",
       "                                              random_state=777,\n",
       "                                              warm_start=True),\n",
       "             n_jobs=-1,\n",
       "             param_grid={&#x27;max_depth&#x27;: range(3, 8), &#x27;max_features&#x27;: [2, 3, 4],\n",
       "                         &#x27;n_estimators&#x27;: [15, 20, 30, 40, 50, 100, 110, 120,\n",
       "                                          130, 140, 150, 200, 300, 400]},\n",
       "             scoring=&#x27;accuracy&#x27;)</pre></div></div></div><div class=\"sk-parallel\"><div class=\"sk-parallel-item\"><div class=\"sk-item\"><div class=\"sk-label-container\"><div class=\"sk-label sk-toggleable\"><input class=\"sk-toggleable__control sk-hidden--visually\" id=\"sk-estimator-id-15\" type=\"checkbox\" ><label for=\"sk-estimator-id-15\" class=\"sk-toggleable__label sk-toggleable__label-arrow\">estimator: RandomForestClassifier</label><div class=\"sk-toggleable__content\"><pre>RandomForestClassifier(n_jobs=-1, oob_score=True, random_state=777,\n",
       "                       warm_start=True)</pre></div></div></div><div class=\"sk-serial\"><div class=\"sk-item\"><div class=\"sk-estimator sk-toggleable\"><input class=\"sk-toggleable__control sk-hidden--visually\" id=\"sk-estimator-id-16\" type=\"checkbox\" ><label for=\"sk-estimator-id-16\" class=\"sk-toggleable__label sk-toggleable__label-arrow\">RandomForestClassifier</label><div class=\"sk-toggleable__content\"><pre>RandomForestClassifier(n_jobs=-1, oob_score=True, random_state=777,\n",
       "                       warm_start=True)</pre></div></div></div></div></div></div></div></div></div></div>"
      ],
      "text/plain": [
       "GridSearchCV(estimator=RandomForestClassifier(n_jobs=-1, oob_score=True,\n",
       "                                              random_state=777,\n",
       "                                              warm_start=True),\n",
       "             n_jobs=-1,\n",
       "             param_grid={'max_depth': range(3, 8), 'max_features': [2, 3, 4],\n",
       "                         'n_estimators': [15, 20, 30, 40, 50, 100, 110, 120,\n",
       "                                          130, 140, 150, 200, 300, 400]},\n",
       "             scoring='accuracy')"
      ]
     },
     "execution_count": 73,
     "metadata": {},
     "output_type": "execute_result"
    }
   ],
   "source": [
    "rf_param_grid = {'n_estimators': [15, 20, 30, 40, 50, 100, 110, 120, 130, 140, 150, 200, 300, 400],\n",
    "                  'max_features': [mfs-1, mfs, mfs+1],\n",
    "                  'max_depth': range(3,8)}\n",
    "rf_grid_search = GridSearchCV(rf, param_grid = rf_param_grid, scoring='accuracy', n_jobs=-1)\n",
    "rf_grid_search.fit(X_train, y_train)"
   ]
  },
  {
   "cell_type": "code",
   "execution_count": 74,
   "id": "dff9bd2e",
   "metadata": {},
   "outputs": [
    {
     "data": {
      "text/plain": [
       "{'max_depth': 7, 'max_features': 4, 'n_estimators': 110}"
      ]
     },
     "execution_count": 74,
     "metadata": {},
     "output_type": "execute_result"
    }
   ],
   "source": [
    "rf_grid_search.best_params_"
   ]
  },
  {
   "cell_type": "code",
   "execution_count": 75,
   "id": "4974fdf8",
   "metadata": {},
   "outputs": [
    {
     "data": {
      "text/html": [
       "<div>\n",
       "<style scoped>\n",
       "    .dataframe tbody tr th:only-of-type {\n",
       "        vertical-align: middle;\n",
       "    }\n",
       "\n",
       "    .dataframe tbody tr th {\n",
       "        vertical-align: top;\n",
       "    }\n",
       "\n",
       "    .dataframe thead th {\n",
       "        text-align: right;\n",
       "    }\n",
       "</style>\n",
       "<table border=\"1\" class=\"dataframe\">\n",
       "  <thead>\n",
       "    <tr style=\"text-align: right;\">\n",
       "      <th></th>\n",
       "      <th>param_n_estimators</th>\n",
       "      <th>param_max_features</th>\n",
       "      <th>param_max_depth</th>\n",
       "      <th>mean_test_score</th>\n",
       "      <th>rank_test_score</th>\n",
       "    </tr>\n",
       "  </thead>\n",
       "  <tbody>\n",
       "    <tr>\n",
       "      <th>202</th>\n",
       "      <td>110</td>\n",
       "      <td>4</td>\n",
       "      <td>7</td>\n",
       "      <td>0.851300</td>\n",
       "      <td>1</td>\n",
       "    </tr>\n",
       "    <tr>\n",
       "      <th>200</th>\n",
       "      <td>50</td>\n",
       "      <td>4</td>\n",
       "      <td>7</td>\n",
       "      <td>0.851245</td>\n",
       "      <td>2</td>\n",
       "    </tr>\n",
       "    <tr>\n",
       "      <th>209</th>\n",
       "      <td>400</td>\n",
       "      <td>4</td>\n",
       "      <td>7</td>\n",
       "      <td>0.851190</td>\n",
       "      <td>3</td>\n",
       "    </tr>\n",
       "    <tr>\n",
       "      <th>203</th>\n",
       "      <td>120</td>\n",
       "      <td>4</td>\n",
       "      <td>7</td>\n",
       "      <td>0.851190</td>\n",
       "      <td>3</td>\n",
       "    </tr>\n",
       "    <tr>\n",
       "      <th>201</th>\n",
       "      <td>100</td>\n",
       "      <td>4</td>\n",
       "      <td>7</td>\n",
       "      <td>0.851162</td>\n",
       "      <td>5</td>\n",
       "    </tr>\n",
       "    <tr>\n",
       "      <th>...</th>\n",
       "      <td>...</td>\n",
       "      <td>...</td>\n",
       "      <td>...</td>\n",
       "      <td>...</td>\n",
       "      <td>...</td>\n",
       "    </tr>\n",
       "    <tr>\n",
       "      <th>5</th>\n",
       "      <td>100</td>\n",
       "      <td>2</td>\n",
       "      <td>3</td>\n",
       "      <td>0.807692</td>\n",
       "      <td>206</td>\n",
       "    </tr>\n",
       "    <tr>\n",
       "      <th>6</th>\n",
       "      <td>110</td>\n",
       "      <td>2</td>\n",
       "      <td>3</td>\n",
       "      <td>0.805977</td>\n",
       "      <td>207</td>\n",
       "    </tr>\n",
       "    <tr>\n",
       "      <th>1</th>\n",
       "      <td>20</td>\n",
       "      <td>2</td>\n",
       "      <td>3</td>\n",
       "      <td>0.805672</td>\n",
       "      <td>208</td>\n",
       "    </tr>\n",
       "    <tr>\n",
       "      <th>4</th>\n",
       "      <td>50</td>\n",
       "      <td>2</td>\n",
       "      <td>3</td>\n",
       "      <td>0.804898</td>\n",
       "      <td>209</td>\n",
       "    </tr>\n",
       "    <tr>\n",
       "      <th>2</th>\n",
       "      <td>30</td>\n",
       "      <td>2</td>\n",
       "      <td>3</td>\n",
       "      <td>0.797980</td>\n",
       "      <td>210</td>\n",
       "    </tr>\n",
       "  </tbody>\n",
       "</table>\n",
       "<p>210 rows × 5 columns</p>\n",
       "</div>"
      ],
      "text/plain": [
       "    param_n_estimators param_max_features param_max_depth  mean_test_score  \\\n",
       "202                110                  4               7         0.851300   \n",
       "200                 50                  4               7         0.851245   \n",
       "209                400                  4               7         0.851190   \n",
       "203                120                  4               7         0.851190   \n",
       "201                100                  4               7         0.851162   \n",
       "..                 ...                ...             ...              ...   \n",
       "5                  100                  2               3         0.807692   \n",
       "6                  110                  2               3         0.805977   \n",
       "1                   20                  2               3         0.805672   \n",
       "4                   50                  2               3         0.804898   \n",
       "2                   30                  2               3         0.797980   \n",
       "\n",
       "     rank_test_score  \n",
       "202                1  \n",
       "200                2  \n",
       "209                3  \n",
       "203                3  \n",
       "201                5  \n",
       "..               ...  \n",
       "5                206  \n",
       "6                207  \n",
       "1                208  \n",
       "4                209  \n",
       "2                210  \n",
       "\n",
       "[210 rows x 5 columns]"
      ]
     },
     "execution_count": 75,
     "metadata": {},
     "output_type": "execute_result"
    }
   ],
   "source": [
    "rf_gs_results = pd.DataFrame(rf_grid_search.cv_results_)\n",
    "rf_gs_results = rf_gs_results[['param_n_estimators','param_max_features','param_max_depth',\n",
    "                                 'mean_test_score','rank_test_score']].sort_values(by='rank_test_score')\n",
    "                                                                                   \n",
    "rf_gs_results"
   ]
  },
  {
   "cell_type": "code",
   "execution_count": 76,
   "id": "15b46e20",
   "metadata": {},
   "outputs": [],
   "source": [
    "bps = rf_gs_results[(rf_gs_results['param_max_features'] == 4) & (rf_gs_results['param_max_depth'] == 7)]\n",
    "#best params set"
   ]
  },
  {
   "cell_type": "code",
   "execution_count": 77,
   "id": "b3d73586",
   "metadata": {},
   "outputs": [
    {
     "name": "stderr",
     "output_type": "stream",
     "text": [
      "C:\\Users\\apobi\\AppData\\Local\\Temp\\ipykernel_10916\\2936699219.py:1: SettingWithCopyWarning: \n",
      "A value is trying to be set on a copy of a slice from a DataFrame\n",
      "\n",
      "See the caveats in the documentation: https://pandas.pydata.org/pandas-docs/stable/user_guide/indexing.html#returning-a-view-versus-a-copy\n",
      "  bps.sort_values(by='param_n_estimators', inplace=True)\n"
     ]
    },
    {
     "data": {
      "text/plain": [
       "<Axes: xlabel='param_n_estimators'>"
      ]
     },
     "execution_count": 77,
     "metadata": {},
     "output_type": "execute_result"
    },
    {
     "data": {
      "image/png": "[encoded data removed]",
      "text/plain": [
       "<Figure size 640x480 with 1 Axes>"
      ]
     },
     "metadata": {},
     "output_type": "display_data"
    }
   ],
   "source": [
    "bps.sort_values(by='param_n_estimators', inplace=True)\n",
    "bps.plot('param_n_estimators', 'mean_test_score')"
   ]
  },
  {
   "cell_type": "code",
   "execution_count": 78,
   "id": "ba27ebfd",
   "metadata": {},
   "outputs": [],
   "source": [
    "print(rf_grid_search.best_params_)\n",
    "rf = rf_grid_search.best_estimator_"
   ]
  },
  {
   "cell_type": "code",
   "execution_count": 79,
   "id": "c16473bc",
   "metadata": {
    "scrolled": true
   },
   "outputs": [
    {
     "data": {
      "text/html": [
       "<div>\n",
       "<style scoped>\n",
       "    .dataframe tbody tr th:only-of-type {\n",
       "        vertical-align: middle;\n",
       "    }\n",
       "\n",
       "    .dataframe tbody tr th {\n",
       "        vertical-align: top;\n",
       "    }\n",
       "\n",
       "    .dataframe thead th {\n",
       "        text-align: right;\n",
       "    }\n",
       "</style>\n",
       "<table border=\"1\" class=\"dataframe\">\n",
       "  <thead>\n",
       "    <tr style=\"text-align: right;\">\n",
       "      <th></th>\n",
       "      <th>model</th>\n",
       "      <th>accuracy</th>\n",
       "      <th>precision</th>\n",
       "      <th>recall</th>\n",
       "      <th>f1</th>\n",
       "      <th>auc</th>\n",
       "    </tr>\n",
       "  </thead>\n",
       "  <tbody>\n",
       "    <tr>\n",
       "      <th>0</th>\n",
       "      <td>Logistic Regression</td>\n",
       "      <td>0.828224</td>\n",
       "      <td>0.818752</td>\n",
       "      <td>0.828224</td>\n",
       "      <td>0.819121</td>\n",
       "      <td>0.726891</td>\n",
       "    </tr>\n",
       "    <tr>\n",
       "      <th>0</th>\n",
       "      <td>Decision Tree</td>\n",
       "      <td>0.850249</td>\n",
       "      <td>0.843776</td>\n",
       "      <td>0.850249</td>\n",
       "      <td>0.841819</td>\n",
       "      <td>0.754252</td>\n",
       "    </tr>\n",
       "    <tr>\n",
       "      <th>0</th>\n",
       "      <td>K Nearest Neighbors</td>\n",
       "      <td>0.821583</td>\n",
       "      <td>0.815614</td>\n",
       "      <td>0.821583</td>\n",
       "      <td>0.817793</td>\n",
       "      <td>0.741479</td>\n",
       "    </tr>\n",
       "    <tr>\n",
       "      <th>0</th>\n",
       "      <td>XG Boost</td>\n",
       "      <td>0.871721</td>\n",
       "      <td>0.867502</td>\n",
       "      <td>0.871721</td>\n",
       "      <td>0.867834</td>\n",
       "      <td>0.801446</td>\n",
       "    </tr>\n",
       "    <tr>\n",
       "      <th>0</th>\n",
       "      <td>Random Forest</td>\n",
       "      <td>0.852131</td>\n",
       "      <td>0.846419</td>\n",
       "      <td>0.852131</td>\n",
       "      <td>0.842495</td>\n",
       "      <td>0.751164</td>\n",
       "    </tr>\n",
       "  </tbody>\n",
       "</table>\n",
       "</div>"
      ],
      "text/plain": [
       "                 model  accuracy  precision    recall        f1       auc\n",
       "0  Logistic Regression  0.828224   0.818752  0.828224  0.819121  0.726891\n",
       "0        Decision Tree  0.850249   0.843776  0.850249  0.841819  0.754252\n",
       "0  K Nearest Neighbors  0.821583   0.815614  0.821583  0.817793  0.741479\n",
       "0             XG Boost  0.871721   0.867502  0.871721  0.867834  0.801446\n",
       "0        Random Forest  0.852131   0.846419  0.852131  0.842495  0.751164"
      ]
     },
     "execution_count": 79,
     "metadata": {},
     "output_type": "execute_result"
    }
   ],
   "source": [
    "get_prediction(rf, X_test, \"Random Forest\")\n",
    "metrics"
   ]
  },
  {
   "cell_type": "code",
   "execution_count": 80,
   "id": "f439d2a5",
   "metadata": {
    "scrolled": true
   },
   "outputs": [
    {
     "data": {
      "text/html": [
       "<div>\n",
       "<style scoped>\n",
       "    .dataframe tbody tr th:only-of-type {\n",
       "        vertical-align: middle;\n",
       "    }\n",
       "\n",
       "    .dataframe tbody tr th {\n",
       "        vertical-align: top;\n",
       "    }\n",
       "\n",
       "    .dataframe thead th {\n",
       "        text-align: right;\n",
       "    }\n",
       "</style>\n",
       "<table border=\"1\" class=\"dataframe\">\n",
       "  <thead>\n",
       "    <tr style=\"text-align: right;\">\n",
       "      <th></th>\n",
       "      <th>model</th>\n",
       "      <th>tpr</th>\n",
       "      <th>fpr</th>\n",
       "      <th>auc</th>\n",
       "    </tr>\n",
       "  </thead>\n",
       "  <tbody>\n",
       "    <tr>\n",
       "      <th>0</th>\n",
       "      <td>Logistic Regression</td>\n",
       "      <td>[0.0, 0.5258928571428572, 1.0]</td>\n",
       "      <td>[0.0, 0.07211184694628403, 1.0]</td>\n",
       "      <td>0.726891</td>\n",
       "    </tr>\n",
       "    <tr>\n",
       "      <th>0</th>\n",
       "      <td>Decision Tree</td>\n",
       "      <td>[0.0, 0.5638392857142858, 1.0]</td>\n",
       "      <td>[0.0, 0.055334805003679176, 1.0]</td>\n",
       "      <td>0.754252</td>\n",
       "    </tr>\n",
       "    <tr>\n",
       "      <th>0</th>\n",
       "      <td>K Nearest Neighbors</td>\n",
       "      <td>[0.0, 0.5825892857142857, 1.0]</td>\n",
       "      <td>[0.0, 0.09963208241353937, 1.0]</td>\n",
       "      <td>0.741479</td>\n",
       "    </tr>\n",
       "    <tr>\n",
       "      <th>0</th>\n",
       "      <td>XG Boost</td>\n",
       "      <td>[0.0, 0.6620535714285715, 1.0]</td>\n",
       "      <td>[0.0, 0.059161147902869755, 1.0]</td>\n",
       "      <td>0.801446</td>\n",
       "    </tr>\n",
       "    <tr>\n",
       "      <th>0</th>\n",
       "      <td>Random Forest</td>\n",
       "      <td>[0.0, 0.5508928571428572, 1.0]</td>\n",
       "      <td>[0.0, 0.04856512141280353, 1.0]</td>\n",
       "      <td>0.751164</td>\n",
       "    </tr>\n",
       "  </tbody>\n",
       "</table>\n",
       "</div>"
      ],
      "text/plain": [
       "                 model                             tpr  \\\n",
       "0  Logistic Regression  [0.0, 0.5258928571428572, 1.0]   \n",
       "0        Decision Tree  [0.0, 0.5638392857142858, 1.0]   \n",
       "0  K Nearest Neighbors  [0.0, 0.5825892857142857, 1.0]   \n",
       "0             XG Boost  [0.0, 0.6620535714285715, 1.0]   \n",
       "0        Random Forest  [0.0, 0.5508928571428572, 1.0]   \n",
       "\n",
       "                                fpr       auc  \n",
       "0   [0.0, 0.07211184694628403, 1.0]  0.726891  \n",
       "0  [0.0, 0.055334805003679176, 1.0]  0.754252  \n",
       "0   [0.0, 0.09963208241353937, 1.0]  0.741479  \n",
       "0  [0.0, 0.059161147902869755, 1.0]  0.801446  \n",
       "0   [0.0, 0.04856512141280353, 1.0]  0.751164  "
      ]
     },
     "execution_count": 80,
     "metadata": {},
     "output_type": "execute_result"
    }
   ],
   "source": [
    "get_roc_params(rf, X_test, \"Random Forest\")\n",
    "roc_params"
   ]
  },
  {
   "cell_type": "markdown",
   "id": "8cd74260",
   "metadata": {},
   "source": [
    "## Oversampling approach"
   ]
  },
  {
   "cell_type": "code",
   "execution_count": 81,
   "id": "af8fce36",
   "metadata": {},
   "outputs": [
    {
     "data": {
      "text/plain": [
       "income\n",
       "0    0.752031\n",
       "1    0.247969\n",
       "Name: proportion, dtype: float64"
      ]
     },
     "execution_count": 81,
     "metadata": {},
     "output_type": "execute_result"
    }
   ],
   "source": [
    "y.value_counts(normalize=True)\n",
    "#The target variable balance is around 3:1\n",
    "#Lets do oversampling and check if the best models anyhow perform better"
   ]
  },
  {
   "cell_type": "code",
   "execution_count": 82,
   "id": "b31ec137",
   "metadata": {},
   "outputs": [
    {
     "data": {
      "text/plain": [
       "income\n",
       "0    0.5\n",
       "1    0.5\n",
       "Name: proportion, dtype: float64"
      ]
     },
     "execution_count": 82,
     "metadata": {},
     "output_type": "execute_result"
    }
   ],
   "source": [
    "smote_sampler = SMOTE(random_state = 777)\n",
    "X_smo, y_smo = smote_sampler.fit_resample(X_train, y_train)\n",
    "y_smo.value_counts(normalize=True)"
   ]
  },
  {
   "cell_type": "code",
   "execution_count": 83,
   "id": "fabd9d22",
   "metadata": {},
   "outputs": [],
   "source": [
    "ss = StandardScaler()\n",
    "X_smo_train_scaled = ss.fit_transform(X_smo)"
   ]
  },
  {
   "cell_type": "code",
   "execution_count": 84,
   "id": "4a6e9b67",
   "metadata": {},
   "outputs": [
    {
     "name": "stderr",
     "output_type": "stream",
     "text": [
      "C:\\ProgramData\\anaconda3\\Lib\\site-packages\\sklearn\\ensemble\\_forest.py:435: UserWarning: Warm-start fitting without increasing n_estimators does not fit new trees.\n",
      "  warn(\n"
     ]
    }
   ],
   "source": [
    "lr_smot = lr.fit(X_smo, y_smo)\n",
    "dt_smot = dt.fit(X_smo, y_smo)\n",
    "knn_smot = knn.fit(X_smo_train_scaled, y_smo)\n",
    "xgb_smot = xgb.fit(X_smo, y_smo)\n",
    "rf_smot = rf.fit(X_smo, y_smo)"
   ]
  },
  {
   "cell_type": "code",
   "execution_count": 85,
   "id": "474f3f27",
   "metadata": {},
   "outputs": [],
   "source": [
    "models =  [lr_smot, dt_smot, xgb_smot, rf_smot]\n",
    "\n",
    "for model in models:\n",
    "    get_prediction(model, X_test, f\"Oversampling - {model}\")\n",
    "    get_roc_params(model, X_test, f\"Oversampling - {model}\")\n",
    "\n",
    "knn.fit(X_smo_train_scaled, y_smo)\n",
    "get_prediction(knn, X_test_scaled, \"Oversampling  - K Nearest Neighbors\")\n",
    "get_roc_params(knn, X_test_scaled, \"Oversampling - K Nearest Neighbors\")"
   ]
  },
  {
   "cell_type": "code",
   "execution_count": 86,
   "id": "9100f4c6",
   "metadata": {},
   "outputs": [
    {
     "data": {
      "text/html": [
       "<div>\n",
       "<style scoped>\n",
       "    .dataframe tbody tr th:only-of-type {\n",
       "        vertical-align: middle;\n",
       "    }\n",
       "\n",
       "    .dataframe tbody tr th {\n",
       "        vertical-align: top;\n",
       "    }\n",
       "\n",
       "    .dataframe thead th {\n",
       "        text-align: right;\n",
       "    }\n",
       "</style>\n",
       "<table border=\"1\" class=\"dataframe\">\n",
       "  <thead>\n",
       "    <tr style=\"text-align: right;\">\n",
       "      <th></th>\n",
       "      <th>model</th>\n",
       "      <th>accuracy</th>\n",
       "      <th>precision</th>\n",
       "      <th>recall</th>\n",
       "      <th>f1</th>\n",
       "      <th>auc</th>\n",
       "    </tr>\n",
       "  </thead>\n",
       "  <tbody>\n",
       "    <tr>\n",
       "      <th>0</th>\n",
       "      <td>XG Boost</td>\n",
       "      <td>0.871721</td>\n",
       "      <td>0.867502</td>\n",
       "      <td>0.871721</td>\n",
       "      <td>0.867834</td>\n",
       "      <td>0.801446</td>\n",
       "    </tr>\n",
       "    <tr>\n",
       "      <th>0</th>\n",
       "      <td>Random Forest</td>\n",
       "      <td>0.852131</td>\n",
       "      <td>0.846419</td>\n",
       "      <td>0.852131</td>\n",
       "      <td>0.842495</td>\n",
       "      <td>0.751164</td>\n",
       "    </tr>\n",
       "    <tr>\n",
       "      <th>0</th>\n",
       "      <td>Oversampling - RandomForestClassifier(max_dept...</td>\n",
       "      <td>0.852131</td>\n",
       "      <td>0.846419</td>\n",
       "      <td>0.852131</td>\n",
       "      <td>0.842495</td>\n",
       "      <td>0.751164</td>\n",
       "    </tr>\n",
       "    <tr>\n",
       "      <th>0</th>\n",
       "      <td>Decision Tree</td>\n",
       "      <td>0.850249</td>\n",
       "      <td>0.843776</td>\n",
       "      <td>0.850249</td>\n",
       "      <td>0.841819</td>\n",
       "      <td>0.754252</td>\n",
       "    </tr>\n",
       "    <tr>\n",
       "      <th>0</th>\n",
       "      <td>Oversampling - XGBClassifier(base_score=None, ...</td>\n",
       "      <td>0.847925</td>\n",
       "      <td>0.858006</td>\n",
       "      <td>0.847925</td>\n",
       "      <td>0.851494</td>\n",
       "      <td>0.822884</td>\n",
       "    </tr>\n",
       "    <tr>\n",
       "      <th>0</th>\n",
       "      <td>Logistic Regression</td>\n",
       "      <td>0.828224</td>\n",
       "      <td>0.818752</td>\n",
       "      <td>0.828224</td>\n",
       "      <td>0.819121</td>\n",
       "      <td>0.726891</td>\n",
       "    </tr>\n",
       "    <tr>\n",
       "      <th>0</th>\n",
       "      <td>K Nearest Neighbors</td>\n",
       "      <td>0.821583</td>\n",
       "      <td>0.815614</td>\n",
       "      <td>0.821583</td>\n",
       "      <td>0.817793</td>\n",
       "      <td>0.741479</td>\n",
       "    </tr>\n",
       "    <tr>\n",
       "      <th>0</th>\n",
       "      <td>Oversampling - DecisionTreeClassifier(ccp_alph...</td>\n",
       "      <td>0.821251</td>\n",
       "      <td>0.840848</td>\n",
       "      <td>0.821251</td>\n",
       "      <td>0.827502</td>\n",
       "      <td>0.803654</td>\n",
       "    </tr>\n",
       "    <tr>\n",
       "      <th>0</th>\n",
       "      <td>Oversampling - LogisticRegression(C=0.1, penal...</td>\n",
       "      <td>0.775650</td>\n",
       "      <td>0.833689</td>\n",
       "      <td>0.775650</td>\n",
       "      <td>0.789009</td>\n",
       "      <td>0.796381</td>\n",
       "    </tr>\n",
       "    <tr>\n",
       "      <th>0</th>\n",
       "      <td>Oversampling  - K Nearest Neighbors</td>\n",
       "      <td>0.757056</td>\n",
       "      <td>0.816765</td>\n",
       "      <td>0.757056</td>\n",
       "      <td>0.771565</td>\n",
       "      <td>0.772048</td>\n",
       "    </tr>\n",
       "  </tbody>\n",
       "</table>\n",
       "</div>"
      ],
      "text/plain": [
       "                                               model  accuracy  precision  \\\n",
       "0                                           XG Boost  0.871721   0.867502   \n",
       "0                                      Random Forest  0.852131   0.846419   \n",
       "0  Oversampling - RandomForestClassifier(max_dept...  0.852131   0.846419   \n",
       "0                                      Decision Tree  0.850249   0.843776   \n",
       "0  Oversampling - XGBClassifier(base_score=None, ...  0.847925   0.858006   \n",
       "0                                Logistic Regression  0.828224   0.818752   \n",
       "0                                K Nearest Neighbors  0.821583   0.815614   \n",
       "0  Oversampling - DecisionTreeClassifier(ccp_alph...  0.821251   0.840848   \n",
       "0  Oversampling - LogisticRegression(C=0.1, penal...  0.775650   0.833689   \n",
       "0                Oversampling  - K Nearest Neighbors  0.757056   0.816765   \n",
       "\n",
       "     recall        f1       auc  \n",
       "0  0.871721  0.867834  0.801446  \n",
       "0  0.852131  0.842495  0.751164  \n",
       "0  0.852131  0.842495  0.751164  \n",
       "0  0.850249  0.841819  0.754252  \n",
       "0  0.847925  0.851494  0.822884  \n",
       "0  0.828224  0.819121  0.726891  \n",
       "0  0.821583  0.817793  0.741479  \n",
       "0  0.821251  0.827502  0.803654  \n",
       "0  0.775650  0.789009  0.796381  \n",
       "0  0.757056  0.771565  0.772048  "
      ]
     },
     "execution_count": 86,
     "metadata": {},
     "output_type": "execute_result"
    }
   ],
   "source": [
    "metrics.sort_values(by=\"accuracy\", ascending=False, inplace = True)\n",
    "#Oversampling didnt bring better results in accuracy than not-rebalanced models\n",
    "#Each oversampled model performs worse than its not-rebalanced counterpart\n",
    "#Maybe other oversampling technique would bring other results\n",
    "metrics"
   ]
  },
  {
   "cell_type": "code",
   "execution_count": 87,
   "id": "6724610c",
   "metadata": {},
   "outputs": [
    {
     "data": {
      "text/html": [
       "<div>\n",
       "<style scoped>\n",
       "    .dataframe tbody tr th:only-of-type {\n",
       "        vertical-align: middle;\n",
       "    }\n",
       "\n",
       "    .dataframe tbody tr th {\n",
       "        vertical-align: top;\n",
       "    }\n",
       "\n",
       "    .dataframe thead th {\n",
       "        text-align: right;\n",
       "    }\n",
       "</style>\n",
       "<table border=\"1\" class=\"dataframe\">\n",
       "  <thead>\n",
       "    <tr style=\"text-align: right;\">\n",
       "      <th></th>\n",
       "      <th>model</th>\n",
       "      <th>accuracy</th>\n",
       "      <th>precision</th>\n",
       "      <th>recall</th>\n",
       "      <th>f1</th>\n",
       "      <th>auc</th>\n",
       "    </tr>\n",
       "  </thead>\n",
       "  <tbody>\n",
       "    <tr>\n",
       "      <th>0</th>\n",
       "      <td>XG Boost</td>\n",
       "      <td>0.871721</td>\n",
       "      <td>0.867502</td>\n",
       "      <td>0.871721</td>\n",
       "      <td>0.867834</td>\n",
       "      <td>0.801446</td>\n",
       "    </tr>\n",
       "    <tr>\n",
       "      <th>0</th>\n",
       "      <td>Random Forest</td>\n",
       "      <td>0.852131</td>\n",
       "      <td>0.846419</td>\n",
       "      <td>0.852131</td>\n",
       "      <td>0.842495</td>\n",
       "      <td>0.751164</td>\n",
       "    </tr>\n",
       "    <tr>\n",
       "      <th>0</th>\n",
       "      <td>Decision Tree</td>\n",
       "      <td>0.850249</td>\n",
       "      <td>0.843776</td>\n",
       "      <td>0.850249</td>\n",
       "      <td>0.841819</td>\n",
       "      <td>0.754252</td>\n",
       "    </tr>\n",
       "    <tr>\n",
       "      <th>0</th>\n",
       "      <td>Logistic Regression</td>\n",
       "      <td>0.828224</td>\n",
       "      <td>0.818752</td>\n",
       "      <td>0.828224</td>\n",
       "      <td>0.819121</td>\n",
       "      <td>0.726891</td>\n",
       "    </tr>\n",
       "    <tr>\n",
       "      <th>0</th>\n",
       "      <td>K Nearest Neighbors</td>\n",
       "      <td>0.821583</td>\n",
       "      <td>0.815614</td>\n",
       "      <td>0.821583</td>\n",
       "      <td>0.817793</td>\n",
       "      <td>0.741479</td>\n",
       "    </tr>\n",
       "  </tbody>\n",
       "</table>\n",
       "</div>"
      ],
      "text/plain": [
       "                 model  accuracy  precision    recall        f1       auc\n",
       "0             XG Boost  0.871721   0.867502  0.871721  0.867834  0.801446\n",
       "0        Random Forest  0.852131   0.846419  0.852131  0.842495  0.751164\n",
       "0        Decision Tree  0.850249   0.843776  0.850249  0.841819  0.754252\n",
       "0  Logistic Regression  0.828224   0.818752  0.828224  0.819121  0.726891\n",
       "0  K Nearest Neighbors  0.821583   0.815614  0.821583  0.817793  0.741479"
      ]
     },
     "execution_count": 87,
     "metadata": {},
     "output_type": "execute_result"
    }
   ],
   "source": [
    "oversampled = metrics['model'].str.contains('Oversampling')\n",
    "metrics = metrics[~oversampled]\n",
    "metrics"
   ]
  },
  {
   "cell_type": "code",
   "execution_count": 88,
   "id": "d05c0318",
   "metadata": {},
   "outputs": [
    {
     "data": {
      "text/html": [
       "<div>\n",
       "<style scoped>\n",
       "    .dataframe tbody tr th:only-of-type {\n",
       "        vertical-align: middle;\n",
       "    }\n",
       "\n",
       "    .dataframe tbody tr th {\n",
       "        vertical-align: top;\n",
       "    }\n",
       "\n",
       "    .dataframe thead th {\n",
       "        text-align: right;\n",
       "    }\n",
       "</style>\n",
       "<table border=\"1\" class=\"dataframe\">\n",
       "  <thead>\n",
       "    <tr style=\"text-align: right;\">\n",
       "      <th></th>\n",
       "      <th>model</th>\n",
       "      <th>tpr</th>\n",
       "      <th>fpr</th>\n",
       "      <th>auc</th>\n",
       "    </tr>\n",
       "  </thead>\n",
       "  <tbody>\n",
       "    <tr>\n",
       "      <th>0</th>\n",
       "      <td>Oversampling - XGBClassifier(base_score=None, ...</td>\n",
       "      <td>[0.0, 0.7732142857142857, 1.0]</td>\n",
       "      <td>[0.0, 0.1274466519499632, 1.0]</td>\n",
       "      <td>0.822884</td>\n",
       "    </tr>\n",
       "    <tr>\n",
       "      <th>0</th>\n",
       "      <td>Oversampling - DecisionTreeClassifier(ccp_alph...</td>\n",
       "      <td>[0.0, 0.76875, 1.0]</td>\n",
       "      <td>[0.0, 0.16144223693892568, 1.0]</td>\n",
       "      <td>0.803654</td>\n",
       "    </tr>\n",
       "    <tr>\n",
       "      <th>0</th>\n",
       "      <td>XG Boost</td>\n",
       "      <td>[0.0, 0.6620535714285715, 1.0]</td>\n",
       "      <td>[0.0, 0.059161147902869755, 1.0]</td>\n",
       "      <td>0.801446</td>\n",
       "    </tr>\n",
       "    <tr>\n",
       "      <th>0</th>\n",
       "      <td>Oversampling - LogisticRegression(C=0.1, penal...</td>\n",
       "      <td>[0.0, 0.8375, 1.0]</td>\n",
       "      <td>[0.0, 0.24473877851361295, 1.0]</td>\n",
       "      <td>0.796381</td>\n",
       "    </tr>\n",
       "    <tr>\n",
       "      <th>0</th>\n",
       "      <td>Oversampling - K Nearest Neighbors</td>\n",
       "      <td>[0.0, 0.8017857142857143, 1.0]</td>\n",
       "      <td>[0.0, 0.2576894775570272, 1.0]</td>\n",
       "      <td>0.772048</td>\n",
       "    </tr>\n",
       "    <tr>\n",
       "      <th>0</th>\n",
       "      <td>Decision Tree</td>\n",
       "      <td>[0.0, 0.5638392857142858, 1.0]</td>\n",
       "      <td>[0.0, 0.055334805003679176, 1.0]</td>\n",
       "      <td>0.754252</td>\n",
       "    </tr>\n",
       "    <tr>\n",
       "      <th>0</th>\n",
       "      <td>Random Forest</td>\n",
       "      <td>[0.0, 0.5508928571428572, 1.0]</td>\n",
       "      <td>[0.0, 0.04856512141280353, 1.0]</td>\n",
       "      <td>0.751164</td>\n",
       "    </tr>\n",
       "    <tr>\n",
       "      <th>0</th>\n",
       "      <td>Oversampling - RandomForestClassifier(max_dept...</td>\n",
       "      <td>[0.0, 0.5508928571428572, 1.0]</td>\n",
       "      <td>[0.0, 0.04856512141280353, 1.0]</td>\n",
       "      <td>0.751164</td>\n",
       "    </tr>\n",
       "    <tr>\n",
       "      <th>0</th>\n",
       "      <td>K Nearest Neighbors</td>\n",
       "      <td>[0.0, 0.5825892857142857, 1.0]</td>\n",
       "      <td>[0.0, 0.09963208241353937, 1.0]</td>\n",
       "      <td>0.741479</td>\n",
       "    </tr>\n",
       "    <tr>\n",
       "      <th>0</th>\n",
       "      <td>Logistic Regression</td>\n",
       "      <td>[0.0, 0.5258928571428572, 1.0]</td>\n",
       "      <td>[0.0, 0.07211184694628403, 1.0]</td>\n",
       "      <td>0.726891</td>\n",
       "    </tr>\n",
       "  </tbody>\n",
       "</table>\n",
       "</div>"
      ],
      "text/plain": [
       "                                               model  \\\n",
       "0  Oversampling - XGBClassifier(base_score=None, ...   \n",
       "0  Oversampling - DecisionTreeClassifier(ccp_alph...   \n",
       "0                                           XG Boost   \n",
       "0  Oversampling - LogisticRegression(C=0.1, penal...   \n",
       "0                 Oversampling - K Nearest Neighbors   \n",
       "0                                      Decision Tree   \n",
       "0                                      Random Forest   \n",
       "0  Oversampling - RandomForestClassifier(max_dept...   \n",
       "0                                K Nearest Neighbors   \n",
       "0                                Logistic Regression   \n",
       "\n",
       "                              tpr                               fpr       auc  \n",
       "0  [0.0, 0.7732142857142857, 1.0]    [0.0, 0.1274466519499632, 1.0]  0.822884  \n",
       "0             [0.0, 0.76875, 1.0]   [0.0, 0.16144223693892568, 1.0]  0.803654  \n",
       "0  [0.0, 0.6620535714285715, 1.0]  [0.0, 0.059161147902869755, 1.0]  0.801446  \n",
       "0              [0.0, 0.8375, 1.0]   [0.0, 0.24473877851361295, 1.0]  0.796381  \n",
       "0  [0.0, 0.8017857142857143, 1.0]    [0.0, 0.2576894775570272, 1.0]  0.772048  \n",
       "0  [0.0, 0.5638392857142858, 1.0]  [0.0, 0.055334805003679176, 1.0]  0.754252  \n",
       "0  [0.0, 0.5508928571428572, 1.0]   [0.0, 0.04856512141280353, 1.0]  0.751164  \n",
       "0  [0.0, 0.5508928571428572, 1.0]   [0.0, 0.04856512141280353, 1.0]  0.751164  \n",
       "0  [0.0, 0.5825892857142857, 1.0]   [0.0, 0.09963208241353937, 1.0]  0.741479  \n",
       "0  [0.0, 0.5258928571428572, 1.0]   [0.0, 0.07211184694628403, 1.0]  0.726891  "
      ]
     },
     "execution_count": 88,
     "metadata": {},
     "output_type": "execute_result"
    }
   ],
   "source": [
    "roc_params.sort_values(by='auc', ascending=False)\n",
    "#not suprisingly - the models got better in detecting positive cases - tpr rose, but in a trade off they\n",
    "#became worse in fpr - it rose as well\n",
    "#these findings are significant if there was a bigger emphasis on predicting one of the classes\n",
    "#overall - each oversampled model performed better than its counterpart if we picked AUC as criterion\n",
    "#in this case - we are intereseted more in overall accuracy so we will stick to previous results"
   ]
  },
  {
   "cell_type": "code",
   "execution_count": 89,
   "id": "06964218",
   "metadata": {},
   "outputs": [
    {
     "data": {
      "text/html": [
       "<div>\n",
       "<style scoped>\n",
       "    .dataframe tbody tr th:only-of-type {\n",
       "        vertical-align: middle;\n",
       "    }\n",
       "\n",
       "    .dataframe tbody tr th {\n",
       "        vertical-align: top;\n",
       "    }\n",
       "\n",
       "    .dataframe thead th {\n",
       "        text-align: right;\n",
       "    }\n",
       "</style>\n",
       "<table border=\"1\" class=\"dataframe\">\n",
       "  <thead>\n",
       "    <tr style=\"text-align: right;\">\n",
       "      <th></th>\n",
       "      <th>model</th>\n",
       "      <th>tpr</th>\n",
       "      <th>fpr</th>\n",
       "      <th>auc</th>\n",
       "    </tr>\n",
       "  </thead>\n",
       "  <tbody>\n",
       "    <tr>\n",
       "      <th>0</th>\n",
       "      <td>XG Boost</td>\n",
       "      <td>[0.0, 0.6620535714285715, 1.0]</td>\n",
       "      <td>[0.0, 0.059161147902869755, 1.0]</td>\n",
       "      <td>0.801446</td>\n",
       "    </tr>\n",
       "    <tr>\n",
       "      <th>0</th>\n",
       "      <td>Decision Tree</td>\n",
       "      <td>[0.0, 0.5638392857142858, 1.0]</td>\n",
       "      <td>[0.0, 0.055334805003679176, 1.0]</td>\n",
       "      <td>0.754252</td>\n",
       "    </tr>\n",
       "    <tr>\n",
       "      <th>0</th>\n",
       "      <td>Random Forest</td>\n",
       "      <td>[0.0, 0.5508928571428572, 1.0]</td>\n",
       "      <td>[0.0, 0.04856512141280353, 1.0]</td>\n",
       "      <td>0.751164</td>\n",
       "    </tr>\n",
       "    <tr>\n",
       "      <th>0</th>\n",
       "      <td>K Nearest Neighbors</td>\n",
       "      <td>[0.0, 0.5825892857142857, 1.0]</td>\n",
       "      <td>[0.0, 0.09963208241353937, 1.0]</td>\n",
       "      <td>0.741479</td>\n",
       "    </tr>\n",
       "    <tr>\n",
       "      <th>0</th>\n",
       "      <td>Logistic Regression</td>\n",
       "      <td>[0.0, 0.5258928571428572, 1.0]</td>\n",
       "      <td>[0.0, 0.07211184694628403, 1.0]</td>\n",
       "      <td>0.726891</td>\n",
       "    </tr>\n",
       "  </tbody>\n",
       "</table>\n",
       "</div>"
      ],
      "text/plain": [
       "                 model                             tpr  \\\n",
       "0             XG Boost  [0.0, 0.6620535714285715, 1.0]   \n",
       "0        Decision Tree  [0.0, 0.5638392857142858, 1.0]   \n",
       "0        Random Forest  [0.0, 0.5508928571428572, 1.0]   \n",
       "0  K Nearest Neighbors  [0.0, 0.5825892857142857, 1.0]   \n",
       "0  Logistic Regression  [0.0, 0.5258928571428572, 1.0]   \n",
       "\n",
       "                                fpr       auc  \n",
       "0  [0.0, 0.059161147902869755, 1.0]  0.801446  \n",
       "0  [0.0, 0.055334805003679176, 1.0]  0.754252  \n",
       "0   [0.0, 0.04856512141280353, 1.0]  0.751164  \n",
       "0   [0.0, 0.09963208241353937, 1.0]  0.741479  \n",
       "0   [0.0, 0.07211184694628403, 1.0]  0.726891  "
      ]
     },
     "execution_count": 89,
     "metadata": {},
     "output_type": "execute_result"
    }
   ],
   "source": [
    "oversampled = roc_params['model'].str.contains('Oversampling')\n",
    "roc_params = roc_params[~oversampled]\n",
    "roc_params.sort_values(by='auc', ascending=False, inplace=True)\n",
    "roc_params"
   ]
  },
  {
   "cell_type": "markdown",
   "id": "940c9506",
   "metadata": {},
   "source": [
    "## Feature importances"
   ]
  },
  {
   "cell_type": "code",
   "execution_count": 90,
   "id": "64961165",
   "metadata": {},
   "outputs": [],
   "source": [
    "def visualize_feature_importance(importance_array, model_name):\n",
    "    sorted_idx = importance_array.importances_mean.argsort()\n",
    "    fig, ax = plt.subplots()\n",
    "    fig.set_figwidth(16)\n",
    "    fig.set_figheight(10)\n",
    "    fig.tight_layout()\n",
    "    ax.boxplot(importance_array.importances[sorted_idx].T,\n",
    "               vert=False, labels=X_train.columns[sorted_idx])\n",
    "    ax.set_title(f'Permutation Importances - {model_name}')\n",
    "    plt.show()"
   ]
  },
  {
   "cell_type": "code",
   "execution_count": 91,
   "id": "b5aea373",
   "metadata": {},
   "outputs": [],
   "source": [
    "lr_fi = permutation_importance(estimator=lr, X = X_train, y = y_train, n_repeats=5,\n",
    "                                random_state=777, n_jobs=-1)\n",
    "dt_fi = permutation_importance(estimator=dt, X = X_train, y = y_train, n_repeats=5,\n",
    "                                random_state=777, n_jobs=-1)\n",
    "knn_fi = permutation_importance(estimator=knn, X = X_train_scaled, y = y_train, n_repeats=5,\n",
    "                                random_state=777, n_jobs=-1)\n",
    "xgb_fi = permutation_importance(estimator=xgb, X = X_train, y = y_train, n_repeats=5,\n",
    "                                random_state=777, n_jobs=-1)\n",
    "rf_fi = permutation_importance(estimator=rf, X = X_train, y = y_train, n_repeats=5,\n",
    "                                random_state=777, n_jobs=-1)"
   ]
  },
  {
   "cell_type": "code",
   "execution_count": 92,
   "id": "5c90c60c",
   "metadata": {},
   "outputs": [
    {
     "data": {
      "text/plain": [
       "array([ 4,  7,  5, 10,  2,  8,  9,  0,  1, 11,  3,  6], dtype=int64)"
      ]
     },
     "execution_count": 92,
     "metadata": {},
     "output_type": "execute_result"
    }
   ],
   "source": [
    "lr_fi.importances_mean.argsort()"
   ]
  },
  {
   "cell_type": "code",
   "execution_count": 93,
   "id": "c0efe992",
   "metadata": {},
   "outputs": [
    {
     "data": {
      "image/png": "[encoded data removed]",
      "text/plain": [
       "<Figure size 1600x1000 with 1 Axes>"
      ]
     },
     "metadata": {},
     "output_type": "display_data"
    }
   ],
   "source": [
    "visualize_feature_importance(lr_fi,\"Logistic Regression\")"
   ]
  },
  {
   "cell_type": "code",
   "execution_count": 94,
   "id": "29d97e10",
   "metadata": {},
   "outputs": [
    {
     "data": {
      "image/png": "[encoded data removed]",
      "text/plain": [
       "<Figure size 1600x1000 with 1 Axes>"
      ]
     },
     "metadata": {},
     "output_type": "display_data"
    }
   ],
   "source": [
    "visualize_feature_importance(dt_fi,\"Logistic Regression\")"
   ]
  },
  {
   "cell_type": "code",
   "execution_count": 95,
   "id": "505b2055",
   "metadata": {},
   "outputs": [
    {
     "data": {
      "image/png": "[encoded data removed]",
      "text/plain": [
       "<Figure size 1600x1000 with 1 Axes>"
      ]
     },
     "metadata": {},
     "output_type": "display_data"
    }
   ],
   "source": [
    "visualize_feature_importance(knn_fi,\"K Nearest Neighbors\")"
   ]
  },
  {
   "cell_type": "code",
   "execution_count": 96,
   "id": "c5f051a3",
   "metadata": {},
   "outputs": [
    {
     "data": {
      "image/png": "[encoded data removed]",
      "text/plain": [
       "<Figure size 1600x1000 with 1 Axes>"
      ]
     },
     "metadata": {},
     "output_type": "display_data"
    }
   ],
   "source": [
    "visualize_feature_importance(xgb_fi,\"XG Boost\")"
   ]
  },
  {
   "cell_type": "code",
   "execution_count": 97,
   "id": "20af2062",
   "metadata": {},
   "outputs": [
    {
     "data": {
      "image/png": "[encoded data removed]",
      "text/plain": [
       "<Figure size 1600x1000 with 1 Axes>"
      ]
     },
     "metadata": {},
     "output_type": "display_data"
    }
   ],
   "source": [
    "visualize_feature_importance(rf_fi,\"Random Forest\")"
   ]
  },
  {
   "cell_type": "markdown",
   "id": "50027421",
   "metadata": {},
   "source": [
    "## Model performance comparison"
   ]
  },
  {
   "cell_type": "markdown",
   "id": "cfd3531f",
   "metadata": {},
   "source": [
    "In this section, the best models will be compared agains each other, on the same test sets and with the same cross validation method. All results will be gathered and presented on bar charts regarding accuracy, precision, recall, F1 score and ROC curve."
   ]
  },
  {
   "cell_type": "code",
   "execution_count": 98,
   "id": "ec0378db",
   "metadata": {},
   "outputs": [
    {
     "name": "stderr",
     "output_type": "stream",
     "text": [
      "C:\\Users\\apobi\\AppData\\Local\\Temp\\ipykernel_10916\\2431622565.py:2: SettingWithCopyWarning: \n",
      "A value is trying to be set on a copy of a slice from a DataFrame\n",
      "\n",
      "See the caveats in the documentation: https://pandas.pydata.org/pandas-docs/stable/user_guide/indexing.html#returning-a-view-versus-a-copy\n",
      "  metrics.sort_values(by='accuracy', ascending=False, inplace=True)\n"
     ]
    },
    {
     "data": {
      "image/png": "[encoded data removed]",
      "text/plain": [
       "<Figure size 960x800 with 1 Axes>"
      ]
     },
     "metadata": {},
     "output_type": "display_data"
    }
   ],
   "source": [
    "x = np.arange(5)\n",
    "metrics.sort_values(by='accuracy', ascending=False, inplace=True)\n",
    "xgb_scores = metrics.iloc[0, 1:].values\n",
    "rf_scores = metrics.iloc[1, 1:].values\n",
    "dt_scores = metrics.iloc[2, 1:].values\n",
    "lr_scores = metrics.iloc[3, 1:].values\n",
    "knn_scores = metrics.iloc[3, 1:].values\n",
    "width = 0.15\n",
    "figure(figsize=(12, 10), dpi=80)\n",
    "plt.bar(x-0.3, xgb_scores, width, color='#3498db')\n",
    "plt.bar(x-0.15, rf_scores, width, color='#95a5a6')\n",
    "plt.bar(x, dt_scores, width, color='#d35400')\n",
    "plt.bar(x+0.15, lr_scores, width, color='#2980b9')\n",
    "plt.bar(x+0.3, knn_scores, width, color='#90EE90')\n",
    "plt.xticks(x, ['Accuracy', 'Precision', 'Recall', 'Fscore', 'AUC'])\n",
    "plt.xlabel(\"Evaluation Metrics\")\n",
    "plt.ylabel(\"Score\")\n",
    "plt.legend([\"XGBoost\", \"Random Forest\", \"Decision Tree\", \"Logistic Regression\", \"K-Nearest Neighbors\"])\n",
    "plt.show()"
   ]
  },
  {
   "cell_type": "markdown",
   "id": "1e229a34",
   "metadata": {},
   "source": [
    "As shown on the plot, XGBoost is the best model across all algorithm types according to all metrics. <br> Next - Random Forest and Decision Trees gave similar outcomes, with a slight advantage to Random Forest side, only in terms of AUC the Decision Tree was better. \n",
    "<br> On the 4th and 5th place were claimed by Linear Regression and K-Nearest Neighbors - both achieving very similar results."
   ]
  },
  {
   "cell_type": "code",
   "execution_count": 99,
   "id": "caff02ee",
   "metadata": {},
   "outputs": [
    {
     "data": {
      "text/html": [
       "<div>\n",
       "<style scoped>\n",
       "    .dataframe tbody tr th:only-of-type {\n",
       "        vertical-align: middle;\n",
       "    }\n",
       "\n",
       "    .dataframe tbody tr th {\n",
       "        vertical-align: top;\n",
       "    }\n",
       "\n",
       "    .dataframe thead th {\n",
       "        text-align: right;\n",
       "    }\n",
       "</style>\n",
       "<table border=\"1\" class=\"dataframe\">\n",
       "  <thead>\n",
       "    <tr style=\"text-align: right;\">\n",
       "      <th></th>\n",
       "      <th>model</th>\n",
       "      <th>tpr</th>\n",
       "      <th>fpr</th>\n",
       "      <th>auc</th>\n",
       "    </tr>\n",
       "  </thead>\n",
       "  <tbody>\n",
       "    <tr>\n",
       "      <th>0</th>\n",
       "      <td>XG Boost</td>\n",
       "      <td>[0.0, 0.6620535714285715, 1.0]</td>\n",
       "      <td>[0.0, 0.059161147902869755, 1.0]</td>\n",
       "      <td>0.801446</td>\n",
       "    </tr>\n",
       "    <tr>\n",
       "      <th>0</th>\n",
       "      <td>Decision Tree</td>\n",
       "      <td>[0.0, 0.5638392857142858, 1.0]</td>\n",
       "      <td>[0.0, 0.055334805003679176, 1.0]</td>\n",
       "      <td>0.754252</td>\n",
       "    </tr>\n",
       "    <tr>\n",
       "      <th>0</th>\n",
       "      <td>Random Forest</td>\n",
       "      <td>[0.0, 0.5508928571428572, 1.0]</td>\n",
       "      <td>[0.0, 0.04856512141280353, 1.0]</td>\n",
       "      <td>0.751164</td>\n",
       "    </tr>\n",
       "    <tr>\n",
       "      <th>0</th>\n",
       "      <td>K Nearest Neighbors</td>\n",
       "      <td>[0.0, 0.5825892857142857, 1.0]</td>\n",
       "      <td>[0.0, 0.09963208241353937, 1.0]</td>\n",
       "      <td>0.741479</td>\n",
       "    </tr>\n",
       "    <tr>\n",
       "      <th>0</th>\n",
       "      <td>Logistic Regression</td>\n",
       "      <td>[0.0, 0.5258928571428572, 1.0]</td>\n",
       "      <td>[0.0, 0.07211184694628403, 1.0]</td>\n",
       "      <td>0.726891</td>\n",
       "    </tr>\n",
       "  </tbody>\n",
       "</table>\n",
       "</div>"
      ],
      "text/plain": [
       "                 model                             tpr  \\\n",
       "0             XG Boost  [0.0, 0.6620535714285715, 1.0]   \n",
       "0        Decision Tree  [0.0, 0.5638392857142858, 1.0]   \n",
       "0        Random Forest  [0.0, 0.5508928571428572, 1.0]   \n",
       "0  K Nearest Neighbors  [0.0, 0.5825892857142857, 1.0]   \n",
       "0  Logistic Regression  [0.0, 0.5258928571428572, 1.0]   \n",
       "\n",
       "                                fpr       auc  \n",
       "0  [0.0, 0.059161147902869755, 1.0]  0.801446  \n",
       "0  [0.0, 0.055334805003679176, 1.0]  0.754252  \n",
       "0   [0.0, 0.04856512141280353, 1.0]  0.751164  \n",
       "0   [0.0, 0.09963208241353937, 1.0]  0.741479  \n",
       "0   [0.0, 0.07211184694628403, 1.0]  0.726891  "
      ]
     },
     "execution_count": 99,
     "metadata": {},
     "output_type": "execute_result"
    }
   ],
   "source": [
    "roc_params.sort_values(by='auc', ascending=False, inplace=True)\n",
    "roc_params"
   ]
  },
  {
   "cell_type": "code",
   "execution_count": 100,
   "id": "cec59198",
   "metadata": {},
   "outputs": [],
   "source": [
    "model_names = []\n",
    "for i in range(len(roc_params)):\n",
    "    model_names.append(roc_params.iloc[i][0])\n",
    "colors = [\"b\",\"g\",\"r\",\"y\",\"m\"]"
   ]
  },
  {
   "cell_type": "code",
   "execution_count": 101,
   "id": "6f8db7ac",
   "metadata": {},
   "outputs": [
    {
     "data": {
      "image/png": "[encoded data removed]",
      "text/plain": [
       "<Figure size 800x600 with 1 Axes>"
      ]
     },
     "metadata": {},
     "output_type": "display_data"
    }
   ],
   "source": [
    "plt.figure(figsize=(8, 6))\n",
    "for i in range(5):\n",
    "    plt.plot(roc_params.iloc[i][2], \n",
    "             roc_params.iloc[i][1], \n",
    "             color = colors[i], \n",
    "             label=f'{model_names[i]} (AUC = {roc_params.iloc[i][3]:.4f})')\n",
    "plt.plot([0, 1], [0, 1], color='gray', linestyle='--')\n",
    "plt.xlim([0.0, 1.0])\n",
    "plt.ylim([0.0, 1.05])\n",
    "plt.xlabel('False Positive Rate (FPR)')\n",
    "plt.ylabel('True Positive Rate (TPR)')\n",
    "plt.title('Receiver Operating Characteristic (ROC) Curve')\n",
    "plt.legend(loc=\"lower right\")\n",
    "plt.grid()\n",
    "plt.show()"
   ]
  },
  {
   "cell_type": "markdown",
   "id": "8678e82a",
   "metadata": {},
   "source": [
    "As before, the ROC of XG Boost (blue) is on the top, so the model performed best. <br>\n",
    "The curves of Decision Tree and Random Forest are very close to each other, right above K Nearest Neighbors.\n",
    "<br> Logistic Regression lays at the bottom.\n",
    "<br> Overall, there is a significant difference between XG Boost performance and the rest of models."
   ]
  },
  {
   "cell_type": "markdown",
   "id": "20c3eef4",
   "metadata": {},
   "source": [
    "## Summary"
   ]
  },
  {
   "cell_type": "markdown",
   "id": "3c6029b9",
   "metadata": {},
   "source": [
    "### Model selection"
   ]
  },
  {
   "cell_type": "markdown",
   "id": "718e53b4",
   "metadata": {},
   "source": [
    "To sum up, in terms of the best accuracy ensemble methods seem to perform better than individual ones. Model, that proved to be most accurate is XG Boost. However, this model is not so interpretable, as decision trees and logistic regression. In this approach, we focused on getting the best prediction power, so the XG Boost model is the final choice."
   ]
  },
  {
   "cell_type": "markdown",
   "id": "1ed8ffe5",
   "metadata": {},
   "source": [
    "### Key Findings"
   ]
  },
  {
   "cell_type": "markdown",
   "id": "66a8bf82",
   "metadata": {},
   "source": [
    "##### Most models calculation point out that variables that stand out in importance are:\n",
    "<li>Relationship - information weather the person is married, not in family, etc.</li>\n",
    "<li>Education - level of education aquired,</li>\n",
    "<li>Capital revenue - difference between capital gain and loss,</li>\n",
    "<li>Marital status - whether person is married, divorced, widowed, etc. </li>   \n",
    "<br>Variables that have the least impact on target variable are race and native country."
   ]
  },
  {
   "cell_type": "markdown",
   "id": "e61317cd",
   "metadata": {},
   "source": [
    "### Next steps"
   ]
  },
  {
   "cell_type": "markdown",
   "id": "01be05bd",
   "metadata": {},
   "source": [
    "To enhance model potential, the ensemble methods can be applied to well trained advanced estimator, to check if this combination brings any better results. However this approach require a lot of computing power and could not be performed in this analysis.\n",
    "<br>Addition of more diversified data could also be the next part of exploration, as over 90% of the data come from the US-born individuals.\n",
    "<br>Moreover, after implementing chosen models may bring next points to analyse, as data tend to behave different over time and some of variables may prove to be very significant in terms of prediction."
   ]
  }
 ],
 "metadata": {
  "kernelspec": {
   "display_name": "Python 3 (ipykernel)",
   "language": "python",
   "name": "python3"
  },
  "language_info": {
   "codemirror_mode": {
    "name": "ipython",
    "version": 3
   },
   "file_extension": ".py",
   "mimetype": "text/x-python",
   "name": "python",
   "nbconvert_exporter": "python",
   "pygments_lexer": "ipython3",
   "version": "3.11.5"
  }
 },
 "nbformat": 4,
 "nbformat_minor": 5
}
